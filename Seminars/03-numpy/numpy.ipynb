{
 "cells": [
  {
   "cell_type": "markdown",
   "metadata": {
    "slideshow": {
     "slide_type": "slide"
    }
   },
   "source": [
    "# `Практикум по программированию на языке Python`\n",
    "<br>\n",
    "\n",
    "## `Занятие 3: Numpy и матрично-векторные вычисления`\n",
    "<br><br>\n",
    "\n",
    "### `Находнов Максим (nakhodnov17@gmail.com)`\n",
    "\n",
    "#### `Москва, 2022`"
   ]
  },
  {
   "cell_type": "markdown",
   "metadata": {},
   "source": [
    "О чём можно узнать из этого ноутбука:\n",
    "\n",
    "* операции при работе с массивами\n",
    "* многомерные массивы\n",
    "* изменение размеров массивов\n",
    "* broadcasting\n",
    "* продвинутая индексация\n",
    "* view и копирование\n",
    "* свёртка\n",
    "* разные прикладные задачи"
   ]
  },
  {
   "cell_type": "code",
   "execution_count": 1,
   "metadata": {
    "ExecuteTime": {
     "end_time": "2022-09-22T08:00:48.254252Z",
     "start_time": "2022-09-22T08:00:48.244253Z"
    }
   },
   "outputs": [],
   "source": [
    "import warnings\n",
    "warnings.filterwarnings('ignore')"
   ]
  },
  {
   "cell_type": "markdown",
   "metadata": {
    "slideshow": {
     "slide_type": "slide"
    }
   },
   "source": [
    "### `Представление матрицы в Python`\n",
    "\n",
    "Простейший вариант - список списков:"
   ]
  },
  {
   "cell_type": "code",
   "execution_count": 2,
   "metadata": {
    "ExecuteTime": {
     "end_time": "2022-09-22T08:00:48.538438Z",
     "start_time": "2022-09-22T08:00:48.524440Z"
    }
   },
   "outputs": [
    {
     "name": "stdout",
     "output_type": "stream",
     "text": [
      "[1, 2, 3]\n",
      "[4, 5, 6]\n",
      "[7, 8, 9]\n",
      "\n",
      "[1, 0, 0]\n",
      "[0, 2, 0]\n",
      "[0, 0, 3]\n",
      "\n"
     ]
    }
   ],
   "source": [
    "A = [\n",
    "    [1, 2, 3],\n",
    "    [4, 5, 6],\n",
    "    [7, 8, 9],\n",
    "]\n",
    "\n",
    "B = [\n",
    "    [1, 0, 0],\n",
    "    [0, 2, 0],\n",
    "    [0, 0, 3],\n",
    "]\n",
    "\n",
    "def print_matrix(A):\n",
    "    for row in A:\n",
    "        print(row)\n",
    "    print()\n",
    "\n",
    "print_matrix(A)\n",
    "print_matrix(B)"
   ]
  },
  {
   "cell_type": "markdown",
   "metadata": {},
   "source": [
    "### `Представление матрицы в Python`"
   ]
  },
  {
   "cell_type": "markdown",
   "metadata": {},
   "source": [
    "<font color='brown'>**Задача 1.** Задайте матрицу `C` размером $9$ на $10$, в которой $ij$-ый элемент будет равен $10 i + j$. Не используйте библиотеку `numpy`!</font>"
   ]
  },
  {
   "cell_type": "code",
   "execution_count": 3,
   "metadata": {
    "ExecuteTime": {
     "end_time": "2022-09-22T08:00:48.980437Z",
     "start_time": "2022-09-22T08:00:48.972436Z"
    }
   },
   "outputs": [],
   "source": [
    "### your code here"
   ]
  },
  {
   "cell_type": "markdown",
   "metadata": {},
   "source": [
    "Проверьте себя:"
   ]
  },
  {
   "cell_type": "code",
   "execution_count": null,
   "metadata": {
    "ExecuteTime": {
     "end_time": "2022-09-22T07:34:44.917671Z",
     "start_time": "2022-09-22T07:34:44.901672Z"
    },
    "deletable": false,
    "editable": false,
    "run_control": {
     "frozen": true
    }
   },
   "outputs": [],
   "source": [
    "assert len(C) == 9\n",
    "assert len(C[0]) == 10\n",
    "assert C[8][3] == 83\n",
    "\n",
    "print_matrix(C)"
   ]
  },
  {
   "cell_type": "markdown",
   "metadata": {},
   "source": [
    "### `Представление матрицы в Python`"
   ]
  },
  {
   "cell_type": "markdown",
   "metadata": {},
   "source": [
    "Одна из проблем списков — отсутствие поэлементных и матричных операций.\n",
    "\n",
    "Другой недостаток — работа со списками не позволяет использовать векторные инструкции в процессоре, которые на порядки ускоряют матричные вычисления"
   ]
  },
  {
   "cell_type": "markdown",
   "metadata": {},
   "source": [
    "Попробуем самостоятельно реализовать несколько методов для матричных вычислений, работающих с представлением матриц в виде списков.\n",
    "\n",
    "Для оценки производительности будем использовать *декооратор* `timed`:"
   ]
  },
  {
   "cell_type": "code",
   "execution_count": 4,
   "metadata": {
    "ExecuteTime": {
     "end_time": "2022-09-22T08:00:50.167484Z",
     "start_time": "2022-09-22T08:00:50.156486Z"
    },
    "slideshow": {
     "slide_type": "skip"
    }
   },
   "outputs": [],
   "source": [
    "def timed(method):\n",
    "    import time\n",
    "    def __timed(*args, **kw):\n",
    "        time_start = time.time()\n",
    "        result = method(*args, **kw)\n",
    "        time_end = time.time()\n",
    "        \n",
    "        print('{}  {:.3f} ms\\n'.format(method.__name__,\n",
    "                                      (time_end - time_start) * 1000))\n",
    "        return result\n",
    "\n",
    "    return __timed"
   ]
  },
  {
   "cell_type": "markdown",
   "metadata": {
    "slideshow": {
     "slide_type": "slide"
    }
   },
   "source": [
    "### `Опишем базовые операции: сложение`"
   ]
  },
  {
   "cell_type": "code",
   "execution_count": 5,
   "metadata": {
    "ExecuteTime": {
     "end_time": "2022-09-22T08:00:50.494747Z",
     "start_time": "2022-09-22T08:00:50.484748Z"
    }
   },
   "outputs": [
    {
     "name": "stdout",
     "output_type": "stream",
     "text": [
      "matrix_add  0.000 ms\n",
      "\n",
      "[2, 2, 3]\n",
      "[4, 7, 6]\n",
      "[7, 8, 12]\n",
      "\n"
     ]
    }
   ],
   "source": [
    "@timed\n",
    "def matrix_add(A, B):\n",
    "    # skip correctness of dimensions check\n",
    "\n",
    "    n, m = len(A), len(A[0])\n",
    "    C = [[0.0 for _ in range(m)] for _ in range(n)]\n",
    "\n",
    "    for i in range(n):\n",
    "        for j in range(m):\n",
    "            C[i][j] = A[i][j] + B[i][j]\n",
    "    return C\n",
    "\n",
    "print_matrix(matrix_add(A, B))"
   ]
  },
  {
   "cell_type": "markdown",
   "metadata": {
    "slideshow": {
     "slide_type": "slide"
    }
   },
   "source": [
    "### `Опишем базовые операции: транспонирование`"
   ]
  },
  {
   "cell_type": "code",
   "execution_count": 6,
   "metadata": {
    "ExecuteTime": {
     "end_time": "2022-09-22T08:00:50.795422Z",
     "start_time": "2022-09-22T08:00:50.780423Z"
    }
   },
   "outputs": [
    {
     "name": "stdout",
     "output_type": "stream",
     "text": [
      "matrix_transpose  0.000 ms\n",
      "\n",
      "[1, 4, 7]\n",
      "[2, 5, 8]\n",
      "[3, 6, 9]\n",
      "\n"
     ]
    }
   ],
   "source": [
    "@timed\n",
    "def matrix_transpose(A):\n",
    "    n, m = len(A), len(A[0])\n",
    "    C = [[0.0 for _ in range(n)] for _ in range(m)]\n",
    "\n",
    "    for i in range(n):\n",
    "        for j in range(m):\n",
    "            C[j][i] = A[i][j]\n",
    "    return C\n",
    "\n",
    "print_matrix(matrix_transpose(A))"
   ]
  },
  {
   "cell_type": "markdown",
   "metadata": {
    "slideshow": {
     "slide_type": "slide"
    }
   },
   "source": [
    "### `Опишем базовые операции: умножение`"
   ]
  },
  {
   "cell_type": "code",
   "execution_count": 7,
   "metadata": {
    "ExecuteTime": {
     "end_time": "2022-09-22T08:00:51.093622Z",
     "start_time": "2022-09-22T08:00:51.084622Z"
    }
   },
   "outputs": [
    {
     "name": "stdout",
     "output_type": "stream",
     "text": [
      "matrix_transpose  0.000 ms\n",
      "\n",
      "matrix_mul  0.000 ms\n",
      "\n",
      "[1, 4, 9]\n",
      "[4, 10, 18]\n",
      "[7, 16, 27]\n",
      "\n"
     ]
    }
   ],
   "source": [
    "def dot(a, b):\n",
    "    return sum(x * y for (x, y) in zip(a, b))\n",
    "\n",
    "@timed\n",
    "def matrix_mul(A, B):\n",
    "    # check correctness of dimensions\n",
    "    n, m = len(A), len(B[0])\n",
    "    C = [[0.0 for _ in range(n)] for _ in range(m)]\n",
    "\n",
    "    B_T = matrix_transpose(B)\n",
    "    for i in range(n):\n",
    "        for j in range(m):\n",
    "            C[i][j] = dot(A[i], B_T[j]) \n",
    "    return C\n",
    "\n",
    "print_matrix(matrix_mul(A, B))"
   ]
  },
  {
   "cell_type": "markdown",
   "metadata": {
    "slideshow": {
     "slide_type": "slide"
    }
   },
   "source": [
    "### `Библиотека NumPy`\n",
    "\n",
    "- Позволяет работать с многомерными массивами<br><br>\n",
    "\n",
    "- Реализует множество базовых матричных операций<br><br>\n",
    "\n",
    "- Работает на порядки быстрее самописных реализаций в Python<br><br>\n",
    "\n",
    "- Поддерживается большинством сторонних модулей, работающих с матрицами<br><br>"
   ]
  },
  {
   "cell_type": "code",
   "execution_count": 8,
   "metadata": {
    "ExecuteTime": {
     "end_time": "2022-09-22T08:00:51.493514Z",
     "start_time": "2022-09-22T08:00:51.428515Z"
    }
   },
   "outputs": [],
   "source": [
    "# from numpy import * — НЕ ДЕЛАЙТЕ ТАК\n",
    "import numpy as np"
   ]
  },
  {
   "cell_type": "markdown",
   "metadata": {},
   "source": [
    "Текущая версия:"
   ]
  },
  {
   "cell_type": "code",
   "execution_count": 9,
   "metadata": {
    "ExecuteTime": {
     "end_time": "2022-09-22T08:00:51.756417Z",
     "start_time": "2022-09-22T08:00:51.748417Z"
    }
   },
   "outputs": [
    {
     "data": {
      "text/plain": [
       "'1.23.2'"
      ]
     },
     "execution_count": 9,
     "metadata": {},
     "output_type": "execute_result"
    }
   ],
   "source": [
    "np.__version__"
   ]
  },
  {
   "cell_type": "markdown",
   "metadata": {
    "slideshow": {
     "slide_type": "slide"
    }
   },
   "source": [
    "### `Почему NumPy быстрая`\n",
    "\n",
    "- Значительная часть кода написана на C<br><br>\n",
    "\n",
    "- Базовым классом является `ndarray`, имеющий следующие отличия от списков:\n",
    "\n",
    "    1. NumPy array имеет фиксированную длину, задаваемую в момент его создания (списки в Python могут менять размер динамически)\n",
    "\n",
    "    2. Все элементы в NumPy array имеют один тип<br><br>\n",
    "\n",
    "- NumPy array хранится в памяти в виде одного последовательного блока, что позволяет эффективно использовать процессорный кэш и векторные инструкции<br><br>\n",
    "\n",
    "- NumPy можно подключить к высокооптимизированным библиотекам для матричной алгебры (BLAS, LAPACK, Intel MKL)<br><br>\n",
    "\n",
    "- Часть матричных операций может быть распараллелена при наличии в системе нескольких потоков\n"
   ]
  },
  {
   "cell_type": "markdown",
   "metadata": {
    "slideshow": {
     "slide_type": "slide"
    }
   },
   "source": [
    "### `Способы создания NumPy array`\n",
    "\n",
    "1. Пустой\n",
    "2. Заполненный нулями\n",
    "3. Заполненный единицами\n",
    "4. Заполненный нужным значением"
   ]
  },
  {
   "cell_type": "code",
   "execution_count": 10,
   "metadata": {
    "ExecuteTime": {
     "end_time": "2022-09-22T08:00:52.259961Z",
     "start_time": "2022-09-22T08:00:52.252963Z"
    }
   },
   "outputs": [
    {
     "name": "stdout",
     "output_type": "stream",
     "text": [
      "[[0. 0. 0.]\n",
      " [0. 0. 0.]]\n"
     ]
    }
   ],
   "source": [
    "print(np.empty(shape=[2, 3]))  # values are arbitrary"
   ]
  },
  {
   "cell_type": "code",
   "execution_count": 11,
   "metadata": {
    "ExecuteTime": {
     "end_time": "2022-09-22T08:00:52.445821Z",
     "start_time": "2022-09-22T08:00:52.436823Z"
    }
   },
   "outputs": [
    {
     "name": "stdout",
     "output_type": "stream",
     "text": [
      "[[0. 0. 0.]\n",
      " [0. 0. 0.]]\n"
     ]
    }
   ],
   "source": [
    "print(np.zeros([2, 3]))"
   ]
  },
  {
   "cell_type": "code",
   "execution_count": 12,
   "metadata": {
    "ExecuteTime": {
     "end_time": "2022-09-22T08:00:52.637411Z",
     "start_time": "2022-09-22T08:00:52.620413Z"
    }
   },
   "outputs": [
    {
     "name": "stdout",
     "output_type": "stream",
     "text": [
      "[[1. 1. 1.]\n",
      " [1. 1. 1.]]\n"
     ]
    }
   ],
   "source": [
    "print(np.ones([2, 3]))"
   ]
  },
  {
   "cell_type": "code",
   "execution_count": 13,
   "metadata": {
    "ExecuteTime": {
     "end_time": "2022-09-22T08:00:52.811524Z",
     "start_time": "2022-09-22T08:00:52.796522Z"
    }
   },
   "outputs": [
    {
     "name": "stdout",
     "output_type": "stream",
     "text": [
      "[[3. 3. 3.]\n",
      " [3. 3. 3.]]\n"
     ]
    }
   ],
   "source": [
    "print(np.full([2, 3], 3.0))"
   ]
  },
  {
   "cell_type": "markdown",
   "metadata": {},
   "source": [
    "### `Способы создания NumPy array`"
   ]
  },
  {
   "cell_type": "markdown",
   "metadata": {},
   "source": [
    "Указанные четыре функции имеют аналоги с суффиксом `*_like`, которые создают массив того же размера, что передан в качестве агрумента:"
   ]
  },
  {
   "cell_type": "code",
   "execution_count": 14,
   "metadata": {
    "ExecuteTime": {
     "end_time": "2022-09-22T08:00:53.349381Z",
     "start_time": "2022-09-22T08:00:53.340382Z"
    }
   },
   "outputs": [
    {
     "name": "stdout",
     "output_type": "stream",
     "text": [
      "[[[0. 0. 0.]\n",
      "  [0. 0. 0.]]]\n",
      "[[[1. 1. 1.]\n",
      "  [1. 1. 1.]]]\n"
     ]
    },
    {
     "data": {
      "text/plain": [
       "((1, 2, 3), (1, 2, 3))"
      ]
     },
     "execution_count": 14,
     "metadata": {},
     "output_type": "execute_result"
    }
   ],
   "source": [
    "a = np.zeros([1, 2, 3])\n",
    "b = np.ones_like(a)\n",
    "\n",
    "print(a)\n",
    "print(b)\n",
    "a.shape, b.shape"
   ]
  },
  {
   "cell_type": "markdown",
   "metadata": {},
   "source": [
    "### `Способы создания NumPy array`"
   ]
  },
  {
   "cell_type": "markdown",
   "metadata": {
    "ExecuteTime": {
     "end_time": "2022-09-22T06:39:48.680889Z",
     "start_time": "2022-09-22T06:39:48.665891Z"
    }
   },
   "source": [
    "Для создания одномерных массивов можно передавать их длину в виде целого числа:  "
   ]
  },
  {
   "cell_type": "code",
   "execution_count": 15,
   "metadata": {
    "ExecuteTime": {
     "end_time": "2022-09-22T08:00:53.848404Z",
     "start_time": "2022-09-22T08:00:53.844405Z"
    }
   },
   "outputs": [
    {
     "data": {
      "text/plain": [
       "array([0., 0., 0., 0., 0.])"
      ]
     },
     "execution_count": 15,
     "metadata": {},
     "output_type": "execute_result"
    }
   ],
   "source": [
    "np.zeros(5)"
   ]
  },
  {
   "cell_type": "markdown",
   "metadata": {},
   "source": [
    "Для одномерного массива тоже можно писать кортеж:"
   ]
  },
  {
   "cell_type": "code",
   "execution_count": 16,
   "metadata": {
    "ExecuteTime": {
     "end_time": "2022-09-22T08:00:54.224988Z",
     "start_time": "2022-09-22T08:00:54.213989Z"
    }
   },
   "outputs": [
    {
     "data": {
      "text/plain": [
       "array([0., 0., 0., 0., 0.])"
      ]
     },
     "execution_count": 16,
     "metadata": {},
     "output_type": "execute_result"
    }
   ],
   "source": [
    "np.zeros((5, ))"
   ]
  },
  {
   "cell_type": "markdown",
   "metadata": {
    "ExecuteTime": {
     "end_time": "2022-09-22T06:40:43.168313Z",
     "start_time": "2022-09-22T06:40:43.152313Z"
    }
   },
   "source": [
    "Для больших размерностей, так задавать массив нельзя.\n",
    "\n",
    "Так неправильно:"
   ]
  },
  {
   "cell_type": "code",
   "execution_count": 17,
   "metadata": {
    "ExecuteTime": {
     "end_time": "2022-09-22T08:00:54.993400Z",
     "start_time": "2022-09-22T08:00:54.588400Z"
    }
   },
   "outputs": [
    {
     "ename": "TypeError",
     "evalue": "Cannot interpret '7' as a data type",
     "output_type": "error",
     "traceback": [
      "\u001b[1;31m---------------------------------------------------------------------------\u001b[0m",
      "\u001b[1;31mTypeError\u001b[0m                                 Traceback (most recent call last)",
      "Input \u001b[1;32mIn [17]\u001b[0m, in \u001b[0;36m<cell line: 1>\u001b[1;34m()\u001b[0m\n\u001b[1;32m----> 1\u001b[0m \u001b[43mnp\u001b[49m\u001b[38;5;241;43m.\u001b[39;49m\u001b[43mzeros\u001b[49m\u001b[43m(\u001b[49m\u001b[38;5;241;43m5\u001b[39;49m\u001b[43m,\u001b[49m\u001b[43m \u001b[49m\u001b[38;5;241;43m7\u001b[39;49m\u001b[43m)\u001b[49m\n",
      "\u001b[1;31mTypeError\u001b[0m: Cannot interpret '7' as a data type"
     ]
    }
   ],
   "source": [
    "np.zeros(5, 7)"
   ]
  },
  {
   "cell_type": "markdown",
   "metadata": {
    "slideshow": {
     "slide_type": "slide"
    }
   },
   "source": [
    "### `Способы создания NumPy array`\n",
    "\n",
    "5. На основе списков"
   ]
  },
  {
   "cell_type": "code",
   "execution_count": null,
   "metadata": {
    "ExecuteTime": {
     "end_time": "2022-09-22T08:00:54.994402Z",
     "start_time": "2022-09-22T08:00:54.994402Z"
    }
   },
   "outputs": [],
   "source": [
    "print(np.array([[1, 2, 3], [4, 5, 6]]))"
   ]
  },
  {
   "cell_type": "markdown",
   "metadata": {},
   "source": [
    "Число элементов должно удовлетворять размерности, numpy попытается преобразовать типы:"
   ]
  },
  {
   "cell_type": "code",
   "execution_count": 18,
   "metadata": {
    "ExecuteTime": {
     "end_time": "2022-09-22T08:00:55.604748Z",
     "start_time": "2022-09-22T08:00:55.596747Z"
    }
   },
   "outputs": [
    {
     "name": "stdout",
     "output_type": "stream",
     "text": [
      "[list([1, 2, 3]) list([4, 6])]\n"
     ]
    }
   ],
   "source": [
    "print(np.array([[1, 2, 3], [4, 6]]))"
   ]
  },
  {
   "cell_type": "markdown",
   "metadata": {},
   "source": [
    "Тип можно указать явно, и неправильное число элементов приведёт к ошибке:"
   ]
  },
  {
   "cell_type": "code",
   "execution_count": 19,
   "metadata": {
    "ExecuteTime": {
     "end_time": "2022-09-22T08:00:55.940391Z",
     "start_time": "2022-09-22T08:00:55.924393Z"
    }
   },
   "outputs": [
    {
     "ename": "ValueError",
     "evalue": "setting an array element with a sequence. The requested array has an inhomogeneous shape after 1 dimensions. The detected shape was (2,) + inhomogeneous part.",
     "output_type": "error",
     "traceback": [
      "\u001b[1;31m---------------------------------------------------------------------------\u001b[0m",
      "\u001b[1;31mValueError\u001b[0m                                Traceback (most recent call last)",
      "Input \u001b[1;32mIn [19]\u001b[0m, in \u001b[0;36m<cell line: 1>\u001b[1;34m()\u001b[0m\n\u001b[1;32m----> 1\u001b[0m \u001b[43mnp\u001b[49m\u001b[38;5;241;43m.\u001b[39;49m\u001b[43marray\u001b[49m\u001b[43m(\u001b[49m\u001b[43m[\u001b[49m\u001b[43m[\u001b[49m\u001b[38;5;241;43m1\u001b[39;49m\u001b[43m,\u001b[49m\u001b[43m \u001b[49m\u001b[38;5;241;43m2\u001b[39;49m\u001b[43m,\u001b[49m\u001b[43m \u001b[49m\u001b[38;5;241;43m3\u001b[39;49m\u001b[43m]\u001b[49m\u001b[43m,\u001b[49m\u001b[43m \u001b[49m\u001b[43m[\u001b[49m\u001b[38;5;241;43m4\u001b[39;49m\u001b[43m,\u001b[49m\u001b[43m \u001b[49m\u001b[38;5;241;43m6\u001b[39;49m\u001b[43m]\u001b[49m\u001b[43m]\u001b[49m\u001b[43m,\u001b[49m\u001b[43m \u001b[49m\u001b[43mdtype\u001b[49m\u001b[38;5;241;43m=\u001b[39;49m\u001b[43mnp\u001b[49m\u001b[38;5;241;43m.\u001b[39;49m\u001b[43mfloat32\u001b[49m\u001b[43m)\u001b[49m\n",
      "\u001b[1;31mValueError\u001b[0m: setting an array element with a sequence. The requested array has an inhomogeneous shape after 1 dimensions. The detected shape was (2,) + inhomogeneous part."
     ]
    }
   ],
   "source": [
    "np.array([[1, 2, 3], [4, 6]], dtype=np.float32)"
   ]
  },
  {
   "cell_type": "markdown",
   "metadata": {},
   "source": [
    "### `Способы создания NumPy array`"
   ]
  },
  {
   "cell_type": "markdown",
   "metadata": {},
   "source": [
    "6. Последовательность целых чисел заданной длины"
   ]
  },
  {
   "cell_type": "code",
   "execution_count": 20,
   "metadata": {
    "ExecuteTime": {
     "end_time": "2022-09-22T08:00:56.462636Z",
     "start_time": "2022-09-22T08:00:56.444636Z"
    }
   },
   "outputs": [
    {
     "data": {
      "text/plain": [
       "array([2, 3, 4, 5, 6, 7, 8, 9])"
      ]
     },
     "execution_count": 20,
     "metadata": {},
     "output_type": "execute_result"
    }
   ],
   "source": [
    "# Синтаксис аналогичен функции `range`, но в этом случае данные хранятся в памяти\n",
    "np.arange(2, 10) "
   ]
  },
  {
   "cell_type": "markdown",
   "metadata": {},
   "source": [
    "7. Разбиение отрезка на равные подотрезки (в исходном и log-масштабе)"
   ]
  },
  {
   "cell_type": "code",
   "execution_count": 21,
   "metadata": {
    "ExecuteTime": {
     "end_time": "2022-09-22T08:00:56.793292Z",
     "start_time": "2022-09-22T08:00:56.788293Z"
    }
   },
   "outputs": [
    {
     "data": {
      "text/plain": [
       "(array([0.  , 0.25, 0.5 , 0.75, 1.  ]),\n",
       " array([ 1.        ,  1.77827941,  3.16227766,  5.62341325, 10.        ]))"
      ]
     },
     "execution_count": 21,
     "metadata": {},
     "output_type": "execute_result"
    }
   ],
   "source": [
    "np.linspace(0.0, 1.0, 5), np.logspace(0.0, 1.0, 5)"
   ]
  },
  {
   "cell_type": "markdown",
   "metadata": {},
   "source": [
    "### `Способы создания NumPy array`"
   ]
  },
  {
   "cell_type": "markdown",
   "metadata": {},
   "source": [
    "<font color='brown'>**Задача 2.** Задайте массив `result` размером $50$ на $30$, состоящий из троек:</font>"
   ]
  },
  {
   "cell_type": "code",
   "execution_count": 22,
   "metadata": {
    "ExecuteTime": {
     "end_time": "2022-09-22T08:00:57.341436Z",
     "start_time": "2022-09-22T08:00:57.333435Z"
    }
   },
   "outputs": [],
   "source": [
    "### your code here"
   ]
  },
  {
   "cell_type": "markdown",
   "metadata": {
    "ExecuteTime": {
     "end_time": "2022-09-22T06:50:02.269559Z",
     "start_time": "2022-09-22T06:50:02.253560Z"
    }
   },
   "source": [
    "<font color='brown'>**Задача 3.** Какая размерность будет у массива, полученного с помощью команды `np.array([[1], [2]])`?</font>"
   ]
  },
  {
   "cell_type": "code",
   "execution_count": 23,
   "metadata": {
    "ExecuteTime": {
     "end_time": "2022-09-22T08:00:57.737381Z",
     "start_time": "2022-09-22T08:00:57.732381Z"
    }
   },
   "outputs": [],
   "source": [
    "### your answer here"
   ]
  },
  {
   "cell_type": "markdown",
   "metadata": {
    "slideshow": {
     "slide_type": "slide"
    }
   },
   "source": [
    "### `Важные параметры создания ndarray`\n",
    "\n",
    "- `shape` — список или кортеж с размерностями создаваемого массива<br><br>\n",
    "\n",
    "- `dtype` — указание типа элементов массива, если массив создаётся на базе объектов из Python, то должно существовать преобразование из типа этих объектов в указываемый тип<br><br>\n",
    "\n",
    "- `order` — порядок хранения данных в памяти, по строкам (C-order) или же по столбцам (Fortran-order). По-умолчанию используется C-order"
   ]
  },
  {
   "cell_type": "markdown",
   "metadata": {
    "slideshow": {
     "slide_type": "slide"
    }
   },
   "source": [
    "### `Отличие классов np.ndarray и np.matrix`\n",
    "\n",
    "- `ndarray` — более общий класс, поддерживающий все возможные операции<br><br>\n",
    "\n",
    "- `matrix` — более узкий класс, наследующий `ndarray`. Он поддерживает несколько операций и атрибутов, специфичных для матриц, в удобной нотации<br><br>\n",
    "\n",
    "- При этом все те же операции можно применять и к `ndarray`, если он двумерный и состоит из чисел (начиная с Python 3.5 умножение можно записать как `A @ B`)<br><br>\n",
    "\n",
    "- Рекомендуется пользоваться `ndarray`, чтобы не вносить путаницу в код и не проверять каждый раз, какого именно типа массив будет обрабатываться"
   ]
  },
  {
   "cell_type": "markdown",
   "metadata": {
    "slideshow": {
     "slide_type": "slide"
    }
   },
   "source": [
    "### `Изменение размерности`\n",
    "\n",
    "`reshape` позволяет изменить размерности массива __без изменения общего числа элементов__:"
   ]
  },
  {
   "cell_type": "code",
   "execution_count": 24,
   "metadata": {
    "ExecuteTime": {
     "end_time": "2022-09-22T08:00:58.477418Z",
     "start_time": "2022-09-22T08:00:58.460419Z"
    }
   },
   "outputs": [
    {
     "name": "stdout",
     "output_type": "stream",
     "text": [
      "[[[0. 0.]\n",
      "  [0. 0.]\n",
      "  [0. 0.]]\n",
      "\n",
      " [[0. 0.]\n",
      "  [0. 0.]\n",
      "  [0. 0.]]] (2, 3, 2)\n"
     ]
    }
   ],
   "source": [
    "a = np.zeros([2, 3, 2])\n",
    "print(a, a.shape)"
   ]
  },
  {
   "cell_type": "code",
   "execution_count": 25,
   "metadata": {
    "ExecuteTime": {
     "end_time": "2022-09-22T08:00:58.635377Z",
     "start_time": "2022-09-22T08:00:58.620382Z"
    }
   },
   "outputs": [
    {
     "name": "stdout",
     "output_type": "stream",
     "text": [
      "[[0. 0. 0. 0. 0. 0. 0. 0. 0. 0. 0. 0.]] (1, 12) \n",
      "\n",
      "[[[10.  0.]\n",
      "  [ 0.  0.]\n",
      "  [ 0.  0.]]\n",
      "\n",
      " [[ 0.  0.]\n",
      "  [ 0.  0.]\n",
      "  [ 0.  0.]]] (2, 3, 2)\n"
     ]
    }
   ],
   "source": [
    "b = a.reshape((1, 2 * 3 * 2))\n",
    "print(b, b.shape, '\\n')\n",
    "\n",
    "b[0][0] = 10  # 'b' is a new view on the same data\n",
    "\n",
    "print(a, a.shape)"
   ]
  },
  {
   "cell_type": "markdown",
   "metadata": {},
   "source": [
    "Можно проверить, не пересекаются ли в памяти два массива: "
   ]
  },
  {
   "cell_type": "code",
   "execution_count": 26,
   "metadata": {
    "ExecuteTime": {
     "end_time": "2022-09-22T08:00:58.976164Z",
     "start_time": "2022-09-22T08:00:58.964165Z"
    }
   },
   "outputs": [
    {
     "data": {
      "text/plain": [
       "True"
      ]
     },
     "execution_count": 26,
     "metadata": {},
     "output_type": "execute_result"
    }
   ],
   "source": [
    "np.may_share_memory(a, b)"
   ]
  },
  {
   "cell_type": "markdown",
   "metadata": {
    "slideshow": {
     "slide_type": "slide"
    }
   },
   "source": [
    "### `Изменение размерности`\n",
    "\n",
    "Отметим, что практически все методы `np.ndarray` доступны в виде функций модуля NumPy:"
   ]
  },
  {
   "cell_type": "code",
   "execution_count": 27,
   "metadata": {
    "ExecuteTime": {
     "end_time": "2022-09-22T08:00:59.369040Z",
     "start_time": "2022-09-22T08:00:59.364040Z"
    }
   },
   "outputs": [
    {
     "name": "stdout",
     "output_type": "stream",
     "text": [
      "[[10.  0.]\n",
      " [ 0.  0.]\n",
      " [ 0.  0.]\n",
      " [ 0.  0.]\n",
      " [ 0.  0.]\n",
      " [ 0.  0.]] (6, 2)\n"
     ]
    }
   ],
   "source": [
    "c = np.reshape(b, (2 * 3, 2))\n",
    "print(c, c.shape)"
   ]
  },
  {
   "cell_type": "markdown",
   "metadata": {},
   "source": [
    "Размерность можно изменить и напрямую:"
   ]
  },
  {
   "cell_type": "code",
   "execution_count": 28,
   "metadata": {
    "ExecuteTime": {
     "end_time": "2022-09-22T08:00:59.760289Z",
     "start_time": "2022-09-22T08:00:59.748291Z"
    }
   },
   "outputs": [
    {
     "name": "stdout",
     "output_type": "stream",
     "text": [
      "[[10.  0.  0.  0.  0.  0.  0.  0.  0.  0.  0.  0.]] (1, 12)\n"
     ]
    }
   ],
   "source": [
    "c.shape = (1, 2 * 3 * 2)\n",
    "print(c, c.shape)"
   ]
  },
  {
   "cell_type": "markdown",
   "metadata": {},
   "source": [
    "Можно \"не заполнять\" одну размерность итогового массива, она заполнится автоматически:"
   ]
  },
  {
   "cell_type": "code",
   "execution_count": 29,
   "metadata": {
    "ExecuteTime": {
     "end_time": "2022-09-22T08:01:00.106443Z",
     "start_time": "2022-09-22T08:01:00.095443Z"
    }
   },
   "outputs": [
    {
     "name": "stdout",
     "output_type": "stream",
     "text": [
      "[[[10.  0.  0.]\n",
      "  [ 0.  0.  0.]]\n",
      "\n",
      " [[ 0.  0.  0.]\n",
      "  [ 0.  0.  0.]]] (2, 2, 3)\n"
     ]
    }
   ],
   "source": [
    "d = c.reshape(2, -1, 3)\n",
    "print(d, d.shape)"
   ]
  },
  {
   "cell_type": "markdown",
   "metadata": {
    "slideshow": {
     "slide_type": "slide"
    }
   },
   "source": [
    "### `Про размерности массивов`"
   ]
  },
  {
   "cell_type": "code",
   "execution_count": 30,
   "metadata": {
    "ExecuteTime": {
     "end_time": "2022-09-22T08:01:00.468365Z",
     "start_time": "2022-09-22T08:01:00.452366Z"
    }
   },
   "outputs": [
    {
     "name": "stdout",
     "output_type": "stream",
     "text": [
      "(3,)\n",
      "(1, 3)\n",
      "(3, 1)\n"
     ]
    }
   ],
   "source": [
    "a = np.array([1, 2, 3])\n",
    "b = np.array([[1, 2, 3]])\n",
    "c = np.array([[1], [2], [3]])\n",
    "print(a.shape)\n",
    "print(b.shape)\n",
    "print(c.shape)"
   ]
  },
  {
   "cell_type": "markdown",
   "metadata": {},
   "source": [
    "- Данные лежат в памяти одним и тем же образом\n",
    "\n",
    "- Вопрос только во `view` $==$ способ индексации $==$ число и порядок индексов"
   ]
  },
  {
   "cell_type": "code",
   "execution_count": 31,
   "metadata": {
    "ExecuteTime": {
     "end_time": "2022-09-22T08:01:00.875757Z",
     "start_time": "2022-09-22T08:01:00.861758Z"
    }
   },
   "outputs": [
    {
     "name": "stdout",
     "output_type": "stream",
     "text": [
      "1 2 2\n"
     ]
    }
   ],
   "source": [
    "print(a.ndim, b.ndim, c.ndim)"
   ]
  },
  {
   "cell_type": "markdown",
   "metadata": {},
   "source": [
    "Полезная для понимания происходящего статья: https://stackoverflow.com/questions/22053050/difference-between-numpy-array-shape-r-1-and-r"
   ]
  },
  {
   "cell_type": "markdown",
   "metadata": {},
   "source": [
    "### `View и копирование`"
   ]
  },
  {
   "cell_type": "markdown",
   "metadata": {
    "ExecuteTime": {
     "end_time": "2022-09-22T07:39:53.556863Z",
     "start_time": "2022-09-22T07:39:53.547862Z"
    }
   },
   "source": [
    "View ссылается на те же данные, но позволяет задать другие размерности массива."
   ]
  },
  {
   "cell_type": "code",
   "execution_count": 32,
   "metadata": {
    "ExecuteTime": {
     "end_time": "2022-09-22T08:01:01.648315Z",
     "start_time": "2022-09-22T08:01:01.644315Z"
    }
   },
   "outputs": [
    {
     "data": {
      "text/plain": [
       "(array([0, 1, 2, 3, 4, 5, 6, 7, 8, 9]),\n",
       " array([[0, 1, 2, 3, 4],\n",
       "        [5, 6, 7, 8, 9]]))"
      ]
     },
     "execution_count": 32,
     "metadata": {},
     "output_type": "execute_result"
    }
   ],
   "source": [
    "x = np.arange(10)\n",
    "v = x.view()\n",
    "v.shape = (2, 5)\n",
    "x, v"
   ]
  },
  {
   "cell_type": "code",
   "execution_count": 33,
   "metadata": {
    "ExecuteTime": {
     "end_time": "2022-09-22T08:01:01.835160Z",
     "start_time": "2022-09-22T08:01:01.821161Z"
    }
   },
   "outputs": [
    {
     "data": {
      "text/plain": [
       "(array([100,   1,   2,   3,   4,   5,   6,   7,   8,   9]),\n",
       " array([[100,   1,   2,   3,   4],\n",
       "        [  5,   6,   7,   8,   9]]))"
      ]
     },
     "execution_count": 33,
     "metadata": {},
     "output_type": "execute_result"
    }
   ],
   "source": [
    "v[0, 0] = 100\n",
    "x, v"
   ]
  },
  {
   "cell_type": "markdown",
   "metadata": {},
   "source": [
    "Если нужно получить копию массива, чтобы не портить переданные данные, пользуйтесь методом `copy`:"
   ]
  },
  {
   "cell_type": "code",
   "execution_count": 34,
   "metadata": {
    "ExecuteTime": {
     "end_time": "2022-09-22T08:01:02.209355Z",
     "start_time": "2022-09-22T08:01:02.204358Z"
    }
   },
   "outputs": [
    {
     "data": {
      "text/plain": [
       "(array([0, 1, 2, 3, 4, 5, 6, 7, 8, 9]), array([0, 0, 0, 0, 0, 0, 0, 0, 0, 0]))"
      ]
     },
     "execution_count": 34,
     "metadata": {},
     "output_type": "execute_result"
    }
   ],
   "source": [
    "x = np.arange(10)\n",
    "y = x.copy()\n",
    "y[:] = 0\n",
    "x, y"
   ]
  },
  {
   "cell_type": "markdown",
   "metadata": {
    "slideshow": {
     "slide_type": "slide"
    }
   },
   "source": [
    "### `Индексирование`\n",
    "\n",
    "- Всё аналогично спискам, можно делать срезы и использовать отрицательные индексы\n",
    "- Индексы и срезы в многомерных массивах не обязательно разделять квадратными скобками\n",
    "- Подробное описание: https://docs.scipy.org/doc/numpy/reference/arrays.indexing.html"
   ]
  },
  {
   "cell_type": "code",
   "execution_count": 35,
   "metadata": {
    "ExecuteTime": {
     "end_time": "2022-09-22T08:01:02.589352Z",
     "start_time": "2022-09-22T08:01:02.572353Z"
    }
   },
   "outputs": [
    {
     "name": "stdout",
     "output_type": "stream",
     "text": [
      "[[1 2 3]\n",
      " [3 4 5]] \n",
      "\n",
      "[1 2 3] \n",
      "\n",
      "[1 2 3] \n",
      "\n",
      "2 \n",
      "\n",
      "4 \n",
      "\n",
      "4 \n",
      "\n",
      "[1 2]\n"
     ]
    }
   ],
   "source": [
    "a = np.array([[1, 2, 3], [3, 4, 5]])\n",
    "\n",
    "print(a, '\\n')\n",
    "print(a[0], '\\n')\n",
    "print(a[0, 0: 100500], '\\n')\n",
    "print(a[0][1], '\\n')\n",
    "print(a[-1][-2], '\\n')\n",
    "print(a[-1, -2], '\\n')\n",
    "print(a[0, 0: -1])"
   ]
  },
  {
   "cell_type": "markdown",
   "metadata": {},
   "source": [
    "### `Индексирование`\n",
    "\n",
    "Важное отличие от питоновских списков: при slicing возвращается **view**, а не копия! Это позволяет присваивать значения подматрицам."
   ]
  },
  {
   "cell_type": "code",
   "execution_count": 36,
   "metadata": {
    "ExecuteTime": {
     "end_time": "2022-09-22T08:01:02.984334Z",
     "start_time": "2022-09-22T08:01:02.972333Z"
    }
   },
   "outputs": [
    {
     "name": "stdout",
     "output_type": "stream",
     "text": [
      "[[1 2 3]\n",
      " [3 4 5]] \n",
      "\n",
      "[[ 1 10  3]\n",
      " [ 3 10  5]] \n",
      "\n"
     ]
    }
   ],
   "source": [
    "a = np.array([[1, 2, 3], [3, 4, 5]])\n",
    "print(a, '\\n')\n",
    "\n",
    "a[:, 1] = 10\n",
    "print(a, '\\n')"
   ]
  },
  {
   "cell_type": "markdown",
   "metadata": {
    "slideshow": {
     "slide_type": "slide"
    }
   },
   "source": [
    "### `Логическое индексирование`\n",
    "\n",
    "Индексирование можно производить по логическому массиву такого же размера:"
   ]
  },
  {
   "cell_type": "code",
   "execution_count": 37,
   "metadata": {
    "ExecuteTime": {
     "end_time": "2022-09-22T08:01:03.361856Z",
     "start_time": "2022-09-22T08:01:03.355858Z"
    }
   },
   "outputs": [
    {
     "name": "stdout",
     "output_type": "stream",
     "text": [
      "[0 1 2 3 4 5 6 7 8 9] \n",
      "\n",
      "[ True False  True False  True False  True False  True False] \n",
      "\n",
      "[0 2 4 6 8] \n",
      "\n"
     ]
    }
   ],
   "source": [
    "a = np.arange(10)\n",
    "i = np.array([j % 2 == 0 for j in range(10)])\n",
    "\n",
    "print(a, '\\n')\n",
    "print(i, '\\n')\n",
    "print(a[i], '\\n')"
   ]
  },
  {
   "cell_type": "markdown",
   "metadata": {},
   "source": [
    "При этом такие слайсы также позволяют менять исходный массив:"
   ]
  },
  {
   "cell_type": "code",
   "execution_count": 38,
   "metadata": {
    "ExecuteTime": {
     "end_time": "2022-09-22T08:01:03.771346Z",
     "start_time": "2022-09-22T08:01:03.756348Z"
    }
   },
   "outputs": [
    {
     "data": {
      "text/plain": [
       "array([11,  1, 11,  3, 11,  5, 11,  7, 11,  9])"
      ]
     },
     "execution_count": 38,
     "metadata": {},
     "output_type": "execute_result"
    }
   ],
   "source": [
    "a[i] = 11\n",
    "a"
   ]
  },
  {
   "cell_type": "markdown",
   "metadata": {},
   "source": [
    "### `Логическое индексирование`\n",
    "\n",
    "С помощью функции `where`, можно находить индексы элементов, заданные маской:"
   ]
  },
  {
   "cell_type": "code",
   "execution_count": 39,
   "metadata": {
    "ExecuteTime": {
     "end_time": "2022-09-22T08:01:04.180832Z",
     "start_time": "2022-09-22T08:01:04.163832Z"
    }
   },
   "outputs": [
    {
     "data": {
      "text/plain": [
       "(array([0, 2, 4, 5, 6, 7, 8, 9], dtype=int64),)"
      ]
     },
     "execution_count": 39,
     "metadata": {},
     "output_type": "execute_result"
    }
   ],
   "source": [
    "np.where(a > 4)"
   ]
  },
  {
   "cell_type": "markdown",
   "metadata": {},
   "source": [
    "В случае одномерного массива `np.where` возвращается `tuple`. Подробнее смотри документацию."
   ]
  },
  {
   "cell_type": "markdown",
   "metadata": {},
   "source": [
    "<font color='brown'> **Задача 4.** Даны два вектора одинаковой длины: `a` и `b`. Оставить в этих векторах только те элементы, которые соответствуют позициям ненулевых элементов в обоих векторах. </font>"
   ]
  },
  {
   "cell_type": "code",
   "execution_count": 40,
   "metadata": {
    "ExecuteTime": {
     "end_time": "2022-09-22T08:01:04.735350Z",
     "start_time": "2022-09-22T08:01:04.724353Z"
    }
   },
   "outputs": [],
   "source": [
    "a = np.array([0, 1, 0, 2, 3])\n",
    "b = np.array([1, 5, 2, 0, 6])"
   ]
  },
  {
   "cell_type": "code",
   "execution_count": 41,
   "metadata": {
    "ExecuteTime": {
     "end_time": "2022-09-22T08:01:04.940352Z",
     "start_time": "2022-09-22T08:01:04.925355Z"
    }
   },
   "outputs": [],
   "source": [
    "### your code here"
   ]
  },
  {
   "cell_type": "markdown",
   "metadata": {},
   "source": [
    "Проверьте себя:"
   ]
  },
  {
   "cell_type": "code",
   "execution_count": null,
   "metadata": {
    "deletable": false,
    "editable": false,
    "run_control": {
     "frozen": true
    }
   },
   "outputs": [],
   "source": [
    "assert a.tolist() == [1, 3]\n",
    "assert b.tolist() == [5, 6]"
   ]
  },
  {
   "cell_type": "markdown",
   "metadata": {},
   "source": [
    "### `Сложное индексирование`\n",
    "\n",
    "По каждой размерности подаются массивы одинаковых размеров, элементы которых соответствуют индексам каждой размерности. Тогда, на выходе будет массив размера этих массивов, элементы которого будут соответствовать элементам исходного массива, взятых в точках, соответствующих поданным массивам."
   ]
  },
  {
   "cell_type": "code",
   "execution_count": 42,
   "metadata": {
    "ExecuteTime": {
     "end_time": "2022-09-22T08:01:05.735426Z",
     "start_time": "2022-09-22T08:01:05.732425Z"
    }
   },
   "outputs": [
    {
     "data": {
      "text/plain": [
       "array([[1, 2, 3],\n",
       "       [4, 5, 6]])"
      ]
     },
     "execution_count": 42,
     "metadata": {},
     "output_type": "execute_result"
    }
   ],
   "source": [
    "X = np.array([[1, 2, 3], [4, 5, 6]])\n",
    "X"
   ]
  },
  {
   "cell_type": "code",
   "execution_count": 43,
   "metadata": {
    "ExecuteTime": {
     "end_time": "2022-09-22T08:01:05.924335Z",
     "start_time": "2022-09-22T08:01:05.916335Z"
    }
   },
   "outputs": [
    {
     "data": {
      "text/plain": [
       "(array([2, 6]), array([2, 1]))"
      ]
     },
     "execution_count": 43,
     "metadata": {},
     "output_type": "execute_result"
    }
   ],
   "source": [
    "X[[0, 1], [1, 2]], X[[0, 0], [1, 0]]"
   ]
  },
  {
   "cell_type": "code",
   "execution_count": 44,
   "metadata": {
    "ExecuteTime": {
     "end_time": "2022-09-22T08:01:06.109378Z",
     "start_time": "2022-09-22T08:01:06.092380Z"
    }
   },
   "outputs": [
    {
     "data": {
      "text/plain": [
       "array([[[ 0,  1,  2,  3],\n",
       "        [ 4,  5,  6,  7]],\n",
       "\n",
       "       [[ 8,  9, 10, 11],\n",
       "        [12, 13, 14, 15]],\n",
       "\n",
       "       [[16, 17, 18, 19],\n",
       "        [20, 21, 22, 23]]])"
      ]
     },
     "execution_count": 44,
     "metadata": {},
     "output_type": "execute_result"
    }
   ],
   "source": [
    "Y = np.arange(24).reshape((3, 2, 4))\n",
    "Y"
   ]
  },
  {
   "cell_type": "code",
   "execution_count": 45,
   "metadata": {
    "ExecuteTime": {
     "end_time": "2022-09-22T08:01:06.298410Z",
     "start_time": "2022-09-22T08:01:06.279410Z"
    }
   },
   "outputs": [
    {
     "data": {
      "text/plain": [
       "array([[10, 14],\n",
       "       [ 1,  5]])"
      ]
     },
     "execution_count": 45,
     "metadata": {},
     "output_type": "execute_result"
    }
   ],
   "source": [
    "Y[[1, 0], :, [2, 1]]"
   ]
  },
  {
   "cell_type": "markdown",
   "metadata": {},
   "source": [
    "### `Сокращенная индексация`\n",
    "\n",
    "Если у вас есть многомерный массив, а вам, например, надо взять определенные индексы только с последней размерности, то можно написать так:"
   ]
  },
  {
   "cell_type": "code",
   "execution_count": 46,
   "metadata": {
    "ExecuteTime": {
     "end_time": "2022-09-22T08:01:06.677537Z",
     "start_time": "2022-09-22T08:01:06.662539Z"
    }
   },
   "outputs": [
    {
     "name": "stdout",
     "output_type": "stream",
     "text": [
      "[[[ 0  5 10 15]\n",
      "  [20 25 30 35]]\n",
      "\n",
      " [[40 45 50 55]\n",
      "  [60 65 70 75]]]\n"
     ]
    },
    {
     "data": {
      "text/plain": [
       "(2, 2, 4)"
      ]
     },
     "execution_count": 46,
     "metadata": {},
     "output_type": "execute_result"
    }
   ],
   "source": [
    "x = np.arange(80).reshape((2, 2, 4, 5))\n",
    "\n",
    "print(x[..., 0])\n",
    "x[..., 0].shape"
   ]
  },
  {
   "cell_type": "markdown",
   "metadata": {},
   "source": [
    "Более хитрый пример:"
   ]
  },
  {
   "cell_type": "code",
   "execution_count": 47,
   "metadata": {
    "ExecuteTime": {
     "end_time": "2022-09-22T08:01:07.059608Z",
     "start_time": "2022-09-22T08:01:07.045609Z"
    }
   },
   "outputs": [
    {
     "name": "stdout",
     "output_type": "stream",
     "text": [
      "[[[516 518]\n",
      "  [520 522]\n",
      "  [524 526]]\n",
      "\n",
      " [[576 578]\n",
      "  [580 582]\n",
      "  [584 586]]\n",
      "\n",
      " [[636 638]\n",
      "  [640 642]\n",
      "  [644 646]]\n",
      "\n",
      " [[696 698]\n",
      "  [700 702]\n",
      "  [704 706]]]\n"
     ]
    },
    {
     "data": {
      "text/plain": [
       "(4, 3, 2)"
      ]
     },
     "execution_count": 47,
     "metadata": {},
     "output_type": "execute_result"
    }
   ],
   "source": [
    "x = np.arange(720).reshape((3, 4, 5, 3, 2, 2))\n",
    "\n",
    "print(x[2, :, 3, ..., 0])\n",
    "x[2, :, 3, ..., 0].shape"
   ]
  },
  {
   "cell_type": "markdown",
   "metadata": {
    "slideshow": {
     "slide_type": "slide"
    }
   },
   "source": [
    "### `Арифметические операции`\n",
    "\n",
    "- Арифметические операции в общем случае по-элементные и требуют одинакового размера операндов<br>\n",
    "\n",
    "- Но часто NumPy может применять их к операндам разного размера с помощью broadcasting, то есть правил обработки операндов разного размера<br><br>\n",
    "\n",
    "Примеры операций с массивами одного размера:"
   ]
  },
  {
   "cell_type": "code",
   "execution_count": 48,
   "metadata": {
    "ExecuteTime": {
     "end_time": "2022-09-22T08:01:07.483335Z",
     "start_time": "2022-09-22T08:01:07.468336Z"
    }
   },
   "outputs": [
    {
     "name": "stdout",
     "output_type": "stream",
     "text": [
      "[[1 2 3]\n",
      " [4 5 6]\n",
      " [7 8 9]] \n",
      "\n",
      " [[1 0 0]\n",
      " [0 2 0]\n",
      " [0 0 3]] \n",
      "\n",
      " [[ 2  4  6]\n",
      " [ 8 10 12]\n",
      " [14 16 18]] \n",
      "\n",
      " [[ 2  2  3]\n",
      " [ 4  7  6]\n",
      " [ 7  8 12]]\n"
     ]
    }
   ],
   "source": [
    "A, B = np.array(A), np.array(B)  # were declared previously\n",
    "\n",
    "print(A, '\\n\\n', B, '\\n\\n', 2 * A, '\\n\\n', A + B)"
   ]
  },
  {
   "cell_type": "markdown",
   "metadata": {},
   "source": [
    "### `Поэлементные арифметические операции`"
   ]
  },
  {
   "cell_type": "code",
   "execution_count": 49,
   "metadata": {
    "ExecuteTime": {
     "end_time": "2022-09-22T08:01:07.881483Z",
     "start_time": "2022-09-22T08:01:07.868481Z"
    }
   },
   "outputs": [
    {
     "data": {
      "text/plain": [
       "array([[ 0.84147098,  0.90929743,  0.14112001],\n",
       "       [-0.7568025 , -0.95892427, -0.2794155 ],\n",
       "       [ 0.6569866 ,  0.98935825,  0.41211849]])"
      ]
     },
     "execution_count": 49,
     "metadata": {},
     "output_type": "execute_result"
    }
   ],
   "source": [
    "np.sin(A)"
   ]
  },
  {
   "cell_type": "code",
   "execution_count": 50,
   "metadata": {
    "ExecuteTime": {
     "end_time": "2022-09-22T08:01:08.099286Z",
     "start_time": "2022-09-22T08:01:08.093285Z"
    }
   },
   "outputs": [
    {
     "data": {
      "text/plain": [
       "array([[1, 2, 3],\n",
       "       [4, 5, 6],\n",
       "       [7, 8, 9]])"
      ]
     },
     "execution_count": 50,
     "metadata": {},
     "output_type": "execute_result"
    }
   ],
   "source": [
    "np.abs(A)"
   ]
  },
  {
   "cell_type": "code",
   "execution_count": 51,
   "metadata": {
    "ExecuteTime": {
     "end_time": "2022-09-22T08:01:08.303328Z",
     "start_time": "2022-09-22T08:01:08.293329Z"
    }
   },
   "outputs": [
    {
     "data": {
      "text/plain": [
       "array([[1.        , 1.41421356, 1.73205081],\n",
       "       [2.        , 2.23606798, 2.44948974],\n",
       "       [2.64575131, 2.82842712, 3.        ]])"
      ]
     },
     "execution_count": 51,
     "metadata": {},
     "output_type": "execute_result"
    }
   ],
   "source": [
    "A ** 0.5"
   ]
  },
  {
   "cell_type": "markdown",
   "metadata": {
    "ExecuteTime": {
     "end_time": "2022-09-22T07:19:36.696313Z",
     "start_time": "2022-09-22T07:19:36.683314Z"
    }
   },
   "source": [
    "Поэлементые операции сравнения:"
   ]
  },
  {
   "cell_type": "code",
   "execution_count": 52,
   "metadata": {
    "ExecuteTime": {
     "end_time": "2022-09-22T08:01:08.696455Z",
     "start_time": "2022-09-22T08:01:08.678456Z"
    }
   },
   "outputs": [
    {
     "data": {
      "text/plain": [
       "array([[False, False, False],\n",
       "       [ True,  True,  True],\n",
       "       [ True,  True,  True]])"
      ]
     },
     "execution_count": 52,
     "metadata": {},
     "output_type": "execute_result"
    }
   ],
   "source": [
    "A > 3"
   ]
  },
  {
   "cell_type": "markdown",
   "metadata": {
    "slideshow": {
     "slide_type": "slide"
    }
   },
   "source": [
    "### `Матричные арифметические операции`"
   ]
  },
  {
   "cell_type": "code",
   "execution_count": 53,
   "metadata": {
    "ExecuteTime": {
     "end_time": "2022-09-22T08:01:09.092838Z",
     "start_time": "2022-09-22T08:01:09.079837Z"
    }
   },
   "outputs": [
    {
     "name": "stdout",
     "output_type": "stream",
     "text": [
      "[[0 2 3]\n",
      " [4 3 6]\n",
      " [7 8 6]]\n"
     ]
    }
   ],
   "source": [
    "print(A - B)"
   ]
  },
  {
   "cell_type": "code",
   "execution_count": 54,
   "metadata": {
    "ExecuteTime": {
     "end_time": "2022-09-22T08:01:09.312868Z",
     "start_time": "2022-09-22T08:01:09.300868Z"
    }
   },
   "outputs": [
    {
     "name": "stdout",
     "output_type": "stream",
     "text": [
      "[[ 1  0  0]\n",
      " [ 0 10  0]\n",
      " [ 0  0 27]]\n"
     ]
    }
   ],
   "source": [
    "print(A * B)"
   ]
  },
  {
   "cell_type": "code",
   "execution_count": 55,
   "metadata": {
    "ExecuteTime": {
     "end_time": "2022-09-22T08:01:09.504270Z",
     "start_time": "2022-09-22T08:01:09.501269Z"
    }
   },
   "outputs": [
    {
     "name": "stdout",
     "output_type": "stream",
     "text": [
      "[[1.         0.         0.        ]\n",
      " [0.         0.4        0.        ]\n",
      " [0.         0.         0.33333333]]\n"
     ]
    }
   ],
   "source": [
    "print(B / A)"
   ]
  },
  {
   "cell_type": "code",
   "execution_count": 56,
   "metadata": {
    "ExecuteTime": {
     "end_time": "2022-09-22T08:01:09.709313Z",
     "start_time": "2022-09-22T08:01:09.700313Z"
    }
   },
   "outputs": [
    {
     "name": "stdout",
     "output_type": "stream",
     "text": [
      "[[ 1  4  9]\n",
      " [ 4 10 18]\n",
      " [ 7 16 27]]\n"
     ]
    }
   ],
   "source": [
    "print(A @ B)"
   ]
  },
  {
   "cell_type": "markdown",
   "metadata": {},
   "source": [
    "### `Фиктивная размерность`"
   ]
  },
  {
   "cell_type": "markdown",
   "metadata": {},
   "source": [
    "Два способа добавить фиктивную размерность в произвольный массив:"
   ]
  },
  {
   "cell_type": "code",
   "execution_count": 57,
   "metadata": {
    "ExecuteTime": {
     "end_time": "2022-09-22T08:01:10.323226Z",
     "start_time": "2022-09-22T08:01:10.308228Z"
    }
   },
   "outputs": [
    {
     "data": {
      "text/plain": [
       "(2, 1, 2, 3)"
      ]
     },
     "execution_count": 57,
     "metadata": {},
     "output_type": "execute_result"
    }
   ],
   "source": [
    "d[:, np.newaxis].shape"
   ]
  },
  {
   "cell_type": "code",
   "execution_count": 58,
   "metadata": {
    "ExecuteTime": {
     "end_time": "2022-09-22T08:01:10.526305Z",
     "start_time": "2022-09-22T08:01:10.509305Z"
    }
   },
   "outputs": [
    {
     "data": {
      "text/plain": [
       "(1, 2, 2, 3)"
      ]
     },
     "execution_count": 58,
     "metadata": {},
     "output_type": "execute_result"
    }
   ],
   "source": [
    "d[None, :].shape"
   ]
  },
  {
   "cell_type": "markdown",
   "metadata": {
    "ExecuteTime": {
     "end_time": "2022-09-22T07:25:03.648117Z",
     "start_time": "2022-09-22T07:25:03.633117Z"
    }
   },
   "source": [
    "Для одномерного массива можно использовать `reshape`:"
   ]
  },
  {
   "cell_type": "code",
   "execution_count": 59,
   "metadata": {
    "ExecuteTime": {
     "end_time": "2022-09-22T08:01:10.922302Z",
     "start_time": "2022-09-22T08:01:10.908303Z"
    }
   },
   "outputs": [
    {
     "data": {
      "text/plain": [
       "(array([0, 1, 2, 3, 4, 5, 6]),\n",
       " array([[0],\n",
       "        [1],\n",
       "        [2],\n",
       "        [3],\n",
       "        [4],\n",
       "        [5],\n",
       "        [6]]))"
      ]
     },
     "execution_count": 59,
     "metadata": {},
     "output_type": "execute_result"
    }
   ],
   "source": [
    "x = np.arange(7)\n",
    "\n",
    "x, x.reshape(-1, 1)"
   ]
  },
  {
   "cell_type": "markdown",
   "metadata": {
    "ExecuteTime": {
     "end_time": "2022-09-22T07:24:04.521584Z",
     "start_time": "2022-09-22T07:24:04.513585Z"
    }
   },
   "source": [
    "Зачем нужно добавлять фиктивную размерность? Например, чтобы проводить различные операции с массивами неравного размера."
   ]
  },
  {
   "cell_type": "markdown",
   "metadata": {},
   "source": [
    "### `Broadcasting`\n",
    "\n",
    "Подробное описание: http://docs.scipy.org/doc/numpy/user/basics.broadcasting.html"
   ]
  },
  {
   "cell_type": "markdown",
   "metadata": {},
   "source": [
    "Пусть нам дана матрица $X$ размером $5 \\times 5$ и вектор $y$ длины $5$. Пусть мы хотим прибавить вектор к каждой строке матрицы. "
   ]
  },
  {
   "cell_type": "code",
   "execution_count": 60,
   "metadata": {
    "ExecuteTime": {
     "end_time": "2022-09-22T08:01:11.744952Z",
     "start_time": "2022-09-22T08:01:11.732954Z"
    }
   },
   "outputs": [
    {
     "data": {
      "text/plain": [
       "(array([[ 0,  1,  2,  3,  4],\n",
       "        [ 5,  6,  7,  8,  9],\n",
       "        [10, 11, 12, 13, 14],\n",
       "        [15, 16, 17, 18, 19],\n",
       "        [20, 21, 22, 23, 24]]),\n",
       " array([0, 1, 2, 3, 4]))"
      ]
     },
     "execution_count": 60,
     "metadata": {},
     "output_type": "execute_result"
    }
   ],
   "source": [
    "x = np.arange(25).reshape(5, 5)\n",
    "y = np.arange(5)\n",
    "\n",
    "x, y"
   ]
  },
  {
   "cell_type": "markdown",
   "metadata": {},
   "source": [
    "Наивный способ решения проблемы будет работать правильно!"
   ]
  },
  {
   "cell_type": "code",
   "execution_count": 61,
   "metadata": {
    "ExecuteTime": {
     "end_time": "2022-09-22T08:01:12.172295Z",
     "start_time": "2022-09-22T08:01:12.156295Z"
    }
   },
   "outputs": [
    {
     "data": {
      "text/plain": [
       "array([[ 0,  2,  4,  6,  8],\n",
       "       [ 5,  7,  9, 11, 13],\n",
       "       [10, 12, 14, 16, 18],\n",
       "       [15, 17, 19, 21, 23],\n",
       "       [20, 22, 24, 26, 28]])"
      ]
     },
     "execution_count": 61,
     "metadata": {},
     "output_type": "execute_result"
    }
   ],
   "source": [
    "x + y"
   ]
  },
  {
   "cell_type": "markdown",
   "metadata": {},
   "source": [
    "**Почему?** Правила broadcasting (приведение размеров).\n",
    "\n",
    "1. Если два массива имеют размерности $(a_1, a_2, ..., a_n)$ и $(b_1, b_2, ..., b_n)$ соответственно, то между ними можно проводить поэлементные операции, если для каждого $i$ выполнено одно из трёх условий:\n",
    "    * $a_i = b_i$\n",
    "    * $a_i = 1$\n",
    "    * $b_i = 1$\n",
    "    \n",
    "2. Если поэлементная операция выполняется между массивами разного размера, то к массиву меньшего размера добавляются ведущие фиктивные размерности."
   ]
  },
  {
   "cell_type": "markdown",
   "metadata": {
    "slideshow": {
     "slide_type": "slide"
    }
   },
   "source": [
    "### `Арифметика и broadcasting`\n",
    "\n",
    "Если по одному из измерений массивы не равны, и у одного из них эта размерность имеет длину 1, то он будет продублирован по этой размерности:"
   ]
  },
  {
   "cell_type": "code",
   "execution_count": 62,
   "metadata": {
    "ExecuteTime": {
     "end_time": "2022-09-22T08:01:12.788303Z",
     "start_time": "2022-09-22T08:01:12.780304Z"
    }
   },
   "outputs": [
    {
     "name": "stdout",
     "output_type": "stream",
     "text": [
      "[2 2] \n",
      "\n",
      "[[2 3]\n",
      " [4 5]] \n",
      "\n",
      "[[2 3]\n",
      " [4 5]]\n"
     ]
    }
   ],
   "source": [
    "a = np.array([[1, 2], [3, 4]])\n",
    "b = np.array([1])\n",
    "c = np.array([1, 1])\n",
    "\n",
    "print(b + c, '\\n')\n",
    "print(a + b, '\\n')\n",
    "print(a + c)"
   ]
  },
  {
   "cell_type": "markdown",
   "metadata": {
    "slideshow": {
     "slide_type": "slide"
    }
   },
   "source": [
    "### `Арифметика и broadcasting`\n",
    "\n",
    "Если не совпадает количество размерностей, то массив, у которого их меньше, будет \"добиваться\" слева размерностями длины 1:"
   ]
  },
  {
   "cell_type": "code",
   "execution_count": 63,
   "metadata": {
    "ExecuteTime": {
     "end_time": "2022-09-22T08:01:13.216291Z",
     "start_time": "2022-09-22T08:01:13.204294Z"
    }
   },
   "outputs": [
    {
     "name": "stdout",
     "output_type": "stream",
     "text": [
      "[[[2. 2. 2. 2.]\n",
      "  [2. 2. 2. 2.]\n",
      "  [2. 2. 2. 2.]]\n",
      "\n",
      " [[2. 2. 2. 2.]\n",
      "  [2. 2. 2. 2.]\n",
      "  [2. 2. 2. 2.]]]\n"
     ]
    }
   ],
   "source": [
    "a = np.ones((2, 3, 4))\n",
    "b = np.ones(4)\n",
    "\n",
    "print(a + b) # here a.shape=(2, 3, 4) and b.shape is considered to be (1, 1, 4)"
   ]
  },
  {
   "cell_type": "markdown",
   "metadata": {
    "slideshow": {
     "slide_type": "slide"
    }
   },
   "source": [
    "### `Арифметика и broadcasting`\n",
    "\n",
    "Добавим к массиву вектор-строку:"
   ]
  },
  {
   "cell_type": "code",
   "execution_count": 64,
   "metadata": {
    "ExecuteTime": {
     "end_time": "2022-09-22T08:01:13.863274Z",
     "start_time": "2022-09-22T08:01:13.852278Z"
    }
   },
   "outputs": [
    {
     "data": {
      "text/plain": [
       "array([[2, 4, 6],\n",
       "       [5, 7, 9]])"
      ]
     },
     "execution_count": 64,
     "metadata": {},
     "output_type": "execute_result"
    }
   ],
   "source": [
    "a = np.array([[1, 2, 3], [4, 5, 6]])\n",
    "b = np.array([1, 2, 3])\n",
    "a + b"
   ]
  },
  {
   "cell_type": "markdown",
   "metadata": {},
   "source": [
    "Теперь попробуем добавить столбец:"
   ]
  },
  {
   "cell_type": "code",
   "execution_count": 65,
   "metadata": {
    "ExecuteTime": {
     "end_time": "2022-09-22T08:01:14.289296Z",
     "start_time": "2022-09-22T08:01:14.278296Z"
    }
   },
   "outputs": [
    {
     "ename": "ValueError",
     "evalue": "operands could not be broadcast together with shapes (2,3) (2,) ",
     "output_type": "error",
     "traceback": [
      "\u001b[1;31m---------------------------------------------------------------------------\u001b[0m",
      "\u001b[1;31mValueError\u001b[0m                                Traceback (most recent call last)",
      "Input \u001b[1;32mIn [65]\u001b[0m, in \u001b[0;36m<cell line: 3>\u001b[1;34m()\u001b[0m\n\u001b[0;32m      1\u001b[0m a \u001b[38;5;241m=\u001b[39m np\u001b[38;5;241m.\u001b[39marray([[\u001b[38;5;241m1\u001b[39m, \u001b[38;5;241m2\u001b[39m, \u001b[38;5;241m3\u001b[39m], [\u001b[38;5;241m4\u001b[39m, \u001b[38;5;241m5\u001b[39m, \u001b[38;5;241m6\u001b[39m]])\n\u001b[0;32m      2\u001b[0m b \u001b[38;5;241m=\u001b[39m np\u001b[38;5;241m.\u001b[39marray([\u001b[38;5;241m1\u001b[39m, \u001b[38;5;241m2\u001b[39m])\n\u001b[1;32m----> 3\u001b[0m \u001b[43ma\u001b[49m\u001b[43m \u001b[49m\u001b[38;5;241;43m+\u001b[39;49m\u001b[43m \u001b[49m\u001b[43mb\u001b[49m\n",
      "\u001b[1;31mValueError\u001b[0m: operands could not be broadcast together with shapes (2,3) (2,) "
     ]
    }
   ],
   "source": [
    "a = np.array([[1, 2, 3], [4, 5, 6]])\n",
    "b = np.array([1, 2])\n",
    "a + b"
   ]
  },
  {
   "cell_type": "markdown",
   "metadata": {
    "slideshow": {
     "slide_type": "slide"
    }
   },
   "source": [
    "### `Арифметика и broadcasting`\n",
    "\n",
    "- Ошибка возникла из-за того, что прибавлялась строка с неправильным размером<br>\n",
    "\n",
    "- Нужно преобразовать строку в столбец (добавить фиктивную размерность), и тогда NumPy поймёт, как с ней работать<br><br>\n",
    "\n",
    "Для этого воспользуемся `reshape` (способ хороший, но далеко не единственный):"
   ]
  },
  {
   "cell_type": "code",
   "execution_count": 66,
   "metadata": {
    "ExecuteTime": {
     "end_time": "2022-09-22T08:01:14.748280Z",
     "start_time": "2022-09-22T08:01:14.740280Z"
    }
   },
   "outputs": [
    {
     "data": {
      "text/plain": [
       "array([[2, 3, 4],\n",
       "       [6, 7, 8]])"
      ]
     },
     "execution_count": 66,
     "metadata": {},
     "output_type": "execute_result"
    }
   ],
   "source": [
    "a + np.reshape(b, (2, 1))"
   ]
  },
  {
   "cell_type": "markdown",
   "metadata": {},
   "source": [
    "### `Арифметика и broadcasting`"
   ]
  },
  {
   "cell_type": "markdown",
   "metadata": {},
   "source": [
    "**Всегда проверяйте операции с броадкастингом! Легко можно напороться на неприятности**"
   ]
  },
  {
   "cell_type": "markdown",
   "metadata": {},
   "source": [
    "<font color='brown'>**Задача 5.** Какие из этих команд будут выполняться с ошибкой?</font>\n",
    "\n",
    "1. `np.ones((2, 3)) + np.ones(3)`\n",
    "\n",
    "2. `np.ones(2) + np.ones((2, 3))`\n",
    "\n",
    "3. `np.zeros((4, 3)) + np.ones((4, 1))`\n",
    "\n",
    "4. `np.zeros((3, 4)) + np.ones((4, 3))`\n",
    "\n",
    "5. `np.zeros((1, 3, 5)) + np.zeros((1, 3))`\n",
    "\n",
    "6. `np.zeros((5, 3, 1)) + np.zeros((1, 5))`"
   ]
  },
  {
   "cell_type": "code",
   "execution_count": 67,
   "metadata": {
    "ExecuteTime": {
     "end_time": "2022-09-22T08:01:16.271798Z",
     "start_time": "2022-09-22T08:01:16.267799Z"
    }
   },
   "outputs": [],
   "source": [
    "### your answer here"
   ]
  },
  {
   "cell_type": "markdown",
   "metadata": {},
   "source": [
    "<font color='brown'>**Задача 6.** Пусть нам дана матрица $X$ размером $10 \\times 10$ и вектор-столбец $y$ длины $10$. Получите матрицу `result`, полученную прибавлением к каждому столбцу $X$ вектора $y$ (без использования циклов). </font>"
   ]
  },
  {
   "cell_type": "code",
   "execution_count": 68,
   "metadata": {
    "ExecuteTime": {
     "end_time": "2022-09-22T08:01:16.676285Z",
     "start_time": "2022-09-22T08:01:16.668285Z"
    }
   },
   "outputs": [],
   "source": [
    "x = np.arange(100).reshape(10, 10)\n",
    "y = np.arange(10)"
   ]
  },
  {
   "cell_type": "code",
   "execution_count": 69,
   "metadata": {
    "ExecuteTime": {
     "end_time": "2022-09-22T08:01:16.866283Z",
     "start_time": "2022-09-22T08:01:16.853284Z"
    }
   },
   "outputs": [],
   "source": [
    "## your code here"
   ]
  },
  {
   "cell_type": "markdown",
   "metadata": {},
   "source": [
    "Проверьте себя:"
   ]
  },
  {
   "cell_type": "code",
   "execution_count": null,
   "metadata": {
    "deletable": false,
    "editable": false,
    "run_control": {
     "frozen": true
    }
   },
   "outputs": [],
   "source": [
    "assert result[0][0] == 0\n",
    "for i in range(1, 10):\n",
    "    assert result[i][i-1] == 10 * i + (i - 1) * 2 + 1"
   ]
  },
  {
   "cell_type": "markdown",
   "metadata": {
    "slideshow": {
     "slide_type": "slide"
    }
   },
   "source": [
    "### `Матричное умножение`\n",
    "\n",
    "Расмотрим для случая двумерных матриц, кому интересны многомерные, изучайте \n",
    "https://numpy.org/devdocs/reference/generated/numpy.dot.html"
   ]
  },
  {
   "cell_type": "code",
   "execution_count": 70,
   "metadata": {
    "ExecuteTime": {
     "end_time": "2022-09-22T08:01:17.673826Z",
     "start_time": "2022-09-22T08:01:17.659828Z"
    }
   },
   "outputs": [
    {
     "name": "stdout",
     "output_type": "stream",
     "text": [
      "[[ 1  4  9]\n",
      " [ 4 10 18]\n",
      " [ 7 16 27]] \n",
      "\n",
      "[[ 1  4  9]\n",
      " [ 4 10 18]\n",
      " [ 7 16 27]] \n",
      "\n",
      "[[ 1  4  9]\n",
      " [ 4 10 18]\n",
      " [ 7 16 27]]\n"
     ]
    }
   ],
   "source": [
    "print(A @ B, '\\n')\n",
    "print(A.dot(B), '\\n')\n",
    "print(np.dot(A, B))"
   ]
  },
  {
   "cell_type": "markdown",
   "metadata": {
    "slideshow": {
     "slide_type": "slide"
    }
   },
   "source": [
    "### `Транспонирование`\n",
    "\n",
    "- Расмотрим для случая двумерных матриц, кому интересны многомерные, изучайте\n",
    "https://stackoverflow.com/questions/32034237/how-does-numpys-transpose-method-permute-the-axes-of-an-array\n",
    "- При транспонировании (как и `reshape`) возвращается ссылка на те же данные"
   ]
  },
  {
   "cell_type": "code",
   "execution_count": 71,
   "metadata": {
    "ExecuteTime": {
     "end_time": "2022-09-22T08:01:18.346450Z",
     "start_time": "2022-09-22T08:01:18.340451Z"
    }
   },
   "outputs": [
    {
     "name": "stdout",
     "output_type": "stream",
     "text": [
      "[[1 2 3]\n",
      " [4 5 6]\n",
      " [7 8 9]] \n",
      "\n",
      " [[1 4 7]\n",
      " [2 5 8]\n",
      " [3 6 9]] \n",
      "\n",
      " [[1 4 7]\n",
      " [2 5 8]\n",
      " [3 6 9]]\n"
     ]
    }
   ],
   "source": [
    "print(A, '\\n\\n', A.T, '\\n\\n', A.transpose())"
   ]
  },
  {
   "cell_type": "markdown",
   "metadata": {
    "slideshow": {
     "slide_type": "slide"
    }
   },
   "source": [
    "### `Сравнение скорости`\n",
    "\n",
    "Воспользуемся декоратором `timed` для сравнения скорости матричных операций, реализованных в `numpy` и написанных выше с помощью списков:"
   ]
  },
  {
   "cell_type": "code",
   "execution_count": 72,
   "metadata": {
    "ExecuteTime": {
     "end_time": "2022-09-22T08:01:18.711053Z",
     "start_time": "2022-09-22T08:01:18.708055Z"
    }
   },
   "outputs": [],
   "source": [
    "@timed\n",
    "def matrix_add_np(A, B): return A + B\n",
    "\n",
    "@timed\n",
    "def matrix_mul_np(A, B): return A @ B"
   ]
  },
  {
   "cell_type": "code",
   "execution_count": 73,
   "metadata": {
    "ExecuteTime": {
     "end_time": "2022-09-22T08:01:20.085052Z",
     "start_time": "2022-09-22T08:01:18.909053Z"
    }
   },
   "outputs": [
    {
     "name": "stdout",
     "output_type": "stream",
     "text": [
      "matrix_add  277.999 ms\n",
      "\n",
      "matrix_add_np  0.000 ms\n",
      "\n",
      "matrix_transpose  6.000 ms\n",
      "\n",
      "matrix_mul  760.000 ms\n",
      "\n",
      "matrix_mul_np  3.000 ms\n",
      "\n"
     ]
    }
   ],
   "source": [
    "tmp = [range(1000) for _ in range(1000)]\n",
    "X, Y = np.array(tmp), np.array(tmp)\n",
    "\n",
    "_ = matrix_add(X, Y)\n",
    "_ = matrix_add_np(X, Y)\n",
    "\n",
    "tmp = [range(200) for _ in range(200)]\n",
    "X, Y = np.array(tmp), np.array(tmp)\n",
    "\n",
    "_ = matrix_mul(X, Y)\n",
    "_ = matrix_mul_np(X, Y)"
   ]
  },
  {
   "cell_type": "markdown",
   "metadata": {
    "slideshow": {
     "slide_type": "slide"
    }
   },
   "source": [
    "### `Агрегирующие функции`\n",
    "\n",
    "Подобных функций много, ищите нужное в документации NumPy"
   ]
  },
  {
   "cell_type": "code",
   "execution_count": 74,
   "metadata": {
    "ExecuteTime": {
     "end_time": "2022-09-22T08:01:20.101051Z",
     "start_time": "2022-09-22T08:01:20.086053Z"
    }
   },
   "outputs": [
    {
     "name": "stdout",
     "output_type": "stream",
     "text": [
      "Min element:          1\n",
      "Min element position: 0\n",
      "Max element:          4\n",
      "Mean:                 2.4444444444444446\n",
      "Sum:                  22\n",
      "Median:               3.0\n",
      "Cumulative sum:       [ 1  3  6 10 13 15 16 19 22]\n",
      "Cumulative product:   [   1    2    6   24   72  144  144  432 1296]\n"
     ]
    }
   ],
   "source": [
    "a = np.array([1, 2, 3, 4, 3, 2, 1, 3, 3])\n",
    "\n",
    "print('Min element:          {}'.format(np.min(a)))\n",
    "print('Min element position: {}'.format(np.argmin(a)))\n",
    "print('Max element:          {}'.format(np.max(a)))\n",
    "print('Mean:                 {}'.format(np.mean(a)))\n",
    "print('Sum:                  {}'.format(np.sum(a)))\n",
    "print('Median:               {}'.format(np.median(a)))\n",
    "print('Cumulative sum:       {}'.format(np.cumsum(a)))\n",
    "print('Cumulative product:   {}'.format(np.cumprod(a)))"
   ]
  },
  {
   "cell_type": "markdown",
   "metadata": {},
   "source": [
    "Что будет происходить в случае многомерного массива?"
   ]
  },
  {
   "cell_type": "markdown",
   "metadata": {
    "slideshow": {
     "slide_type": "slide"
    }
   },
   "source": [
    "### `Агрегирующие функции`\n",
    "\n",
    "В многомерном случае операция применяется к массиву, вытянутому в вектор (flatten):"
   ]
  },
  {
   "cell_type": "code",
   "execution_count": 75,
   "metadata": {
    "ExecuteTime": {
     "end_time": "2022-09-22T08:01:20.433246Z",
     "start_time": "2022-09-22T08:01:20.420248Z"
    }
   },
   "outputs": [
    {
     "name": "stdout",
     "output_type": "stream",
     "text": [
      "[[1 2 3]\n",
      " [4 3 2]\n",
      " [1 3 3]] \n",
      "\n",
      "4\n",
      "[ 1  3  6 10 13 15 16 19 22]\n"
     ]
    }
   ],
   "source": [
    "a = np.array([[1, 2, 3], [4, 3, 2], [1, 3, 3]])\n",
    "print(a, '\\n')\n",
    "print(np.max(a))\n",
    "print(np.cumsum(a))"
   ]
  },
  {
   "cell_type": "markdown",
   "metadata": {},
   "source": [
    "Для работы с определёнными размерностям нужно указать явно параметр `axis`:"
   ]
  },
  {
   "cell_type": "code",
   "execution_count": 76,
   "metadata": {
    "ExecuteTime": {
     "end_time": "2022-09-22T08:01:21.207849Z",
     "start_time": "2022-09-22T08:01:21.203849Z"
    }
   },
   "outputs": [
    {
     "name": "stdout",
     "output_type": "stream",
     "text": [
      "[4 3 3] \n",
      "\n",
      "[[1 3 6]\n",
      " [4 7 9]\n",
      " [1 4 7]]\n"
     ]
    }
   ],
   "source": [
    "print(np.max(a, axis=0), '\\n')\n",
    "print(np.cumsum(a, axis=1))"
   ]
  },
  {
   "cell_type": "markdown",
   "metadata": {},
   "source": [
    "Как легко запомнить, как работает axis:\n",
    "* после применения функции получится массив, в котором будет отсутствовать размерность указанная в `axis`, но остальные размерности будут иметь такие же значения"
   ]
  },
  {
   "cell_type": "markdown",
   "metadata": {},
   "source": [
    "### `Агрегирующие функции`"
   ]
  },
  {
   "cell_type": "markdown",
   "metadata": {},
   "source": [
    "<font color='brown'>**Задача 7.** Дан вектор $x$ и квадратная матрица $D$. Вычислить вектор значений $y_j = argmin_i (x_i + D_{ij})$. </font>"
   ]
  },
  {
   "cell_type": "code",
   "execution_count": 77,
   "metadata": {
    "ExecuteTime": {
     "end_time": "2022-09-22T08:01:22.410865Z",
     "start_time": "2022-09-22T08:01:22.395866Z"
    }
   },
   "outputs": [],
   "source": [
    "x = np.array([5, 2, 3, 1])\n",
    "D = np.array([\n",
    "    [1, 2, 3],\n",
    "    [2, 2, 4],\n",
    "    [5, 6, 1],\n",
    "    [2, 4, 5]\n",
    "])"
   ]
  },
  {
   "cell_type": "code",
   "execution_count": 78,
   "metadata": {
    "ExecuteTime": {
     "end_time": "2022-09-22T08:01:23.026153Z",
     "start_time": "2022-09-22T08:01:23.021153Z"
    }
   },
   "outputs": [],
   "source": [
    "### your code here"
   ]
  },
  {
   "cell_type": "markdown",
   "metadata": {},
   "source": [
    "Проверьте себя:"
   ]
  },
  {
   "cell_type": "code",
   "execution_count": null,
   "metadata": {
    "deletable": false,
    "editable": false,
    "run_control": {
     "frozen": true
    }
   },
   "outputs": [],
   "source": [
    "assert y.tolist() == [3, 1, 2]"
   ]
  },
  {
   "cell_type": "markdown",
   "metadata": {
    "slideshow": {
     "slide_type": "slide"
    }
   },
   "source": [
    "### `Конкатенация массивов`\n",
    "\n",
    "Конкатенировать несколько массивом можно с помощью функций `concatenate` (общий случай), `hstack` и `vstack`:"
   ]
  },
  {
   "cell_type": "code",
   "execution_count": 79,
   "metadata": {
    "ExecuteTime": {
     "end_time": "2022-09-22T08:01:23.797110Z",
     "start_time": "2022-09-22T08:01:23.780110Z"
    }
   },
   "outputs": [
    {
     "data": {
      "text/plain": [
       "array([[1, 2, 3, 1, 0, 0],\n",
       "       [4, 5, 6, 0, 2, 0],\n",
       "       [7, 8, 9, 0, 0, 3]])"
      ]
     },
     "execution_count": 79,
     "metadata": {},
     "output_type": "execute_result"
    }
   ],
   "source": [
    "np.hstack([A, B])"
   ]
  },
  {
   "cell_type": "code",
   "execution_count": 80,
   "metadata": {
    "ExecuteTime": {
     "end_time": "2022-09-22T08:01:24.034241Z",
     "start_time": "2022-09-22T08:01:24.021242Z"
    }
   },
   "outputs": [
    {
     "data": {
      "text/plain": [
       "array([[1, 2, 3],\n",
       "       [4, 5, 6],\n",
       "       [7, 8, 9],\n",
       "       [1, 0, 0],\n",
       "       [0, 2, 0],\n",
       "       [0, 0, 3]])"
      ]
     },
     "execution_count": 80,
     "metadata": {},
     "output_type": "execute_result"
    }
   ],
   "source": [
    "np.vstack([A, B])"
   ]
  },
  {
   "cell_type": "markdown",
   "metadata": {
    "slideshow": {
     "slide_type": "slide"
    }
   },
   "source": [
    "### `Ещё несколько полезных функций`"
   ]
  },
  {
   "cell_type": "markdown",
   "metadata": {
    "ExecuteTime": {
     "end_time": "2022-09-22T07:36:35.881026Z",
     "start_time": "2022-09-22T07:36:35.869029Z"
    }
   },
   "source": [
    "Чтобы построить двумерный массив, состоящий из повторений одномерных, можно использовать `np.tile`:"
   ]
  },
  {
   "cell_type": "code",
   "execution_count": 81,
   "metadata": {
    "ExecuteTime": {
     "end_time": "2022-09-22T08:01:24.726675Z",
     "start_time": "2022-09-22T08:01:24.707676Z"
    }
   },
   "outputs": [
    {
     "data": {
      "text/plain": [
       "array([[2, 3, 4],\n",
       "       [2, 3, 4]])"
      ]
     },
     "execution_count": 81,
     "metadata": {},
     "output_type": "execute_result"
    }
   ],
   "source": [
    "a = np.array([2, 3, 4])\n",
    "np.tile(a[np.newaxis, :], (2, 1))"
   ]
  },
  {
   "cell_type": "markdown",
   "metadata": {
    "ExecuteTime": {
     "end_time": "2022-09-22T07:37:41.398443Z",
     "start_time": "2022-09-22T07:37:41.381445Z"
    }
   },
   "source": [
    "Для того, чтобы повторить каждый элемент в массиве, можно использовать `np.repeat`"
   ]
  },
  {
   "cell_type": "code",
   "execution_count": 82,
   "metadata": {
    "ExecuteTime": {
     "end_time": "2022-09-22T08:01:25.101579Z",
     "start_time": "2022-09-22T08:01:25.092580Z"
    }
   },
   "outputs": [
    {
     "data": {
      "text/plain": [
       "array([1, 1, 2, 2, 3, 3])"
      ]
     },
     "execution_count": 82,
     "metadata": {},
     "output_type": "execute_result"
    }
   ],
   "source": [
    "np.repeat([1, 2, 3], repeats=2, axis=0)"
   ]
  },
  {
   "cell_type": "code",
   "execution_count": 83,
   "metadata": {
    "ExecuteTime": {
     "end_time": "2022-09-22T08:01:25.304654Z",
     "start_time": "2022-09-22T08:01:25.292654Z"
    }
   },
   "outputs": [
    {
     "name": "stdout",
     "output_type": "stream",
     "text": [
      "True\n",
      "False\n",
      "[ True False False]\n"
     ]
    }
   ],
   "source": [
    "print(np.all(A == A))\n",
    "print(np.all(A == B))\n",
    "print(np.all(A == [1, 2, 3], axis=1))"
   ]
  },
  {
   "cell_type": "code",
   "execution_count": 84,
   "metadata": {
    "ExecuteTime": {
     "end_time": "2022-09-22T08:01:25.541219Z",
     "start_time": "2022-09-22T08:01:25.532218Z"
    }
   },
   "outputs": [
    {
     "data": {
      "text/plain": [
       "array([[ 1,  4,  9],\n",
       "       [16, 25, 36],\n",
       "       [49, 64, 81]])"
      ]
     },
     "execution_count": 84,
     "metadata": {},
     "output_type": "execute_result"
    }
   ],
   "source": [
    "func = np.vectorize(lambda x: x ** 2)\n",
    "func(A)"
   ]
  },
  {
   "cell_type": "markdown",
   "metadata": {},
   "source": [
    "### `Типы и преобразование типов`"
   ]
  },
  {
   "cell_type": "markdown",
   "metadata": {
    "ExecuteTime": {
     "end_time": "2022-09-22T07:42:39.477459Z",
     "start_time": "2022-09-22T07:42:39.459459Z"
    }
   },
   "source": [
    "Атрибут `dtype` хранит информацию о типе массива:"
   ]
  },
  {
   "cell_type": "code",
   "execution_count": 85,
   "metadata": {
    "ExecuteTime": {
     "end_time": "2022-09-22T08:01:26.429870Z",
     "start_time": "2022-09-22T08:01:26.419871Z"
    }
   },
   "outputs": [
    {
     "data": {
      "text/plain": [
       "(dtype('int32'), dtype('float64'))"
      ]
     },
     "execution_count": 85,
     "metadata": {},
     "output_type": "execute_result"
    }
   ],
   "source": [
    "x = np.arange(15)\n",
    "y = np.array([1.5, 2.5])\n",
    "\n",
    "x.dtype, y.dtype"
   ]
  },
  {
   "cell_type": "markdown",
   "metadata": {},
   "source": [
    "Преобразование типов осуществляется с помощью метода `astype`:"
   ]
  },
  {
   "cell_type": "code",
   "execution_count": 86,
   "metadata": {
    "ExecuteTime": {
     "end_time": "2022-09-22T08:01:26.982577Z",
     "start_time": "2022-09-22T08:01:26.964577Z"
    }
   },
   "outputs": [
    {
     "data": {
      "text/plain": [
       "dtype('float64')"
      ]
     },
     "execution_count": 86,
     "metadata": {},
     "output_type": "execute_result"
    }
   ],
   "source": [
    "x = x.astype(np.float64)\n",
    "x.dtype"
   ]
  },
  {
   "cell_type": "markdown",
   "metadata": {},
   "source": [
    "Можно сразу указывать желаемый тип при создании массивов при помощи параметра `dtype`:"
   ]
  },
  {
   "cell_type": "code",
   "execution_count": 87,
   "metadata": {
    "ExecuteTime": {
     "end_time": "2022-09-22T08:01:27.623557Z",
     "start_time": "2022-09-22T08:01:27.612558Z"
    }
   },
   "outputs": [
    {
     "data": {
      "text/plain": [
       "array([['1', '1', '1'],\n",
       "       ['1', '1', '1']], dtype='<U1')"
      ]
     },
     "execution_count": 87,
     "metadata": {},
     "output_type": "execute_result"
    }
   ],
   "source": [
    "np.ones((2, 3), dtype=str)"
   ]
  },
  {
   "cell_type": "markdown",
   "metadata": {
    "slideshow": {
     "slide_type": "slide"
    }
   },
   "source": [
    "### `Примеры задач на матрицы в NumPy`\n",
    "\n",
    "Условие - нельзя использовать\n",
    "- циклы\n",
    "- генераторы списков/списковые включения\n",
    "- map-функции (в т.ч. `np.vectorize`)"
   ]
  },
  {
   "cell_type": "markdown",
   "metadata": {},
   "source": [
    "<font color='brown'> **Задача 8**. Пронумеровать в порядке следования максимальные элементы в векторе. Для вектора `[1, 2, 3, 3, 2, 1, 3, 1]` должно получиться `[0, 0, 1, 2, 0, 0, 3, 0]`: </font>"
   ]
  },
  {
   "cell_type": "code",
   "execution_count": 88,
   "metadata": {
    "ExecuteTime": {
     "end_time": "2022-09-22T08:01:29.209986Z",
     "start_time": "2022-09-22T08:01:29.203987Z"
    }
   },
   "outputs": [
    {
     "name": "stdout",
     "output_type": "stream",
     "text": [
      "[0 0 1 2 0 0 3 0]\n"
     ]
    }
   ],
   "source": [
    "def task_1(a):\n",
    "    b = a == np.max(a)\n",
    "    return np.cumsum(b) * b\n",
    "\n",
    "print(task_1([1, 2, 3, 3, 2, 1, 3, 1]))"
   ]
  },
  {
   "cell_type": "markdown",
   "metadata": {
    "slideshow": {
     "slide_type": "slide"
    }
   },
   "source": [
    "### `Примеры задач на матрицы в NumPy`"
   ]
  },
  {
   "cell_type": "markdown",
   "metadata": {},
   "source": [
    "<font color='brown'> **Задача 9**. Реализуйте функцию подсчёта произведения ненулевых элементов на диагонали прямоугольной матрицы. Для матрицы `[[1, 0, 1], [2, 0, 2], [3, 0, 3], [4, 4, 4]]` ответом является $3$. Если ненулевых элементов нет, функция должна возвращать `None`: </font>"
   ]
  },
  {
   "cell_type": "code",
   "execution_count": 89,
   "metadata": {
    "ExecuteTime": {
     "end_time": "2022-09-22T08:01:29.792969Z",
     "start_time": "2022-09-22T08:01:29.787970Z"
    }
   },
   "outputs": [
    {
     "name": "stdout",
     "output_type": "stream",
     "text": [
      "3\n"
     ]
    }
   ],
   "source": [
    "def task_2(A):\n",
    "    B = A.diagonal()\n",
    "    return np.prod(B[B > 0]) if np.any(B > 0) > 0 else None\n",
    "\n",
    "print(task_2(np.array([[1, 0, 1], [2, 0, 2], [3, 0, 3], [4, 4, 4]])))"
   ]
  },
  {
   "cell_type": "markdown",
   "metadata": {},
   "source": [
    "<font color='brown'> **Задача 10**. Найти максимальный элемент в вектор-строке среди элементов, перед которым стоит нулевой. Для `[0, 4, 2, 0, 3, 0, 0, 5, 7, 0]` ответ равен $5$: </font>"
   ]
  },
  {
   "cell_type": "code",
   "execution_count": 90,
   "metadata": {
    "ExecuteTime": {
     "end_time": "2022-09-22T08:01:30.312187Z",
     "start_time": "2022-09-22T08:01:30.308187Z"
    }
   },
   "outputs": [
    {
     "name": "stdout",
     "output_type": "stream",
     "text": [
      "5\n"
     ]
    }
   ],
   "source": [
    "def task_3(a):\n",
    "    return np.max(a[np.where(a[0: -1] == 0)[0] + 1])  # [0] to skip technical wrapper, + 1 for shift\n",
    "\n",
    "print(task_3(np.array([0, 4, 2, 0, 3, 0, 0, 5, 7, 0])))"
   ]
  },
  {
   "cell_type": "markdown",
   "metadata": {},
   "source": [
    "### `Примеры задач на матрицы в NumPy`"
   ]
  },
  {
   "cell_type": "markdown",
   "metadata": {},
   "source": [
    "<font color='brown'> **Задача 11.** Дана матрица размерности $N \\times K$, $N$ - число объектов, $K$ - число признаков.\n",
    "Подсчитать выборочное среднее и ковариационную матрицу без использования\n",
    "функций mean и cov.\n",
    "\n",
    "$$ E[X]={\\frac {1}{n}}\\sum \\limits _{i=1}^{n}x_{i} $$\n",
    "\n",
    "$$ {\\mathrm  {cov}}(X_{{(n)}},Y_{{(n)}})={\\frac  1n}\\sum _{{t=1}}^{n}\\left(X_{t}-\\overline {X}\\right)\\left(Y_{t}-\\overline {Y}\\right)$$\n",
    "\n",
    " </font>"
   ]
  },
  {
   "cell_type": "code",
   "execution_count": 91,
   "metadata": {
    "ExecuteTime": {
     "end_time": "2022-09-22T08:01:31.127194Z",
     "start_time": "2022-09-22T08:01:31.116205Z"
    }
   },
   "outputs": [],
   "source": [
    "X = np.arange(32).reshape(8, 4)"
   ]
  },
  {
   "cell_type": "code",
   "execution_count": 92,
   "metadata": {
    "ExecuteTime": {
     "end_time": "2022-09-22T08:01:31.440245Z",
     "start_time": "2022-09-22T08:01:31.436246Z"
    }
   },
   "outputs": [],
   "source": [
    "### your code here"
   ]
  },
  {
   "cell_type": "code",
   "execution_count": null,
   "metadata": {
    "deletable": false,
    "editable": false,
    "run_control": {
     "frozen": true
    }
   },
   "outputs": [],
   "source": [
    "assert mean.tolist() == [14, 15, 16, 17]\n",
    "assert np.all(cov == 84)"
   ]
  },
  {
   "cell_type": "markdown",
   "metadata": {},
   "source": [
    "### `Примеры задач на матрицы в NumPy`"
   ]
  },
  {
   "cell_type": "markdown",
   "metadata": {},
   "source": [
    "<font color='brown'> **Задача 12.** Замените все максимальные элементы матрицы $A$ на $0$. </font>"
   ]
  },
  {
   "cell_type": "code",
   "execution_count": 93,
   "metadata": {
    "ExecuteTime": {
     "end_time": "2022-09-22T08:01:32.213508Z",
     "start_time": "2022-09-22T08:01:32.204507Z"
    }
   },
   "outputs": [],
   "source": [
    "A = np.array([\n",
    "    [1, 6, 3],\n",
    "    [6, 2, 1],\n",
    "    [4, 5, 6],\n",
    "    [1, 2, 1],\n",
    "])"
   ]
  },
  {
   "cell_type": "code",
   "execution_count": 94,
   "metadata": {
    "ExecuteTime": {
     "end_time": "2022-09-22T08:01:32.415127Z",
     "start_time": "2022-09-22T08:01:32.405128Z"
    }
   },
   "outputs": [],
   "source": [
    "### your code here"
   ]
  },
  {
   "cell_type": "code",
   "execution_count": null,
   "metadata": {
    "deletable": false,
    "editable": false,
    "run_control": {
     "frozen": true
    }
   },
   "outputs": [],
   "source": [
    "new_A = np.array([\n",
    "    [1, 0, 3],\n",
    "    [0, 2, 1],\n",
    "    [4, 5, 0],\n",
    "    [1, 2, 1],\n",
    "])\n",
    "assert np.all(A == new_A)"
   ]
  },
  {
   "cell_type": "markdown",
   "metadata": {},
   "source": [
    "### `Примеры задач на матрицы в NumPy`"
   ]
  },
  {
   "cell_type": "markdown",
   "metadata": {},
   "source": [
    "<font color='brown'> **Задача 13.** Вычислить площадь круга методом Монте-Карло. </font>"
   ]
  },
  {
   "cell_type": "code",
   "execution_count": 95,
   "metadata": {
    "ExecuteTime": {
     "end_time": "2022-09-22T08:01:33.440548Z",
     "start_time": "2022-09-22T08:01:33.428548Z"
    }
   },
   "outputs": [],
   "source": [
    "N = 1000\n",
    "X = np.random.uniform(0, 1, size=(N, 2))"
   ]
  },
  {
   "cell_type": "code",
   "execution_count": 96,
   "metadata": {
    "ExecuteTime": {
     "end_time": "2022-09-22T08:01:33.615582Z",
     "start_time": "2022-09-22T08:01:33.613580Z"
    }
   },
   "outputs": [],
   "source": [
    "### your code here"
   ]
  },
  {
   "cell_type": "markdown",
   "metadata": {},
   "source": [
    "Проверьте себя:"
   ]
  },
  {
   "cell_type": "code",
   "execution_count": 97,
   "metadata": {
    "ExecuteTime": {
     "end_time": "2022-09-22T08:01:34.029167Z",
     "start_time": "2022-09-22T08:01:34.020167Z"
    }
   },
   "outputs": [
    {
     "data": {
      "text/plain": [
       "0.7853981633974483"
      ]
     },
     "execution_count": 97,
     "metadata": {},
     "output_type": "execute_result"
    }
   ],
   "source": [
    "np.pi / 4"
   ]
  },
  {
   "cell_type": "markdown",
   "metadata": {
    "ExecuteTime": {
     "end_time": "2022-09-22T07:47:35.599928Z",
     "start_time": "2022-09-22T07:47:35.593928Z"
    }
   },
   "source": [
    "Постройте график, как значения убывают с итерациями:"
   ]
  },
  {
   "cell_type": "code",
   "execution_count": 98,
   "metadata": {
    "ExecuteTime": {
     "end_time": "2022-09-22T08:01:34.821288Z",
     "start_time": "2022-09-22T08:01:34.476288Z"
    }
   },
   "outputs": [],
   "source": [
    "import matplotlib.pyplot as plt\n",
    "\n",
    "### your code here"
   ]
  },
  {
   "cell_type": "markdown",
   "metadata": {},
   "source": [
    "### `Примеры задач на матрицы в NumPy`"
   ]
  },
  {
   "cell_type": "markdown",
   "metadata": {},
   "source": [
    "<font color='brown'> **Задача* 14.** Даны матрицы $A$ размера $(n \\times d)$ и $B$ размера $(m \\times d)$. Найти в $A$ все строки, содержащиеся в $B$, не используя циклы. Оцените сложность полученного алгоритма.  </font>"
   ]
  },
  {
   "cell_type": "code",
   "execution_count": 99,
   "metadata": {
    "ExecuteTime": {
     "end_time": "2022-09-22T08:01:35.217158Z",
     "start_time": "2022-09-22T08:01:35.204158Z"
    }
   },
   "outputs": [],
   "source": [
    "A = np.array([\n",
    "    [1, 2, 3],\n",
    "    [1, 2, 1],\n",
    "    [4, 5, 6],\n",
    "    [1, 2, 1],\n",
    "    [4, 2, 1]\n",
    "])\n",
    "\n",
    "B = np.array([\n",
    "    [4, 5, 6],\n",
    "    [4, 5, 6],\n",
    "    [1, 2, 3],\n",
    "    [0, 1, 2]\n",
    "])"
   ]
  },
  {
   "cell_type": "code",
   "execution_count": 100,
   "metadata": {
    "ExecuteTime": {
     "end_time": "2022-09-22T08:01:35.705168Z",
     "start_time": "2022-09-22T08:01:35.693169Z"
    }
   },
   "outputs": [],
   "source": [
    "### your code here"
   ]
  },
  {
   "cell_type": "markdown",
   "metadata": {},
   "source": [
    "Проверьте себя:"
   ]
  },
  {
   "cell_type": "code",
   "execution_count": null,
   "metadata": {
    "deletable": false,
    "editable": false,
    "run_control": {
     "frozen": true
    }
   },
   "outputs": [],
   "source": [
    "assert set(indexes) == {0, 2}"
   ]
  },
  {
   "cell_type": "markdown",
   "metadata": {},
   "source": [
    "### `Примеры задач на матрицы в NumPy`"
   ]
  },
  {
   "cell_type": "markdown",
   "metadata": {},
   "source": [
    "<font color='brown'> **Задача* 15.** Даны матрицы $A$ размера $(n \\times d)$ и $B$ размера $(m \\times d)$. Посчитайте матрицу попарных расстояний $D$ размера $(n \\times m)$ такую, что $d_{ij} = \\{||a_{i} - b_{j}||\\}_{i,j}^{n, m}$,  используя broadcasting. Оцените сложность полученного алгоритма. Можно ли существенно её улучшить? Подсказка: раскройте квадрат нормы разности. </font>"
   ]
  },
  {
   "cell_type": "code",
   "execution_count": 101,
   "metadata": {
    "ExecuteTime": {
     "end_time": "2022-09-22T08:01:37.750359Z",
     "start_time": "2022-09-22T08:01:37.740360Z"
    }
   },
   "outputs": [
    {
     "data": {
      "text/plain": [
       "(array([[ 0.72890567, -0.56970242, -0.62064083],\n",
       "        [-0.36903927, -0.21307698,  0.07165102],\n",
       "        [ 0.80576973, -1.4564149 ,  1.0019793 ],\n",
       "        [ 1.3538047 , -1.6218574 ,  0.91548881]]),\n",
       " array([[-0.9158514 ,  0.9815864 ,  0.02831563],\n",
       "        [ 0.35667976,  0.35565865,  1.45202641],\n",
       "        [-0.23968579,  0.47515444,  0.18428468],\n",
       "        [-0.20075297, -0.7667414 , -1.30009438],\n",
       "        [-0.57350624,  1.53674006, -0.17750855]]))"
      ]
     },
     "execution_count": 101,
     "metadata": {},
     "output_type": "execute_result"
    }
   ],
   "source": [
    "m, n, d = 5, 4, 3\n",
    "\n",
    "A = np.random.randn(n, d)\n",
    "B = np.random.randn(m, d)\n",
    "A, B"
   ]
  },
  {
   "cell_type": "code",
   "execution_count": 102,
   "metadata": {
    "ExecuteTime": {
     "end_time": "2022-09-22T08:01:38.362340Z",
     "start_time": "2022-09-22T08:01:38.348341Z"
    }
   },
   "outputs": [],
   "source": [
    "### your code here"
   ]
  },
  {
   "cell_type": "markdown",
   "metadata": {},
   "source": [
    "## Бонус. Несколько полезных библиотек"
   ]
  },
  {
   "cell_type": "markdown",
   "metadata": {
    "slideshow": {
     "slide_type": "slide"
    }
   },
   "source": [
    "### `Библиотека NetworkX`\n",
    "\n",
    "- Позволяет работать с графами, в узлах которых могут находиться любые объекты<br><br>\n",
    "\n",
    "- Имеет встроенные процедуры создания графов базовых типов<br><br>\n",
    "\n",
    "- Реализует множество алгоритмов на графах, позволяет получать характеристики графов<br><br>\n",
    "\n",
    "- Поддерживается основные форматы хранения графов в файлах<br><br>\n",
    "\n",
    "- Имеет встроенные инструменты для визуализации графов (на базе mathplotlib и GraphViz)<br><br>\n",
    "\n",
    "- В качестве базовой структуры данных использует словарь (`dict`)"
   ]
  },
  {
   "cell_type": "markdown",
   "metadata": {
    "slideshow": {
     "slide_type": "slide"
    }
   },
   "source": [
    "### `Основные классы графов`\n",
    "\n",
    "- `Graph` — простой неориентированнsq граф. Кратные ребра игнорируются, допускаются петли.\n",
    "- `DiGraph` — ориентированный версия `Graph`\n",
    "- `MultiGraph` — неориентированный граф, допускающий кратные ребра\n",
    "- `MultiDiGraph` — ориентированная версия `MultiDiGraph`"
   ]
  },
  {
   "cell_type": "code",
   "execution_count": 103,
   "metadata": {
    "ExecuteTime": {
     "end_time": "2022-09-22T08:01:39.106355Z",
     "start_time": "2022-09-22T08:01:38.996357Z"
    }
   },
   "outputs": [
    {
     "data": {
      "text/plain": [
       "<networkx.classes.graph.Graph at 0x18ac56e0fa0>"
      ]
     },
     "execution_count": 103,
     "metadata": {},
     "output_type": "execute_result"
    }
   ],
   "source": [
    "import networkx as nx\n",
    "G = nx.Graph()\n",
    "G"
   ]
  },
  {
   "cell_type": "markdown",
   "metadata": {
    "slideshow": {
     "slide_type": "slide"
    }
   },
   "source": [
    "### `Создание графа`\n",
    "\n",
    "Доступны три способа создания:\n",
    "- Явное добавление вершин и ребер в скрипте\n",
    "- Генерация графа с помощью алгоритмов создания стандартных сетевых топологий\n",
    "- Импортирование существующего графа из файла\n",
    "\n",
    "Явное создание графа:"
   ]
  },
  {
   "cell_type": "code",
   "execution_count": 104,
   "metadata": {
    "ExecuteTime": {
     "end_time": "2022-09-22T08:01:39.452676Z",
     "start_time": "2022-09-22T08:01:39.435678Z"
    }
   },
   "outputs": [
    {
     "data": {
      "text/plain": [
       "NodeView((1, 2, 3))"
      ]
     },
     "execution_count": 104,
     "metadata": {},
     "output_type": "execute_result"
    }
   ],
   "source": [
    "G.add_node(1)\n",
    "G.add_nodes_from([2, 3])\n",
    "G.nodes"
   ]
  },
  {
   "cell_type": "code",
   "execution_count": 105,
   "metadata": {
    "ExecuteTime": {
     "end_time": "2022-09-22T08:01:39.643900Z",
     "start_time": "2022-09-22T08:01:39.636900Z"
    }
   },
   "outputs": [
    {
     "data": {
      "text/plain": [
       "EdgeView([(1, 2), (1, 3), (2, 3)])"
      ]
     },
     "execution_count": 105,
     "metadata": {},
     "output_type": "execute_result"
    }
   ],
   "source": [
    "G.add_edge(1, 2)\n",
    "G.add_edges_from([(2, 3), (1, 3)])\n",
    "G.edges"
   ]
  },
  {
   "cell_type": "markdown",
   "metadata": {
    "slideshow": {
     "slide_type": "slide"
    }
   },
   "source": [
    "### `Визуализация графа`\n",
    "\n",
    "Построенный граф можно несложно визуализировать на плоскости средствами NetworkX:"
   ]
  },
  {
   "cell_type": "code",
   "execution_count": 106,
   "metadata": {
    "ExecuteTime": {
     "end_time": "2022-09-22T08:01:40.069960Z",
     "start_time": "2022-09-22T08:01:39.995954Z"
    }
   },
   "outputs": [
    {
     "data": {
      "image/png": "[encoded data removed]",
      "text/plain": [
       "<Figure size 640x480 with 1 Axes>"
      ]
     },
     "metadata": {},
     "output_type": "display_data"
    }
   ],
   "source": [
    "nx.draw_circular(G, node_color='orange', node_size=1000, with_labels=True)"
   ]
  },
  {
   "cell_type": "markdown",
   "metadata": {
    "slideshow": {
     "slide_type": "slide"
    }
   },
   "source": [
    "### `Удаление данных из графа`\n",
    "\n",
    "Можно удалить ребра:"
   ]
  },
  {
   "cell_type": "code",
   "execution_count": 107,
   "metadata": {
    "ExecuteTime": {
     "end_time": "2022-09-22T08:01:40.352128Z",
     "start_time": "2022-09-22T08:01:40.340128Z"
    }
   },
   "outputs": [
    {
     "data": {
      "text/plain": [
       "EdgeView([(1, 2), (2, 3)])"
      ]
     },
     "execution_count": 107,
     "metadata": {},
     "output_type": "execute_result"
    }
   ],
   "source": [
    "G.remove_edge(1, 3)\n",
    "G.edges"
   ]
  },
  {
   "cell_type": "markdown",
   "metadata": {},
   "source": [
    "Можно удалить вершину (будут удалены все инцидентные ребра):"
   ]
  },
  {
   "cell_type": "code",
   "execution_count": 108,
   "metadata": {
    "ExecuteTime": {
     "end_time": "2022-09-22T08:01:40.716425Z",
     "start_time": "2022-09-22T08:01:40.708427Z"
    }
   },
   "outputs": [
    {
     "data": {
      "text/plain": [
       "EdgeView([])"
      ]
     },
     "execution_count": 108,
     "metadata": {},
     "output_type": "execute_result"
    }
   ],
   "source": [
    "G.remove_node(2)\n",
    "G.edges"
   ]
  },
  {
   "cell_type": "markdown",
   "metadata": {},
   "source": [
    "Можно очистить весь граф:"
   ]
  },
  {
   "cell_type": "code",
   "execution_count": 109,
   "metadata": {
    "ExecuteTime": {
     "end_time": "2022-09-22T08:01:41.093654Z",
     "start_time": "2022-09-22T08:01:41.083656Z"
    }
   },
   "outputs": [
    {
     "name": "stdout",
     "output_type": "stream",
     "text": [
      "0 0\n"
     ]
    }
   ],
   "source": [
    "G.clear()\n",
    "print(G.number_of_edges(), G.number_of_nodes())"
   ]
  },
  {
   "cell_type": "markdown",
   "metadata": {
    "slideshow": {
     "slide_type": "slide"
    }
   },
   "source": [
    "### `Генерация графов`\n",
    "\n",
    "Известные стандартные графы можно создавать с помощью встроенных методов:"
   ]
  },
  {
   "cell_type": "code",
   "execution_count": 110,
   "metadata": {
    "ExecuteTime": {
     "end_time": "2022-09-22T08:01:41.550134Z",
     "start_time": "2022-09-22T08:01:41.492133Z"
    }
   },
   "outputs": [
    {
     "data": {
      "image/png": "[encoded data removed]",
      "text/plain": [
       "<Figure size 640x480 with 1 Axes>"
      ]
     },
     "metadata": {},
     "output_type": "display_data"
    }
   ],
   "source": [
    "K_5 = nx.complete_graph(5)\n",
    "nx.draw_circular(K_5, node_color='orange', node_size=1000, with_labels=True)"
   ]
  },
  {
   "cell_type": "markdown",
   "metadata": {
    "slideshow": {
     "slide_type": "slide"
    }
   },
   "source": [
    "### `Генерация графов`\n",
    "\n",
    "Генерировать также можно случайные графы:"
   ]
  },
  {
   "cell_type": "code",
   "execution_count": 111,
   "metadata": {
    "ExecuteTime": {
     "end_time": "2022-09-22T08:01:41.994118Z",
     "start_time": "2022-09-22T08:01:41.876119Z"
    }
   },
   "outputs": [
    {
     "data": {
      "image/png": "[encoded data removed]",
      "text/plain": [
       "<Figure size 640x480 with 1 Axes>"
      ]
     },
     "metadata": {},
     "output_type": "display_data"
    }
   ],
   "source": [
    "er = nx.erdos_renyi_graph(n=10, p=0.4)\n",
    "nx.draw_circular(er, node_color='orange', node_size=1000, with_labels=True)"
   ]
  },
  {
   "cell_type": "markdown",
   "metadata": {
    "slideshow": {
     "slide_type": "slide"
    }
   },
   "source": [
    "### `Создание графа из словаря или списка`"
   ]
  },
  {
   "cell_type": "code",
   "execution_count": 112,
   "metadata": {
    "ExecuteTime": {
     "end_time": "2022-09-22T08:01:42.310185Z",
     "start_time": "2022-09-22T08:01:42.236184Z"
    }
   },
   "outputs": [
    {
     "data": {
      "text/plain": [
       "{('A', 'B'): Text(-0.14333660609105836, 0.4999999999999999, '1.5'),\n",
       " ('A', 'C'): Text(-0.04605598989461876, -0.4263681303277567, '2.0'),\n",
       " ('B', 'C'): Text(0.1893925959856784, -0.07363186967224339, '0.5')}"
      ]
     },
     "execution_count": 112,
     "metadata": {},
     "output_type": "execute_result"
    },
    {
     "data": {
      "image/png": "[encoded data removed]",
      "text/plain": [
       "<Figure size 640x480 with 1 Axes>"
      ]
     },
     "metadata": {},
     "output_type": "display_data"
    }
   ],
   "source": [
    "g = {'A': {'B': {'weight': 1.5}, 'C': {'weight': 2.0}},\n",
    "     'B': {'C': {'weight': 0.5}}}\n",
    "\n",
    "G = nx.DiGraph(g)\n",
    "\n",
    "pos = nx.spring_layout(G, seed=7)\n",
    "nx.draw(G, pos, node_color='orange', node_size=1000, with_labels=True)\n",
    "labels = nx.get_edge_attributes(G, 'weight')\n",
    "nx.draw_networkx_edge_labels(G, pos, edge_labels=labels)"
   ]
  },
  {
   "cell_type": "markdown",
   "metadata": {
    "slideshow": {
     "slide_type": "slide"
    }
   },
   "source": [
    "### `Конвертация графа в словарь или список`\n",
    "\n",
    "Конвертация в словарь словарей сохраняет всю информацию:"
   ]
  },
  {
   "cell_type": "code",
   "execution_count": 113,
   "metadata": {
    "ExecuteTime": {
     "end_time": "2022-09-22T08:01:42.642539Z",
     "start_time": "2022-09-22T08:01:42.636538Z"
    }
   },
   "outputs": [
    {
     "data": {
      "text/plain": [
       "{'A': {'B': {'weight': 1.5}, 'C': {'weight': 2.0}},\n",
       " 'B': {'C': {'weight': 0.5}},\n",
       " 'C': {}}"
      ]
     },
     "execution_count": 113,
     "metadata": {},
     "output_type": "execute_result"
    }
   ],
   "source": [
    "nx.convert.to_dict_of_dicts(G)"
   ]
  },
  {
   "cell_type": "markdown",
   "metadata": {},
   "source": [
    "Конвертация в список - только информацию о структуре графа:"
   ]
  },
  {
   "cell_type": "code",
   "execution_count": 114,
   "metadata": {
    "ExecuteTime": {
     "end_time": "2022-09-22T08:01:43.052680Z",
     "start_time": "2022-09-22T08:01:43.046681Z"
    }
   },
   "outputs": [
    {
     "data": {
      "text/plain": [
       "{'A': ['B', 'C'], 'B': ['C'], 'C': []}"
      ]
     },
     "execution_count": 114,
     "metadata": {},
     "output_type": "execute_result"
    }
   ],
   "source": [
    "nx.convert.to_dict_of_lists(G)"
   ]
  },
  {
   "cell_type": "markdown",
   "metadata": {
    "slideshow": {
     "slide_type": "slide"
    }
   },
   "source": [
    "### `Операции над графами`"
   ]
  },
  {
   "cell_type": "markdown",
   "metadata": {
    "ExecuteTime": {
     "end_time": "2022-09-22T07:58:42.011578Z",
     "start_time": "2022-09-22T07:58:41.998584Z"
    }
   },
   "source": [
    "```python\n",
    "nx.subgraph(G, nodes)         # induced subgraph view of G on nodes in nodes\n",
    "nx.union(G1, G2)              # graph union\n",
    "nx.disjoint_union(G1, G2)     # graph union assuming all nodes are different\n",
    "nx.cartesian_product(G1, G2)  # return Cartesian product graph\n",
    "nx.compose(G1, G2)            # combine graphs identifying nodes common to both\n",
    "nx.complement(G)              # graph complement\n",
    "nx.create_empty_copy(G)       # return an empty copy of the same graph class\n",
    "nx.to_undirected(G)           # return an undirected representation of G\n",
    "nx.to_directed(G)             # return a directed representation of G\n",
    "```"
   ]
  },
  {
   "cell_type": "markdown",
   "metadata": {
    "slideshow": {
     "slide_type": "slide"
    }
   },
   "source": [
    "### `Операции над графами`\n",
    "\n",
    "Выделение подграфа:"
   ]
  },
  {
   "cell_type": "code",
   "execution_count": 115,
   "metadata": {
    "ExecuteTime": {
     "end_time": "2022-09-22T08:01:43.934939Z",
     "start_time": "2022-09-22T08:01:43.867939Z"
    }
   },
   "outputs": [
    {
     "data": {
      "image/png": "[encoded data removed]",
      "text/plain": [
       "<Figure size 640x480 with 1 Axes>"
      ]
     },
     "metadata": {},
     "output_type": "display_data"
    }
   ],
   "source": [
    "G = nx.erdos_renyi_graph(n=7, p=0.4)\n",
    "nx.draw_circular(G, node_color='orange', node_size=1000, with_labels=True)\n",
    "nx.draw_circular(nx.subgraph(G, [0, 1, 4, 5]), node_color='red', node_size=1000, with_labels=True)"
   ]
  },
  {
   "cell_type": "markdown",
   "metadata": {
    "slideshow": {
     "slide_type": "slide"
    }
   },
   "source": [
    "### `Алгоритмы на графах`\n",
    "\n",
    "В NetworkX реализовано много полезных алгоритмов для анализа и кластеризации графов, полный список есть в документации (https://networkx.org/documentation/stable/reference/algorithms/index.html)\n",
    "\n",
    "Найдем кратчайший путь между парой вершин: "
   ]
  },
  {
   "cell_type": "code",
   "execution_count": 116,
   "metadata": {
    "ExecuteTime": {
     "end_time": "2022-09-22T08:01:44.328038Z",
     "start_time": "2022-09-22T08:01:44.268050Z"
    }
   },
   "outputs": [
    {
     "name": "stdout",
     "output_type": "stream",
     "text": [
      "[6, 1, 0, 3]\n"
     ]
    },
    {
     "data": {
      "image/png": "[encoded data removed]",
      "text/plain": [
       "<Figure size 640x480 with 1 Axes>"
      ]
     },
     "metadata": {},
     "output_type": "display_data"
    }
   ],
   "source": [
    "G = nx.full_rary_tree(5, 7)\n",
    "nx.draw(G, node_color='orange', node_size=1000, with_labels=True)\n",
    "print(nx.shortest_path(G, source=6, target=3))"
   ]
  },
  {
   "cell_type": "markdown",
   "metadata": {
    "slideshow": {
     "slide_type": "slide"
    }
   },
   "source": [
    "### `Алгоритмы на графах`\n",
    "\n",
    "Найдем все клики (полные подграфы) в алгоритме: "
   ]
  },
  {
   "cell_type": "code",
   "execution_count": 117,
   "metadata": {
    "ExecuteTime": {
     "end_time": "2022-09-22T08:01:44.740102Z",
     "start_time": "2022-09-22T08:01:44.676104Z"
    }
   },
   "outputs": [
    {
     "data": {
      "text/plain": [
       "[[0, 1, 2, 3, 4, 5]]"
      ]
     },
     "execution_count": 117,
     "metadata": {},
     "output_type": "execute_result"
    },
    {
     "data": {
      "image/png": "[encoded data removed]",
      "text/plain": [
       "<Figure size 640x480 with 1 Axes>"
      ]
     },
     "metadata": {},
     "output_type": "display_data"
    }
   ],
   "source": [
    "G = nx.complete_graph(6)\n",
    "nx.draw(G, node_color='orange', node_size=1000, with_labels=True)\n",
    "[e for e in nx.algorithms.clique.find_cliques(G)]"
   ]
  },
  {
   "cell_type": "markdown",
   "metadata": {},
   "source": [
    "### `Алгоритмы на графах`\n",
    "\n",
    "Выделение сообществ методом жадной максимизации модулярности: "
   ]
  },
  {
   "cell_type": "code",
   "execution_count": 118,
   "metadata": {
    "ExecuteTime": {
     "end_time": "2022-09-22T08:01:45.262113Z",
     "start_time": "2022-09-22T08:01:45.052116Z"
    }
   },
   "outputs": [
    {
     "name": "stdout",
     "output_type": "stream",
     "text": [
      "[frozenset({0, 1, 2, 3, 4, 5, 6, 7, 8, 9, 10, 11}), frozenset({12, 13, 14, 15, 16, 17, 18, 19, 20, 21})]\n"
     ]
    },
    {
     "data": {
      "image/png": "[encoded data removed]",
      "text/plain": [
       "<Figure size 640x480 with 1 Axes>"
      ]
     },
     "metadata": {},
     "output_type": "display_data"
    }
   ],
   "source": [
    "G = nx.barbell_graph(10, 2)\n",
    "\n",
    "nx.draw_kamada_kawai(G, node_color='orange', node_size=1000, with_labels=True)\n",
    "print(list(nx.algorithms.community.greedy_modularity_communities(G)))"
   ]
  },
  {
   "cell_type": "markdown",
   "metadata": {},
   "source": [
    "По факту кластеризация и выделение сообществ — одна и та же задача, но в алгоритмах (и в реализациях) их часто описывают отдельно"
   ]
  },
  {
   "cell_type": "markdown",
   "metadata": {
    "slideshow": {
     "slide_type": "slide"
    }
   },
   "source": [
    "### `Введение в библиотеку SciPy`\n",
    "\n",
    "- SciPy — это библиотека для научных вычислений, решения оптимизационных, численных и статистических задач<br><br>\n",
    "- Построена поверх NumPy<br><br>\n",
    "- Эффективно реализует многие методы линейной алгебры и оптимизации<br><br>\n",
    "\n",
    "Полезные ссылки:\n",
    "- https://scipy-lectures.org/intro/scipy.html\n",
    "- https://docs.scipy.org/doc/scipy/reference/"
   ]
  },
  {
   "cell_type": "markdown",
   "metadata": {
    "slideshow": {
     "slide_type": "slide"
    }
   },
   "source": [
    "### `Состав SciPy`\n",
    "\n",
    "__Что кратко рассмотрим:__\n",
    "\n",
    "- `linalg` — линейная алгебра\n",
    "- `optimize` — методы оптимизации и решения уравнений\n",
    "- `sparse` — разреженные матрицы\n",
    "- `stats` — вероятностные распределения и статистика"
   ]
  },
  {
   "cell_type": "markdown",
   "metadata": {
    "slideshow": {
     "slide_type": "slide"
    }
   },
   "source": [
    "### `Состав SciPy`\n",
    "\n",
    "__Что есть ещё:__\n",
    "\n",
    "- `cluster` — алгоритмы кластеризации\n",
    "- `constants` — физические и математические константы\n",
    "- `fftpack` — инструменты для быстрого преобразования Фурье\n",
    "- `integrate` — интегрирование и решение ОДУ\n",
    "- `interpolate` — интерполяция и сплайны\n",
    "- `io` — библиотека для работы с разными форматами входных и выходных данных\n",
    "- `ndimage` — обработка N-мерных изображений\n",
    "- `odr` — реализация Orthogonal distance regression\n",
    "- `signal` — обработка сигналов\n",
    "- `spatial` — пространственные структуры данных и алгоритмы\n",
    "- `special` — набор специальных полезных функций\n",
    "- `misc` — набор технических инструментов"
   ]
  },
  {
   "cell_type": "markdown",
   "metadata": {
    "slideshow": {
     "slide_type": "slide"
    }
   },
   "source": [
    "### `Модуль scipy.linalg`"
   ]
  },
  {
   "cell_type": "code",
   "execution_count": 119,
   "metadata": {
    "ExecuteTime": {
     "end_time": "2022-09-22T08:01:46.314698Z",
     "start_time": "2022-09-22T08:01:46.307700Z"
    }
   },
   "outputs": [],
   "source": [
    "import numpy as np\n",
    "from scipy import linalg\n",
    "\n",
    "A = np.array([[1,2], [3, 4]])"
   ]
  },
  {
   "cell_type": "code",
   "execution_count": 120,
   "metadata": {
    "ExecuteTime": {
     "end_time": "2022-09-22T08:01:46.488867Z",
     "start_time": "2022-09-22T08:01:46.484867Z"
    }
   },
   "outputs": [
    {
     "data": {
      "text/plain": [
       "-2.0"
      ]
     },
     "execution_count": 120,
     "metadata": {},
     "output_type": "execute_result"
    }
   ],
   "source": [
    "linalg.det(A)  # determinant"
   ]
  },
  {
   "cell_type": "code",
   "execution_count": 121,
   "metadata": {
    "ExecuteTime": {
     "end_time": "2022-09-22T08:01:46.692959Z",
     "start_time": "2022-09-22T08:01:46.684971Z"
    }
   },
   "outputs": [
    {
     "data": {
      "text/plain": [
       "array([[-2. ,  1. ],\n",
       "       [ 1.5, -0.5]])"
      ]
     },
     "execution_count": 121,
     "metadata": {},
     "output_type": "execute_result"
    }
   ],
   "source": [
    "linalg.inv(A)  # inverted matrix"
   ]
  },
  {
   "cell_type": "code",
   "execution_count": 122,
   "metadata": {
    "ExecuteTime": {
     "end_time": "2022-09-22T08:01:46.927103Z",
     "start_time": "2022-09-22T08:01:46.909104Z"
    }
   },
   "outputs": [
    {
     "data": {
      "text/plain": [
       "5.477225575051661"
      ]
     },
     "execution_count": 122,
     "metadata": {},
     "output_type": "execute_result"
    }
   ],
   "source": [
    "linalg.norm(A)  # matrix and vector norms"
   ]
  },
  {
   "cell_type": "markdown",
   "metadata": {
    "slideshow": {
     "slide_type": "slide"
    }
   },
   "source": [
    "### `Модуль scipy.linalg`"
   ]
  },
  {
   "cell_type": "code",
   "execution_count": 123,
   "metadata": {
    "ExecuteTime": {
     "end_time": "2022-09-22T08:01:47.333337Z",
     "start_time": "2022-09-22T08:01:47.316337Z"
    }
   },
   "outputs": [
    {
     "name": "stdout",
     "output_type": "stream",
     "text": [
      "[-0.37228132+0.j  5.37228132+0.j]\n",
      "[[-0.82456484 -0.41597356]\n",
      " [ 0.56576746 -0.90937671]]\n"
     ]
    }
   ],
   "source": [
    "for e in linalg.eig(A):  # eigen values and vectors\n",
    "    print(e)"
   ]
  },
  {
   "cell_type": "code",
   "execution_count": 124,
   "metadata": {
    "ExecuteTime": {
     "end_time": "2022-09-22T08:01:47.522405Z",
     "start_time": "2022-09-22T08:01:47.516407Z"
    }
   },
   "outputs": [
    {
     "data": {
      "text/plain": [
       "array([[1., 2.],\n",
       "       [3., 4.]])"
      ]
     },
     "execution_count": 124,
     "metadata": {},
     "output_type": "execute_result"
    }
   ],
   "source": [
    "U, diags, V_T = linalg.svd(A)  # SVD\n",
    "U @ np.diag(diags) @ V_T"
   ]
  },
  {
   "cell_type": "code",
   "execution_count": 125,
   "metadata": {
    "ExecuteTime": {
     "end_time": "2022-09-22T08:01:47.728335Z",
     "start_time": "2022-09-22T08:01:47.716337Z"
    }
   },
   "outputs": [
    {
     "data": {
      "text/plain": [
       "array([[1., 2.],\n",
       "       [3., 4.]])"
      ]
     },
     "execution_count": 125,
     "metadata": {},
     "output_type": "execute_result"
    }
   ],
   "source": [
    "P, L, U = linalg.lu(A)  # pivoted LU decomposition\n",
    "P @ L @ U"
   ]
  },
  {
   "cell_type": "markdown",
   "metadata": {
    "slideshow": {
     "slide_type": "slide"
    }
   },
   "source": [
    "### `Модуль scipy.optimize`\n",
    "\n",
    "Сгенерируем точки с помощью синусоиды с шумом и попробуем восстановить параметры функции"
   ]
  },
  {
   "cell_type": "code",
   "execution_count": 126,
   "metadata": {
    "ExecuteTime": {
     "end_time": "2022-09-22T08:01:48.104266Z",
     "start_time": "2022-09-22T08:01:48.100265Z"
    }
   },
   "outputs": [],
   "source": [
    "from scipy import optimize"
   ]
  },
  {
   "cell_type": "code",
   "execution_count": 127,
   "metadata": {
    "ExecuteTime": {
     "end_time": "2022-09-22T08:01:48.309081Z",
     "start_time": "2022-09-22T08:01:48.300080Z"
    },
    "slideshow": {
     "slide_type": "-"
    }
   },
   "outputs": [],
   "source": [
    "x_data = np.linspace(-5, 5, num=50)\n",
    "y_data = 2.9 * np.sin(1.5 * x_data) + np.random.normal(size=50)"
   ]
  },
  {
   "cell_type": "code",
   "execution_count": 128,
   "metadata": {
    "ExecuteTime": {
     "end_time": "2022-09-22T08:01:48.531094Z",
     "start_time": "2022-09-22T08:01:48.525095Z"
    }
   },
   "outputs": [],
   "source": [
    "def func_to_fit(x, a, b):\n",
    "    return a * np.sin(b * x)"
   ]
  },
  {
   "cell_type": "code",
   "execution_count": 129,
   "metadata": {
    "ExecuteTime": {
     "end_time": "2022-09-22T08:01:48.750539Z",
     "start_time": "2022-09-22T08:01:48.740541Z"
    }
   },
   "outputs": [
    {
     "name": "stdout",
     "output_type": "stream",
     "text": [
      "[2.85757249 1.47564681]\n"
     ]
    }
   ],
   "source": [
    "params, params_covariance = optimize.curve_fit(func_to_fit, x_data, y_data)\n",
    "print(params)"
   ]
  },
  {
   "cell_type": "markdown",
   "metadata": {
    "slideshow": {
     "slide_type": "slide"
    }
   },
   "source": [
    "### `Модуль scipy.optimize`\n",
    "\n",
    "Найдём минимум скалярной функции на отрезке (зависит от стартового приближения)"
   ]
  },
  {
   "cell_type": "code",
   "execution_count": 130,
   "metadata": {
    "ExecuteTime": {
     "end_time": "2022-09-22T08:01:49.212334Z",
     "start_time": "2022-09-22T08:01:49.147334Z"
    },
    "code_folding": []
   },
   "outputs": [
    {
     "data": {
      "image/png": "[encoded data removed]",
      "text/plain": [
       "<Figure size 640x480 with 1 Axes>"
      ]
     },
     "metadata": {},
     "output_type": "display_data"
    }
   ],
   "source": [
    "def f(x):\n",
    "    return x**2 + 10 * np.sin(x)\n",
    "\n",
    "x = np.arange(-8, 8, 0.1)\n",
    "plt.plot(x, f(x)) \n",
    "plt.show() "
   ]
  },
  {
   "cell_type": "code",
   "execution_count": 131,
   "metadata": {
    "ExecuteTime": {
     "end_time": "2022-09-22T08:01:49.354590Z",
     "start_time": "2022-09-22T08:01:49.348590Z"
    }
   },
   "outputs": [
    {
     "data": {
      "text/plain": [
       "array([3.83746782])"
      ]
     },
     "execution_count": 131,
     "metadata": {},
     "output_type": "execute_result"
    }
   ],
   "source": [
    "result = optimize.minimize(f, x0=4, bounds=((-8, 8),))  # 'bounds' is optional\n",
    "result.x"
   ]
  },
  {
   "cell_type": "markdown",
   "metadata": {
    "slideshow": {
     "slide_type": "slide"
    }
   },
   "source": [
    "### `Модуль scipy.optimize`\n",
    "\n",
    "Найдём минимум скалярной функции на отрезке (зависит от стартового приближения)"
   ]
  },
  {
   "cell_type": "code",
   "execution_count": 132,
   "metadata": {
    "ExecuteTime": {
     "end_time": "2022-09-22T08:01:49.778072Z",
     "start_time": "2022-09-22T08:01:49.772072Z"
    }
   },
   "outputs": [
    {
     "data": {
      "text/plain": [
       "array([-1.30643988])"
      ]
     },
     "execution_count": 132,
     "metadata": {},
     "output_type": "execute_result"
    }
   ],
   "source": [
    "result = optimize.minimize(f, x0=0, bounds=((-8, 8),))  # 'bounds' is optional\n",
    "result.x"
   ]
  },
  {
   "cell_type": "code",
   "execution_count": 133,
   "metadata": {
    "ExecuteTime": {
     "end_time": "2022-09-22T08:01:50.661125Z",
     "start_time": "2022-09-22T08:01:49.989125Z"
    }
   },
   "outputs": [
    {
     "data": {
      "text/plain": [
       "array([-1.30644001])"
      ]
     },
     "execution_count": 133,
     "metadata": {},
     "output_type": "execute_result"
    }
   ],
   "source": [
    "result = optimize.basinhopping(f, x0=4, niter=1000)\n",
    "result.x"
   ]
  },
  {
   "cell_type": "markdown",
   "metadata": {},
   "source": [
    "Функция `optimize.minimize` имеет параметр `method`, в котором можно определять конкрентный метод оптимизации, подходящий для решаемой задачи"
   ]
  },
  {
   "cell_type": "markdown",
   "metadata": {
    "slideshow": {
     "slide_type": "slide"
    }
   },
   "source": [
    "### `Модуль scipy.optimize`\n",
    "\n",
    "Найдём нули скалярной функции"
   ]
  },
  {
   "cell_type": "code",
   "execution_count": 134,
   "metadata": {
    "ExecuteTime": {
     "end_time": "2022-09-22T08:01:50.676125Z",
     "start_time": "2022-09-22T08:01:50.662125Z"
    }
   },
   "outputs": [
    {
     "data": {
      "text/plain": [
       "array([0.])"
      ]
     },
     "execution_count": 134,
     "metadata": {},
     "output_type": "execute_result"
    }
   ],
   "source": [
    "root = optimize.root(f, x0=1)\n",
    "root.x"
   ]
  },
  {
   "cell_type": "code",
   "execution_count": 135,
   "metadata": {
    "ExecuteTime": {
     "end_time": "2022-09-22T08:01:50.852155Z",
     "start_time": "2022-09-22T08:01:50.836158Z"
    }
   },
   "outputs": [
    {
     "data": {
      "text/plain": [
       "array([-2.47948183])"
      ]
     },
     "execution_count": 135,
     "metadata": {},
     "output_type": "execute_result"
    }
   ],
   "source": [
    "root2 = optimize.root(f, x0=-2)\n",
    "root2.x"
   ]
  },
  {
   "cell_type": "markdown",
   "metadata": {},
   "source": [
    "Находим только один корень, ближайший к стартовой точке, нужно идти по сетке для поиска нескольких"
   ]
  },
  {
   "cell_type": "markdown",
   "metadata": {
    "slideshow": {
     "slide_type": "slide"
    }
   },
   "source": [
    "### `Модуль scipy.sparse`\n",
    "\n",
    "- Включает в себя набор различных типов разреженных матриц и инструментов для работы с ними\n",
    "- Мы рассмотрим основные форматы разреженных матриц, которые могут быть полезны в приложениях<br><br>\n",
    "\n",
    "\n",
    "- __Coordinate Format (COO)__\n",
    "    - представляет собой 3 массива `row`, `col`, `data`\n",
    "    - `row` содержит номера строк ненулевых элементов\n",
    "    - `col` содержит номера столбцов ненулевых элементов\n",
    "    - `data` содержит сами ненулевые элементы"
   ]
  },
  {
   "cell_type": "code",
   "execution_count": 136,
   "metadata": {
    "ExecuteTime": {
     "end_time": "2022-09-22T08:01:51.802853Z",
     "start_time": "2022-09-22T08:01:51.788852Z"
    }
   },
   "outputs": [
    {
     "data": {
      "text/plain": [
       "(array([0, 1, 1, 2], dtype=int32),\n",
       " array([0, 0, 2, 1], dtype=int32),\n",
       " array([1, 4, 6, 8]))"
      ]
     },
     "execution_count": 136,
     "metadata": {},
     "output_type": "execute_result"
    }
   ],
   "source": [
    "from scipy.sparse import coo_matrix\n",
    "\n",
    "S = np.array([[1, 0, 0], [4, 0, 6], [0, 8, 0]])\n",
    "\n",
    "cm = coo_matrix(S)\n",
    "cm.row, cm.col, cm.data"
   ]
  },
  {
   "cell_type": "markdown",
   "metadata": {
    "slideshow": {
     "slide_type": "slide"
    }
   },
   "source": [
    "### `Модуль scipy.sparse`"
   ]
  },
  {
   "cell_type": "markdown",
   "metadata": {},
   "source": [
    "- __Compressed Sparse Row Format (CSR)__\n",
    "    - Представляет собой три массива: `indices`, `indptr`, `data`\n",
    "    - `indices` содержит индексы столбцов ненулевых элементов\n",
    "    - `data` содержит значения ненулевых элементов\n",
    "    - `indptr` содержит старты строк в `indices` и `data` по следующим правилам:<br><br>\n",
    "        - длина `indptr` равна числу строк + 1, последний элемент равен числу ненулевых элементов\n",
    "        - ненулевые значения $i$-й строки лежат в `data[indptr[i]: indptr[i + 1]]`\n",
    "        - их индексы столбцов - в `indices[indptr[i]: indptr[i + 1]]`\n",
    "        - элемент $(i, j)$ доступ в `data[indptr[i]+k]`, где `k` - это позиция `j` в `indices[indptr[i]: indptr[i + 1]]`"
   ]
  },
  {
   "cell_type": "code",
   "execution_count": 137,
   "metadata": {
    "ExecuteTime": {
     "end_time": "2022-09-22T08:01:52.823051Z",
     "start_time": "2022-09-22T08:01:52.812052Z"
    }
   },
   "outputs": [
    {
     "data": {
      "text/plain": [
       "(array([0, 0, 2, 1], dtype=int32),\n",
       " array([0, 1, 3, 4], dtype=int32),\n",
       " array([1, 4, 6, 8], dtype=int32))"
      ]
     },
     "execution_count": 137,
     "metadata": {},
     "output_type": "execute_result"
    }
   ],
   "source": [
    "from scipy.sparse import csr_matrix\n",
    "\n",
    "S = np.array([[1, 0, 0], [4, 0, 6], [0, 8, 0]])\n",
    "\n",
    "csrm = csr_matrix(S)\n",
    "csrm.indices, csrm.indptr, csrm.data"
   ]
  },
  {
   "cell_type": "markdown",
   "metadata": {
    "slideshow": {
     "slide_type": "slide"
    }
   },
   "source": [
    "### `Модуль scipy.sparse`\n",
    "\n",
    "- __Compressed Sparse Column Format (CSC)__\n",
    "    - Представляет собой три массива: `indices`, `indptr`, `data`\n",
    "    - `indices` содержит индексы строк ненулевых элементов\n",
    "    - `data` содержит значения ненулевых элементов\n",
    "    - `indptr` содержит старты столбцов в `indices` и `data` по следующим правилам:<br><br>\n",
    "        - длина `indptr` равна числу столбцов + 1, последний элемент равен числу ненулевых элементов\n",
    "        - ненулевые значения $i$-го столбца лежат в `data[indptr[i]: indptr[i + 1]]`\n",
    "        - их индексы строк - в `indices[indptr[i]: indptr[i + 1]]`\n",
    "        - элемент $(i, j)$ доступ в `data[indptr[j]+k]`, где `k` - это позиция `i` в `indices[indptr[j]: indptr[j + 1]]`"
   ]
  },
  {
   "cell_type": "code",
   "execution_count": 138,
   "metadata": {
    "ExecuteTime": {
     "end_time": "2022-09-22T08:01:53.181319Z",
     "start_time": "2022-09-22T08:01:53.172319Z"
    }
   },
   "outputs": [
    {
     "data": {
      "text/plain": [
       "(array([0, 1, 2, 1], dtype=int32),\n",
       " array([0, 2, 3, 4], dtype=int32),\n",
       " array([1, 4, 8, 6], dtype=int32))"
      ]
     },
     "execution_count": 138,
     "metadata": {},
     "output_type": "execute_result"
    }
   ],
   "source": [
    "from scipy.sparse import csc_matrix\n",
    "\n",
    "S = np.array([[1, 0, 0], [4, 0, 6], [0, 8, 0]])\n",
    "\n",
    "cscm = csc_matrix(S)\n",
    "cscm.indices, cscm.indptr, cscm.data"
   ]
  },
  {
   "cell_type": "markdown",
   "metadata": {
    "slideshow": {
     "slide_type": "slide"
    }
   },
   "source": [
    "### `Модуль scipy.stats`\n",
    "\n",
    "По выборке восстанавливаем параметры известного распределения"
   ]
  },
  {
   "cell_type": "code",
   "execution_count": 139,
   "metadata": {
    "ExecuteTime": {
     "end_time": "2022-09-22T08:01:53.887060Z",
     "start_time": "2022-09-22T08:01:53.756060Z"
    }
   },
   "outputs": [
    {
     "name": "stdout",
     "output_type": "stream",
     "text": [
      "9.805095456995904 3.5348333765014224\n"
     ]
    }
   ],
   "source": [
    "from scipy import stats\n",
    "\n",
    "samples = np.random.normal(size=1000, loc=9.8, scale=3.5)\n",
    "loc, scale = stats.norm.fit(samples)\n",
    "\n",
    "print(loc, scale)"
   ]
  },
  {
   "cell_type": "code",
   "execution_count": 140,
   "metadata": {
    "ExecuteTime": {
     "end_time": "2022-09-22T08:01:54.060061Z",
     "start_time": "2022-09-22T08:01:53.940061Z"
    }
   },
   "outputs": [
    {
     "name": "stdout",
     "output_type": "stream",
     "text": [
      "0.9841012366717884 4.212599522117305 10.000024072169941 0.9273459800553958\n"
     ]
    }
   ],
   "source": [
    "samples = np.random.beta(a=1, b=4.6, size=5000) + 10\n",
    "\n",
    "a, b, loc, scale = stats.beta.fit(samples)\n",
    "print(a, b, loc, scale)"
   ]
  },
  {
   "cell_type": "markdown",
   "metadata": {
    "slideshow": {
     "slide_type": "slide"
    }
   },
   "source": [
    "### `Модуль scipy.stats`\n",
    "\n",
    "Посчитаем статистики выборки:"
   ]
  },
  {
   "cell_type": "code",
   "execution_count": 141,
   "metadata": {
    "ExecuteTime": {
     "end_time": "2022-09-22T08:01:54.467895Z",
     "start_time": "2022-09-22T08:01:54.459896Z"
    }
   },
   "outputs": [
    {
     "data": {
      "text/plain": [
       "-0.01412943515822246"
      ]
     },
     "execution_count": 141,
     "metadata": {},
     "output_type": "execute_result"
    }
   ],
   "source": [
    "samples = np.random.normal(size=1000, loc=0.0, scale=1.0)\n",
    "\n",
    "np.mean(samples) "
   ]
  },
  {
   "cell_type": "code",
   "execution_count": 142,
   "metadata": {
    "ExecuteTime": {
     "end_time": "2022-09-22T08:01:54.673935Z",
     "start_time": "2022-09-22T08:01:54.668937Z"
    }
   },
   "outputs": [
    {
     "data": {
      "text/plain": [
       "-0.02531545160897348"
      ]
     },
     "execution_count": 142,
     "metadata": {},
     "output_type": "execute_result"
    }
   ],
   "source": [
    "np.median(samples)"
   ]
  },
  {
   "cell_type": "code",
   "execution_count": 143,
   "metadata": {
    "ExecuteTime": {
     "end_time": "2022-09-22T08:01:54.893149Z",
     "start_time": "2022-09-22T08:01:54.884150Z"
    }
   },
   "outputs": [
    {
     "data": {
      "text/plain": [
       "-0.02531545160897348"
      ]
     },
     "execution_count": 143,
     "metadata": {},
     "output_type": "execute_result"
    }
   ],
   "source": [
    "stats.scoreatpercentile(samples, 50)  # median"
   ]
  },
  {
   "cell_type": "code",
   "execution_count": 144,
   "metadata": {
    "ExecuteTime": {
     "end_time": "2022-09-22T08:01:55.348879Z",
     "start_time": "2022-09-22T08:01:55.332878Z"
    }
   },
   "outputs": [
    {
     "data": {
      "text/plain": [
       "1.2743559538218574"
      ]
     },
     "execution_count": 144,
     "metadata": {},
     "output_type": "execute_result"
    }
   ],
   "source": [
    "stats.scoreatpercentile(samples, 90)"
   ]
  },
  {
   "cell_type": "markdown",
   "metadata": {
    "slideshow": {
     "slide_type": "slide"
    }
   },
   "source": [
    "### `Проверка статистических гипотез`\n",
    "\n",
    "- Общая идея:\n",
    "    - Дана наблюдаемая выборка данных\n",
    "    - Формулируется _гипотеза_ $H_0$ - определённое предположение о распределении вероятностей, лежащем в основе наблюдаемой выборки\n",
    "    - Формулируется альтернативная гипотеза $H_1$\n",
    "    - Выбирается _статистический критерий_ (обычно это какая-то статистика выборки)\n",
    "    - На основании выборки вычисляется значение статистического критерия $T$\n",
    "    - На основании этого значения вычисляется _достигаемый уровень значимости_ $p(T)$ (p-value) - вероятность получить значение критерия такое же или ещё более экстремальное, чем T, при условии справедливости $H_0$\n",
    "    - Если $p(T)$ достаточно мало (например, меньше уровня значимости $\\alpha$), то $H_0$ отвергается\n",
    "\n",
    "\n",
    "- Проверка гипотез доступна в `scipy.stats` и основанном на нем модуле `statsmodel`"
   ]
  },
  {
   "cell_type": "markdown",
   "metadata": {
    "slideshow": {
     "slide_type": "slide"
    }
   },
   "source": [
    "### `Пример: T-критерий`\n",
    "\n",
    "- T-критерий (тест Стьдента) используется для проверки гипотез о\n",
    "    - равенстве матожиданий двух выборок\n",
    "    - равенстве матожидания одной выборки заданному значению<br><br>\n",
    "- В случае двух выборок, которые должны быть из распределения, близкого к нормальному, считается величина\n",
    "$$\n",
    "    t = \\cfrac{m_1 - m_2}{\\sqrt{\\cfrac{d_1}{n_1} - \\cfrac{d_2}{n_2}}},\n",
    "$$\n",
    "где\n",
    "    - $m_i$ - выборочные средние\n",
    "    - $d_i$ - выборочные дисперсии\n",
    "    - $n_i$ - размеры выборок"
   ]
  },
  {
   "cell_type": "markdown",
   "metadata": {
    "slideshow": {
     "slide_type": "slide"
    }
   },
   "source": [
    "### `Пример: T-критерий`\n",
    "\n",
    "- Определим функцию для генерации и визуализации выборок из нормального распределения:"
   ]
  },
  {
   "cell_type": "code",
   "execution_count": 145,
   "metadata": {
    "ExecuteTime": {
     "end_time": "2022-09-22T08:01:56.188997Z",
     "start_time": "2022-09-22T08:01:56.179997Z"
    }
   },
   "outputs": [],
   "source": [
    "def gen_normal_samples(mean_1, mean_2):\n",
    "    samples1 = np.random.normal(mean_1, size=1000)\n",
    "    samples2 = np.random.normal(mean_2, size=1000)\n",
    "\n",
    "    bins = np.linspace(-4, 4, 30)\n",
    "    histogram1, bins = np.histogram(samples1, bins=bins, density=True)\n",
    "    histogram2, bins = np.histogram(samples2, bins=bins, density=True)\n",
    "\n",
    "    plt.figure(figsize=(6, 4))\n",
    "    plt.hist(samples1, bins=bins, density=True, label=\"Samples 1\")\n",
    "    plt.hist(samples2, bins=bins, density=True, label=\"Samples 2\")\n",
    "    plt.legend(loc='best')\n",
    "    plt.show()\n",
    "    \n",
    "    return samples1, samples2"
   ]
  },
  {
   "cell_type": "markdown",
   "metadata": {},
   "source": [
    "- Воспользуемся тестов `scipy.stats.ttest_ind` для проверки гипотезы о равенстве средних выборок:"
   ]
  },
  {
   "cell_type": "code",
   "execution_count": 146,
   "metadata": {
    "ExecuteTime": {
     "end_time": "2022-09-22T08:01:56.733434Z",
     "start_time": "2022-09-22T08:01:56.724434Z"
    }
   },
   "outputs": [],
   "source": [
    "#?stats.ttest_ind\n",
    "\n",
    "#Calculate the T-test for the means of *two independent* samples of scores.\n",
    "\n",
    "#This is a two-sided test for the null hypothesis that 2 independent samples\n",
    "#have identical average (expected) values. This test assumes that the\n",
    "#populations have identical variances by default."
   ]
  },
  {
   "cell_type": "markdown",
   "metadata": {
    "slideshow": {
     "slide_type": "slide"
    }
   },
   "source": [
    "### `Пример: T-критерий`\n",
    "\n",
    "- Посчитаем статистический T-тест для случая выборок из нормального распределения с априорно далекими средними:"
   ]
  },
  {
   "cell_type": "code",
   "execution_count": 147,
   "metadata": {
    "ExecuteTime": {
     "end_time": "2022-09-22T08:01:57.301133Z",
     "start_time": "2022-09-22T08:01:57.181135Z"
    }
   },
   "outputs": [
    {
     "data": {
      "image/png": "[encoded data removed]",
      "text/plain": [
       "<Figure size 600x400 with 1 Axes>"
      ]
     },
     "metadata": {},
     "output_type": "display_data"
    }
   ],
   "source": [
    "samples_1, samples_2 = gen_normal_samples(mean_1=0, mean_2=1)"
   ]
  },
  {
   "cell_type": "code",
   "execution_count": 148,
   "metadata": {
    "ExecuteTime": {
     "end_time": "2022-09-22T08:01:57.584352Z",
     "start_time": "2022-09-22T08:01:57.566353Z"
    }
   },
   "outputs": [
    {
     "data": {
      "text/plain": [
       "(-21.046576674343378, 5.5371372236298646e-89)"
      ]
     },
     "execution_count": 148,
     "metadata": {},
     "output_type": "execute_result"
    }
   ],
   "source": [
    "t_score, p_value = stats.ttest_ind(samples_1, samples_2)\n",
    "t_score, p_value"
   ]
  },
  {
   "cell_type": "markdown",
   "metadata": {},
   "source": [
    "- Большое по модулю значений `t_score` означает большую разность между двумя порождающими случайными процессами\n",
    "- Значение `p_value` характеризует вероятность того, что обе выборки были порождены процессами с одинаковым матожиданием"
   ]
  },
  {
   "cell_type": "markdown",
   "metadata": {
    "slideshow": {
     "slide_type": "slide"
    }
   },
   "source": [
    "### `Пример: T-критерий`\n",
    "\n",
    "- Посчитаем статистический T-тест для случая выборок из нормального распределения с априорно близкими средними:"
   ]
  },
  {
   "cell_type": "code",
   "execution_count": 149,
   "metadata": {
    "ExecuteTime": {
     "end_time": "2022-09-22T08:01:58.530390Z",
     "start_time": "2022-09-22T08:01:58.412391Z"
    }
   },
   "outputs": [
    {
     "data": {
      "image/png": "[encoded data removed]",
      "text/plain": [
       "<Figure size 600x400 with 1 Axes>"
      ]
     },
     "metadata": {},
     "output_type": "display_data"
    }
   ],
   "source": [
    "samples_1, samples_2 = gen_normal_samples(mean_1=-0.005, mean_2=0.005)"
   ]
  },
  {
   "cell_type": "code",
   "execution_count": 150,
   "metadata": {
    "ExecuteTime": {
     "end_time": "2022-09-22T08:01:59.273498Z",
     "start_time": "2022-09-22T08:01:59.261501Z"
    }
   },
   "outputs": [
    {
     "data": {
      "text/plain": [
       "(1.1447576071860142, 0.25244669268365644)"
      ]
     },
     "execution_count": 150,
     "metadata": {},
     "output_type": "execute_result"
    }
   ],
   "source": [
    "t_score, p_value = stats.ttest_ind(samples_1, samples_2)\n",
    "t_score, p_value"
   ]
  },
  {
   "cell_type": "markdown",
   "metadata": {
    "slideshow": {
     "slide_type": "slide"
    }
   },
   "source": [
    "## `Спасибо за внимание!`"
   ]
  }
 ],
 "metadata": {
  "celltoolbar": "Slideshow",
  "kernelspec": {
   "display_name": "Python 3 (ipykernel)",
   "language": "python",
   "name": "python3"
  },
  "language_info": {
   "codemirror_mode": {
    "name": "ipython",
    "version": 3
   },
   "file_extension": ".py",
   "mimetype": "text/x-python",
   "name": "python",
   "nbconvert_exporter": "python",
   "pygments_lexer": "ipython3",
   "version": "3.10.6"
  }
 },
 "nbformat": 4,
 "nbformat_minor": 2
}
