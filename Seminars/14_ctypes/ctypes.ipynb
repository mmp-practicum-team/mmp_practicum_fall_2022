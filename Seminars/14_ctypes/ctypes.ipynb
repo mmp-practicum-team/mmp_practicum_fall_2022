{
 "cells": [
  {
   "cell_type": "markdown",
   "metadata": {
    "slideshow": {
     "slide_type": "slide"
    }
   },
   "source": [
    "# `Практикум по программированию на языке Python`\n",
    "<br>\n",
    "\n",
    "## `Занятие 14: Ctypes`\n",
    "<br><br>\n",
    "\n",
    "### `Находнов Максим (nakhodnov17@gmail.com)`\n",
    "\n",
    "#### `Москва, 2022`"
   ]
  },
  {
   "cell_type": "markdown",
   "metadata": {},
   "source": [
    "О чём можно узнать из этого ноутбука:\n",
    "\n",
    "* Способы профилирования производительности программы\n",
    "* Методы вызова `C/C++` кода из `Python`-программы"
   ]
  },
  {
   "cell_type": "markdown",
   "metadata": {
    "slideshow": {
     "slide_type": "slide"
    }
   },
   "source": [
    "### `Мотивация`\n",
    "\n",
    "* Python достаточно медленный язык (интерпретируемость, GIL)\n",
    "* Есть много готовых High Performance библиотек на C/C++"
   ]
  },
  {
   "cell_type": "markdown",
   "metadata": {},
   "source": [
    "### `Способы ускорить Python`\n",
    "\n",
    "* Придумать более быстрый алгоритм\n",
    "* Реализовать алгоритм более эффективно\n",
    "* Использовать паралелизацию\n",
    "* Использовать более производительные языки программирования"
   ]
  },
  {
   "cell_type": "markdown",
   "metadata": {},
   "source": [
    "### `Анализ производительнсти алгоритма`\n",
    "\n",
    "Прежде чем ускорять существующий код нужно определить, какие части дают наибольший вклад во время работы программы"
   ]
  },
  {
   "cell_type": "markdown",
   "metadata": {
    "ExecuteTime": {
     "end_time": "2022-12-08T02:16:12.782265Z",
     "start_time": "2022-12-08T02:16:12.774277Z"
    }
   },
   "source": [
    "Напишем тестовую программу, для которой будем замерять время работы.\n",
    "\n",
    "<font color='brown'>**Задача.** Написать функцию `replace_zeros_to_means(X)`, принимающую матрицу $X$. Функция должна вернуть копию матрицы $X$, в которой все нулевые значения в каждом столбце заменены на среднее арифметическое остальных элементов столбца. В случае столбца из одних нулей необходимо заменить все элементы столбца на $0$. Исходная матрица $X$ должна остаться неизменной!\n",
    "</font>"
   ]
  },
  {
   "cell_type": "markdown",
   "metadata": {},
   "source": [
    "### `Pure Python решение`"
   ]
  },
  {
   "cell_type": "code",
   "execution_count": 1,
   "metadata": {
    "ExecuteTime": {
     "end_time": "2022-12-08T08:04:30.292608Z",
     "start_time": "2022-12-08T08:04:30.280607Z"
    },
    "code_folding": []
   },
   "outputs": [],
   "source": [
    "def replace_zeros_to_means_python(X):\n",
    "    Y = []\n",
    "    \n",
    "    for idx in range(len(X)):\n",
    "        Y.append([])\n",
    "        for jdx in range(len(X[0])):\n",
    "            Y[-1].append(X[idx][jdx])\n",
    "            \n",
    "    counts = []\n",
    "    for jdx in range(len(Y[0])):\n",
    "        counts.append([0.0, 0])\n",
    "        \n",
    "    for idx in range(len(Y)):\n",
    "        for jdx in range(len(Y[0])):\n",
    "            counts[jdx][0] += Y[idx][jdx]\n",
    "            counts[jdx][1] += (Y[idx][jdx] != 0)\n",
    "            \n",
    "    means = []\n",
    "    for numerator, denumerator in counts:\n",
    "        means.append(numerator / denumerator if denumerator else 0.0)\n",
    "        \n",
    "    for idx in range(len(Y)):\n",
    "        for jdx in range(len(Y[0])):\n",
    "            if Y[idx][jdx] == 0:\n",
    "                Y[idx][jdx] = means[jdx]\n",
    "    \n",
    "    return Y"
   ]
  },
  {
   "cell_type": "markdown",
   "metadata": {
    "ExecuteTime": {
     "end_time": "2022-12-08T03:09:23.608122Z",
     "start_time": "2022-12-08T03:09:23.536350Z"
    }
   },
   "source": [
    "### `Numpy решение`"
   ]
  },
  {
   "cell_type": "code",
   "execution_count": 2,
   "metadata": {
    "ExecuteTime": {
     "end_time": "2022-12-08T08:04:31.204372Z",
     "start_time": "2022-12-08T08:04:31.144373Z"
    },
    "code_folding": []
   },
   "outputs": [],
   "source": [
    "import numpy as np\n",
    "\n",
    "def replace_zeros_to_means_numpy(X):\n",
    "    Y = np.copy(X).astype(np.float32)\n",
    "    \n",
    "    zero_mask = Y == 0\n",
    "    selected_columns = np.any(~zero_mask, axis=0)\n",
    "    means = np.zeros([1, Y.shape[1]], dtype=np.float32)\n",
    "    means[:, selected_columns] = np.mean(\n",
    "        Y[:, selected_columns], axis=0, where=~zero_mask[:, selected_columns], keepdims=True\n",
    "    )\n",
    "    Y[zero_mask] = np.repeat(means, Y.shape[0], axis=0)[zero_mask]\n",
    "\n",
    "    return Y"
   ]
  },
  {
   "cell_type": "markdown",
   "metadata": {},
   "source": [
    "### `Профайлеры`\n",
    "\n",
    "Для Python есть много профайлеров как для CPU, так и для GPU и памяти:\n",
    "* `profile` — медленный, не рекомендуется\n",
    "* `cProfile` — быстрый\n",
    "* `line_profiler` — удобен в Jupyter Notebook\n",
    "* `memory_profiler`\n",
    "* `scalene` — быстрый, современный"
   ]
  },
  {
   "cell_type": "code",
   "execution_count": 3,
   "metadata": {
    "ExecuteTime": {
     "end_time": "2022-12-08T08:04:31.960081Z",
     "start_time": "2022-12-08T08:04:31.953080Z"
    }
   },
   "outputs": [],
   "source": [
    "%load_ext line_profiler"
   ]
  },
  {
   "cell_type": "code",
   "execution_count": 4,
   "metadata": {
    "ExecuteTime": {
     "end_time": "2022-12-08T08:04:32.812353Z",
     "start_time": "2022-12-08T08:04:32.761352Z"
    }
   },
   "outputs": [],
   "source": [
    "%lprun??"
   ]
  },
  {
   "cell_type": "code",
   "execution_count": 5,
   "metadata": {
    "ExecuteTime": {
     "end_time": "2022-12-08T08:04:36.520024Z",
     "start_time": "2022-12-08T08:04:33.265023Z"
    }
   },
   "outputs": [
    {
     "name": "stdout",
     "output_type": "stream",
     "text": [
      "Timer unit: 1e-07 s\n",
      "\n",
      "Total time: 1.97122 s\n",
      "File: C:\\Users\\nahod\\AppData\\Local\\Temp\\ipykernel_24624\\2268731769.py\n",
      "Function: replace_zeros_to_means_python at line 1\n",
      "\n",
      "Line #      Hits         Time  Per Hit   % Time  Line Contents\n",
      "==============================================================\n",
      "     1                                           def replace_zeros_to_means_python(X):\n",
      "     2         1          4.0      4.0      0.0      Y = []\n",
      "     3                                               \n",
      "     4      1000       1806.0      1.8      0.0      for idx in range(len(X)):\n",
      "     5      1000      32164.0     32.2      0.2          Y.append([])\n",
      "     6   1000000    1726808.0      1.7      8.8          for jdx in range(len(X[0])):\n",
      "     7   1000000    4472605.0      4.5     22.7              Y[-1].append(X[idx][jdx])\n",
      "     8                                                       \n",
      "     9         1          4.0      4.0      0.0      counts = []\n",
      "    10      1000       1611.0      1.6      0.0      for jdx in range(len(Y[0])):\n",
      "    11      1000       4831.0      4.8      0.0          counts.append([0.0, 0])\n",
      "    12                                                   \n",
      "    13      1000       1699.0      1.7      0.0      for idx in range(len(Y)):\n",
      "    14   1000000    1652136.0      1.7      8.4          for jdx in range(len(Y[0])):\n",
      "    15   1000000    3757336.0      3.8     19.1              counts[jdx][0] += Y[idx][jdx]\n",
      "    16   1000000    4019497.0      4.0     20.4              counts[jdx][1] += (Y[idx][jdx] != 0)\n",
      "    17                                                       \n",
      "    18         1          7.0      7.0      0.0      means = []\n",
      "    19      1000       1802.0      1.8      0.0      for numerator, denumerator in counts:\n",
      "    20      1000       3926.0      3.9      0.0          means.append(numerator / denumerator if denumerator else 0.0)\n",
      "    21                                                   \n",
      "    22      1000       1557.0      1.6      0.0      for idx in range(len(Y)):\n",
      "    23   1000000    1699878.0      1.7      8.6          for jdx in range(len(Y[0])):\n",
      "    24    666752    1566101.0      2.3      7.9              if Y[idx][jdx] == 0:\n",
      "    25    333248     768451.0      2.3      3.9                  Y[idx][jdx] = means[jdx]\n",
      "    26                                               \n",
      "    27         1          4.0      4.0      0.0      return Y\n",
      "\n"
     ]
    }
   ],
   "source": [
    "X = np.random.randint(0, 3, [1000, 1000])\n",
    "profile_data = %lprun -rf replace_zeros_to_means_python replace_zeros_to_means_python(X)\n",
    "profile_data.print_stats()"
   ]
  },
  {
   "cell_type": "code",
   "execution_count": 6,
   "metadata": {
    "ExecuteTime": {
     "end_time": "2022-12-08T08:04:36.552023Z",
     "start_time": "2022-12-08T08:04:36.521024Z"
    }
   },
   "outputs": [
    {
     "name": "stdout",
     "output_type": "stream",
     "text": [
      "Timer unit: 1e-07 s\n",
      "\n",
      "Total time: 0.0151609 s\n",
      "File: C:\\Users\\nahod\\AppData\\Local\\Temp\\ipykernel_24624\\67797404.py\n",
      "Function: replace_zeros_to_means_numpy at line 3\n",
      "\n",
      "Line #      Hits         Time  Per Hit   % Time  Line Contents\n",
      "==============================================================\n",
      "     3                                           def replace_zeros_to_means_numpy(X):\n",
      "     4         1      11796.0  11796.0      7.8      Y = np.copy(X).astype(np.float32)\n",
      "     5                                               \n",
      "     6         1       3791.0   3791.0      2.5      zero_mask = Y == 0\n",
      "     7         1       3543.0   3543.0      2.3      selected_columns = np.any(~zero_mask, axis=0)\n",
      "     8         1         54.0     54.0      0.0      means = np.zeros([1, Y.shape[1]], dtype=np.float32)\n",
      "     9         1      46947.0  46947.0     31.0      means[:, selected_columns] = np.mean(\n",
      "    10         1      19163.0  19163.0     12.6          Y[:, selected_columns], axis=0, where=~zero_mask[:, selected_columns], keepdims=True\n",
      "    11                                               )\n",
      "    12         1      66312.0  66312.0     43.7      Y[zero_mask] = np.repeat(means, Y.shape[0], axis=0)[zero_mask]\n",
      "    13                                           \n",
      "    14         1          3.0      3.0      0.0      return Y\n",
      "\n"
     ]
    }
   ],
   "source": [
    "X = np.random.randint(0, 3, [1000, 1000])\n",
    "profile_data = %lprun -rf replace_zeros_to_means_numpy replace_zeros_to_means_numpy(X)\n",
    "profile_data.print_stats()"
   ]
  },
  {
   "cell_type": "markdown",
   "metadata": {
    "ExecuteTime": {
     "end_time": "2022-12-08T03:28:15.939914Z",
     "start_time": "2022-12-08T03:28:15.927915Z"
    }
   },
   "source": [
    "### `Профилировщик памяти`\n",
    "\n",
    "* Может работать в line-to-line режиме, но только для функций из модулей"
   ]
  },
  {
   "cell_type": "code",
   "execution_count": 7,
   "metadata": {
    "ExecuteTime": {
     "end_time": "2022-12-08T08:04:36.632023Z",
     "start_time": "2022-12-08T08:04:36.553026Z"
    }
   },
   "outputs": [],
   "source": [
    "%load_ext memory_profiler"
   ]
  },
  {
   "cell_type": "code",
   "execution_count": 8,
   "metadata": {
    "ExecuteTime": {
     "end_time": "2022-12-08T08:04:37.591726Z",
     "start_time": "2022-12-08T08:04:36.633023Z"
    }
   },
   "outputs": [
    {
     "name": "stdout",
     "output_type": "stream",
     "text": [
      "peak memory: 127.39 MiB, increment: 39.82 MiB\n"
     ]
    }
   ],
   "source": [
    "%memit replace_zeros_to_means_python(X)"
   ]
  },
  {
   "cell_type": "code",
   "execution_count": 9,
   "metadata": {
    "ExecuteTime": {
     "end_time": "2022-12-08T08:04:38.145734Z",
     "start_time": "2022-12-08T08:04:37.592726Z"
    }
   },
   "outputs": [
    {
     "name": "stdout",
     "output_type": "stream",
     "text": [
      "peak memory: 89.95 MiB, increment: 0.01 MiB\n"
     ]
    }
   ],
   "source": [
    "%memit replace_zeros_to_means_numpy(X)"
   ]
  },
  {
   "cell_type": "code",
   "execution_count": 10,
   "metadata": {
    "ExecuteTime": {
     "end_time": "2022-12-08T08:04:38.161733Z",
     "start_time": "2022-12-08T08:04:38.146735Z"
    }
   },
   "outputs": [
    {
     "name": "stdout",
     "output_type": "stream",
     "text": [
      "Overwriting mprun_demo.py\n"
     ]
    }
   ],
   "source": [
    "%%file mprun_demo.py\n",
    "import numpy as np\n",
    "\n",
    "def replace_zeros_to_means_numpy(X):\n",
    "    Y = np.copy(X).astype(np.float32)\n",
    "    \n",
    "    zero_mask = Y == 0\n",
    "    selected_columns = np.any(~zero_mask, axis=0)\n",
    "    means = np.zeros([1, Y.shape[1]], dtype=np.float32)\n",
    "    means[:, selected_columns] = np.mean(\n",
    "        Y[:, selected_columns], axis=0, where=~zero_mask[:, selected_columns], keepdims=True\n",
    "    )\n",
    "    Y[zero_mask] = np.repeat(means, Y.shape[0], axis=0)[zero_mask]\n",
    "\n",
    "    return Y"
   ]
  },
  {
   "cell_type": "code",
   "execution_count": 11,
   "metadata": {
    "ExecuteTime": {
     "end_time": "2022-12-08T08:04:39.110427Z",
     "start_time": "2022-12-08T08:04:38.961359Z"
    }
   },
   "outputs": [
    {
     "name": "stdout",
     "output_type": "stream",
     "text": [
      "\n"
     ]
    }
   ],
   "source": [
    "from mprun_demo import replace_zeros_to_means_numpy\n",
    "%mprun -f replace_zeros_to_means_numpy replace_zeros_to_means_numpy(X)"
   ]
  },
  {
   "cell_type": "markdown",
   "metadata": {},
   "source": [
    "### `Ускорение кода`\n",
    "\n",
    "Есть несколько способов как ускорить программу. Попробуем воспользоваться знанием HP языков и перепишем её на `C`."
   ]
  },
  {
   "cell_type": "markdown",
   "metadata": {},
   "source": [
    "### `Ctypes`\n",
    "\n",
    "`Ctypes` — стандартная библиотека языка `Python`, позволяющая вызывать функции из разделяемых библиотек (Shared Libraries, обычно `.so`-файлы) и DLL (`.dll`-файлы)."
   ]
  },
  {
   "cell_type": "code",
   "execution_count": 12,
   "metadata": {
    "ExecuteTime": {
     "end_time": "2022-12-08T08:04:40.088485Z",
     "start_time": "2022-12-08T08:04:40.072485Z"
    }
   },
   "outputs": [],
   "source": [
    "import ctypes"
   ]
  },
  {
   "cell_type": "markdown",
   "metadata": {},
   "source": [
    "### `Разделяемые библиотеки С/C++`\n",
    "\n",
    "* `Ctypes` — может работать только с `С` библиотеками\n",
    "* Для использования `C++` нужно использовать `extern \"C\"`, чтобы получить библиотеку с С-ABI"
   ]
  },
  {
   "cell_type": "code",
   "execution_count": 13,
   "metadata": {
    "ExecuteTime": {
     "end_time": "2022-12-08T08:04:41.781378Z",
     "start_time": "2022-12-08T08:04:41.560381Z"
    }
   },
   "outputs": [],
   "source": [
    "! gcc -shared -o ./ctypes_examples/bin/libctypes_c.dll -fPIC ./ctypes_examples/purec.c"
   ]
  },
  {
   "cell_type": "markdown",
   "metadata": {
    "ExecuteTime": {
     "end_time": "2022-12-08T03:36:21.472633Z",
     "start_time": "2022-12-08T03:36:21.462633Z"
    }
   },
   "source": [
    "### `Ctypes. Загрузка библиотеки` "
   ]
  },
  {
   "cell_type": "code",
   "execution_count": 14,
   "metadata": {
    "ExecuteTime": {
     "end_time": "2022-12-08T08:04:41.968319Z",
     "start_time": "2022-12-08T08:04:41.961321Z"
    }
   },
   "outputs": [],
   "source": [
    "import platform\n",
    "\n",
    "shared_lib_suffix = 'dll' if platform.system() == 'Windows' else 'so'\n",
    "library = ctypes.CDLL(f'./ctypes_examples/bin/libctypes_c.{shared_lib_suffix}')"
   ]
  },
  {
   "cell_type": "markdown",
   "metadata": {},
   "source": [
    "### `Ctypes. Работа с функциями`"
   ]
  },
  {
   "cell_type": "markdown",
   "metadata": {},
   "source": [
    "Перед использованием функций нужно корректно проанотировать типы аргументов и тип возвращаемого значения.\n",
    "\n",
    "Также, при использовании ввода-вывода внутри внешнего кода нужно помнить о буферизации.\n",
    "\n",
    "<!-- None, integers, bytes objects and (unicode) strings are the only native Python objects that can directly be used as parameters in these function calls. None is passed as a C NULL pointer, bytes objects and strings are passed as pointer to the memory block that contains their data (char* or wchar_t*). Python integers are passed as the platforms default C int type, their value is masked to fit into the C type.\n",
    "\n",
    "All Python types except INTEGERS, STRINGS, and BYTES objects have to be wrapped in their corresponding ctypes type, so that they can be converted to the required C data type -->"
   ]
  },
  {
   "cell_type": "code",
   "execution_count": 15,
   "metadata": {
    "ExecuteTime": {
     "end_time": "2022-12-08T08:04:42.599376Z",
     "start_time": "2022-12-08T08:04:42.584376Z"
    }
   },
   "outputs": [],
   "source": [
    "import sys"
   ]
  },
  {
   "cell_type": "markdown",
   "metadata": {
    "ExecuteTime": {
     "end_time": "2022-12-08T04:04:16.937353Z",
     "start_time": "2022-12-08T04:04:16.926364Z"
    }
   },
   "source": [
    "### `Ctypes. Пример с int`"
   ]
  },
  {
   "cell_type": "markdown",
   "metadata": {},
   "source": [
    "```C\n",
    "int func_ret_int(int val) {\n",
    "    printf(\"get func_ret_int: %d\\n\", val);\n",
    "    return val;\n",
    "}\n",
    "```"
   ]
  },
  {
   "cell_type": "code",
   "execution_count": 16,
   "metadata": {
    "ExecuteTime": {
     "end_time": "2022-12-08T08:04:43.165384Z",
     "start_time": "2022-12-08T08:04:43.152384Z"
    }
   },
   "outputs": [],
   "source": [
    "# Указываем, что функция возвращает int\n",
    "library.func_ret_int.restype = ctypes.c_int\n",
    "# Указываем, что функция принимает аргумент int\n",
    "library.func_ret_int.argtypes = [ctypes.c_int]"
   ]
  },
  {
   "cell_type": "code",
   "execution_count": 17,
   "metadata": {
    "ExecuteTime": {
     "end_time": "2022-12-08T08:04:43.366965Z",
     "start_time": "2022-12-08T08:04:43.353965Z"
    }
   },
   "outputs": [
    {
     "name": "stdout",
     "output_type": "stream",
     "text": [
      "ret func_ret_int:  101\n"
     ]
    }
   ],
   "source": [
    "print('ret func_ret_int: ', library.func_ret_int(101))"
   ]
  },
  {
   "cell_type": "markdown",
   "metadata": {
    "ExecuteTime": {
     "end_time": "2022-12-08T04:04:29.857415Z",
     "start_time": "2022-12-08T04:04:29.854414Z"
    }
   },
   "source": [
    "### `Ctypes. Пример с double`"
   ]
  },
  {
   "cell_type": "markdown",
   "metadata": {},
   "source": [
    "```C\n",
    "double func_ret_double(double val) {\n",
    "    printf(\"get func_ret_double: %f\\n\", val);\n",
    "    return val;\n",
    "}\n",
    "```"
   ]
  },
  {
   "cell_type": "code",
   "execution_count": 18,
   "metadata": {
    "ExecuteTime": {
     "end_time": "2022-12-08T08:04:43.911867Z",
     "start_time": "2022-12-08T08:04:43.896869Z"
    }
   },
   "outputs": [],
   "source": [
    "# Указываем, что функция возвращает double\n",
    "library.func_ret_double.restype = ctypes.c_double\n",
    "# Указываем, что функция принимает аргумент double\n",
    "library.func_ret_double.argtypes = [ctypes.c_double]"
   ]
  },
  {
   "cell_type": "code",
   "execution_count": 19,
   "metadata": {
    "ExecuteTime": {
     "end_time": "2022-12-08T08:04:44.069867Z",
     "start_time": "2022-12-08T08:04:44.056869Z"
    }
   },
   "outputs": [
    {
     "name": "stdout",
     "output_type": "stream",
     "text": [
      "ret func_ret_double:  12.123456789\n"
     ]
    }
   ],
   "source": [
    "print('ret func_ret_double: ', library.func_ret_double(12.123456789))"
   ]
  },
  {
   "cell_type": "markdown",
   "metadata": {},
   "source": [
    "### `Ctypes. Пример с char *`"
   ]
  },
  {
   "cell_type": "markdown",
   "metadata": {
    "ExecuteTime": {
     "end_time": "2022-12-08T04:03:19.933654Z",
     "start_time": "2022-12-08T04:03:19.918654Z"
    }
   },
   "source": [
    "```C\n",
    "char * func_ret_str(char * val) {\n",
    "    printf(\"get func_ret_str: %s\\n\", val);\n",
    "    return val;\n",
    "}\n",
    "```"
   ]
  },
  {
   "cell_type": "code",
   "execution_count": 20,
   "metadata": {
    "ExecuteTime": {
     "end_time": "2022-12-08T08:04:44.831518Z",
     "start_time": "2022-12-08T08:04:44.824518Z"
    }
   },
   "outputs": [],
   "source": [
    "# Указываем, что функция возвращает char *\n",
    "# ctypes.c_char_p -- указатель нуль-терминированных строк\n",
    "library.func_ret_str.restype = ctypes.c_char_p\n",
    "# Указываем, что функция принимает аргумент char *\n",
    "# ctypes.POINTER -- произвольный указатель\n",
    "library.func_ret_str.argtypes = [ctypes.POINTER(ctypes.c_char)]"
   ]
  },
  {
   "cell_type": "code",
   "execution_count": 21,
   "metadata": {
    "ExecuteTime": {
     "end_time": "2022-12-08T08:04:44.991522Z",
     "start_time": "2022-12-08T08:04:44.984523Z"
    }
   },
   "outputs": [
    {
     "name": "stdout",
     "output_type": "stream",
     "text": [
      "ret func_ret_str:  Hello!\n"
     ]
    }
   ],
   "source": [
    "# Необходимо строку привести к массиву байтов, затем полученный массив байтов приводим к строке.\n",
    "print('ret func_ret_str: ', library.func_ret_str('Hello!'.encode('utf-8')).decode('utf-8'))"
   ]
  },
  {
   "cell_type": "markdown",
   "metadata": {},
   "source": [
    "### `Ctypes. Пример с несколькими агрументами`"
   ]
  },
  {
   "cell_type": "markdown",
   "metadata": {},
   "source": [
    "```C\n",
    "char func_many_args(int val1, double val2, char val3, short val4) {\n",
    "    printf(\"get func_many_args: int - %d, double - %f, char - %c, short - %d\\n\", val1, val2, val3, val4);\n",
    "    return val3;\n",
    "}\n",
    "```"
   ]
  },
  {
   "cell_type": "code",
   "execution_count": 22,
   "metadata": {
    "ExecuteTime": {
     "end_time": "2022-12-08T08:04:45.570360Z",
     "start_time": "2022-12-08T08:04:45.552373Z"
    }
   },
   "outputs": [],
   "source": [
    "# Указываем, что функция возвращает char\n",
    "library.func_many_args.restype = ctypes.c_char\n",
    "# Указываем, что функция принимает аргументы int, double, char, short\n",
    "library.func_many_args.argtypes = [ctypes.c_int, ctypes.c_double, ctypes.c_char, ctypes.c_short]"
   ]
  },
  {
   "cell_type": "code",
   "execution_count": 23,
   "metadata": {
    "ExecuteTime": {
     "end_time": "2022-12-08T08:04:45.744345Z",
     "start_time": "2022-12-08T08:04:45.729345Z"
    }
   },
   "outputs": [
    {
     "name": "stdout",
     "output_type": "stream",
     "text": [
      "ret func_many_args:  X\n"
     ]
    }
   ],
   "source": [
    "# Необходимо строку привести к массиву байтов, затем полученный массив байтов приводим к строке.\n",
    "print('ret func_many_args: ', library.func_many_args(15, 18.1617, 'X'.encode('utf-8'), 32000).decode('utf-8'));"
   ]
  },
  {
   "cell_type": "markdown",
   "metadata": {},
   "source": [
    "### `Ctypes. Работа с глобальными переменными`"
   ]
  },
  {
   "cell_type": "markdown",
   "metadata": {},
   "source": [
    "Допустим в библиотеке определены следующие переменные:\n",
    "\n",
    "```C\n",
    "int a = 5;\n",
    "double b = 5.12345;\n",
    "char c = 'X';\n",
    "```"
   ]
  },
  {
   "cell_type": "markdown",
   "metadata": {},
   "source": [
    "Определим вспомогательную функцию, которая их выводит:\n",
    "```C\n",
    "void func_print_globals(){\n",
    "    printf(\"global variables: a - %d, b - %f, c - %c\\n\", a, b, c);\n",
    "}\n",
    "```"
   ]
  },
  {
   "cell_type": "markdown",
   "metadata": {},
   "source": [
    "### `Ctypes. Получение значения переменных`"
   ]
  },
  {
   "cell_type": "code",
   "execution_count": 24,
   "metadata": {
    "ExecuteTime": {
     "end_time": "2022-12-08T08:04:46.671869Z",
     "start_time": "2022-12-08T08:04:46.656869Z"
    }
   },
   "outputs": [
    {
     "name": "stdout",
     "output_type": "stream",
     "text": [
      "ret a:  5\n"
     ]
    }
   ],
   "source": [
    "# Указываем, что переменная типа int\n",
    "a = ctypes.c_int.in_dll(library, 'a')\n",
    "print('ret a: ', a.value)"
   ]
  },
  {
   "cell_type": "code",
   "execution_count": 25,
   "metadata": {
    "ExecuteTime": {
     "end_time": "2022-12-08T08:04:46.859869Z",
     "start_time": "2022-12-08T08:04:46.856870Z"
    }
   },
   "outputs": [
    {
     "name": "stdout",
     "output_type": "stream",
     "text": [
      "ret b:  5.12345\n"
     ]
    }
   ],
   "source": [
    "# Указываем, что переменная типа double\n",
    "b = ctypes.c_double.in_dll(library, 'b')\n",
    "print('ret b: ', b.value)"
   ]
  },
  {
   "cell_type": "code",
   "execution_count": 26,
   "metadata": {
    "ExecuteTime": {
     "end_time": "2022-12-08T08:04:47.064340Z",
     "start_time": "2022-12-08T08:04:47.057339Z"
    }
   },
   "outputs": [
    {
     "name": "stdout",
     "output_type": "stream",
     "text": [
      "ret c:  X\n"
     ]
    }
   ],
   "source": [
    "# Указываем, что переменная типа char\n",
    "c = ctypes.c_char.in_dll(library, 'c')\n",
    "print('ret c: ', c.value.decode('utf-8'))"
   ]
  },
  {
   "cell_type": "markdown",
   "metadata": {
    "ExecuteTime": {
     "end_time": "2022-12-08T04:13:45.528837Z",
     "start_time": "2022-12-08T04:13:45.523837Z"
    }
   },
   "source": [
    "### `Ctypes. Изменение значения переменных`"
   ]
  },
  {
   "cell_type": "code",
   "execution_count": 27,
   "metadata": {
    "ExecuteTime": {
     "end_time": "2022-12-08T08:04:47.476064Z",
     "start_time": "2022-12-08T08:04:47.465065Z"
    }
   },
   "outputs": [
    {
     "name": "stdout",
     "output_type": "stream",
     "text": [
      "ret a:  22\n"
     ]
    }
   ],
   "source": [
    "# Изменяем значение переменной.\n",
    "a.value = 22\n",
    "a = ctypes.c_int.in_dll(library, 'a')\n",
    "print('ret a: ', a.value)"
   ]
  },
  {
   "cell_type": "code",
   "execution_count": 28,
   "metadata": {
    "ExecuteTime": {
     "end_time": "2022-12-08T08:04:47.682300Z",
     "start_time": "2022-12-08T08:04:47.664300Z"
    }
   },
   "outputs": [
    {
     "data": {
      "text/plain": [
       "47"
      ]
     },
     "execution_count": 28,
     "metadata": {},
     "output_type": "execute_result"
    }
   ],
   "source": [
    "a.value = 317\n",
    "b.value = 0.317\n",
    "c.value = 'B'.encode('utf-8')\n",
    "library.func_print_globals()"
   ]
  },
  {
   "cell_type": "markdown",
   "metadata": {},
   "source": [
    "По умолчанию возвращаемый тип у функций `long`. Установим тип `void`:"
   ]
  },
  {
   "cell_type": "code",
   "execution_count": 29,
   "metadata": {
    "ExecuteTime": {
     "end_time": "2022-12-08T08:04:48.075295Z",
     "start_time": "2022-12-08T08:04:48.064295Z"
    }
   },
   "outputs": [],
   "source": [
    "library.func_print_globals.restype = None\n",
    "library.func_print_globals()"
   ]
  },
  {
   "cell_type": "markdown",
   "metadata": {},
   "source": [
    "### `Ctypes. Работа со структурами`"
   ]
  },
  {
   "cell_type": "markdown",
   "metadata": {},
   "source": [
    "Для работы со структурами нужно скопировать интерфейс из библиотеки:\n",
    "```C\n",
    "struct test_st_t {\n",
    "    int val1;\n",
    "    double val2;\n",
    "    char val3;\n",
    "    int * array;\n",
    "};\n",
    "```"
   ]
  },
  {
   "cell_type": "code",
   "execution_count": 30,
   "metadata": {
    "ExecuteTime": {
     "end_time": "2022-12-08T08:04:48.686426Z",
     "start_time": "2022-12-08T08:04:48.672356Z"
    }
   },
   "outputs": [],
   "source": [
    "class TestST(ctypes.Structure):\n",
    "    _fields_ = [('val1', ctypes.c_int),\n",
    "                ('val2', ctypes.c_double),\n",
    "                ('val3', ctypes.c_char)]\n",
    "\n",
    "    def __str__(self):\n",
    "        return f'val1 - {self.val1}, val2 - {self.val2}, val3 - {self.val3.decode(\"utf8\")}'"
   ]
  },
  {
   "cell_type": "markdown",
   "metadata": {
    "ExecuteTime": {
     "end_time": "2022-12-08T04:21:53.295373Z",
     "start_time": "2022-12-08T04:21:53.289373Z"
    }
   },
   "source": [
    "Теперь такой тип можно использовать как валидный ctypes тип"
   ]
  },
  {
   "cell_type": "markdown",
   "metadata": {},
   "source": [
    "### `Ctypes. Работа со структурами. Передача по значению`"
   ]
  },
  {
   "cell_type": "markdown",
   "metadata": {
    "ExecuteTime": {
     "end_time": "2022-12-08T04:22:43.086757Z",
     "start_time": "2022-12-08T04:22:43.081770Z"
    }
   },
   "source": [
    "```C\n",
    "double func_struct(test_st_t test_st){\n",
    "    printf(\"get by value test_st: val1 - %d, val2 - %f, val3 - %c\\n\", test_st.val1, test_st.val2, test_st.val3);\n",
    "\n",
    "    return test_st.val1 + test_st.val2;\n",
    "}\n",
    "```"
   ]
  },
  {
   "cell_type": "code",
   "execution_count": 31,
   "metadata": {
    "ExecuteTime": {
     "end_time": "2022-12-08T08:04:49.457488Z",
     "start_time": "2022-12-08T08:04:49.440487Z"
    }
   },
   "outputs": [],
   "source": [
    "# Указываем, что функция возвращает double\n",
    "library.func_struct.restype = ctypes.c_double\n",
    "# Указываем, что функция принимает аргумент TestST\n",
    "library.func_struct.argtypes = [TestST]"
   ]
  },
  {
   "cell_type": "code",
   "execution_count": 32,
   "metadata": {
    "ExecuteTime": {
     "end_time": "2022-12-08T08:04:49.631506Z",
     "start_time": "2022-12-08T08:04:49.617507Z"
    }
   },
   "outputs": [
    {
     "name": "stdout",
     "output_type": "stream",
     "text": [
      "ret func_struct:  22.5\n"
     ]
    }
   ],
   "source": [
    "# Создаем структуру\n",
    "test_st = TestST(19, 3.5, 'Z'.encode('utf-8'))\n",
    "print(f'ret func_struct: ', library.func_struct(test_st))"
   ]
  },
  {
   "cell_type": "markdown",
   "metadata": {
    "ExecuteTime": {
     "end_time": "2022-12-08T04:24:05.887561Z",
     "start_time": "2022-12-08T04:24:05.872574Z"
    }
   },
   "source": [
    "### `Ctypes. Работа со структурами. Передача по указателю`"
   ]
  },
  {
   "cell_type": "markdown",
   "metadata": {},
   "source": [
    "Для передачи по указателю можно использовать специальную обёртку `ctypes.POINTER` для создания указателя на данный тип.\n",
    "\n",
    "При этом, \n",
    "\n",
    "Разыменование указателя выполянется с помощью аттрибута `.contents`."
   ]
  },
  {
   "cell_type": "markdown",
   "metadata": {
    "ExecuteTime": {
     "end_time": "2022-12-08T04:24:17.786245Z",
     "start_time": "2022-12-08T04:24:17.777249Z"
    }
   },
   "source": [
    "```C\n",
    "test_st_t * func_ret_struct(test_st_t *test_st) {\n",
    "    if (test_st) {\n",
    "        printf(\n",
    "            \"get by pointer test_st: val1 - %d, val2 - %f, val3 - %c\\n\", \n",
    "            test_st->val1, test_st->val2, test_st->val3\n",
    "        );\n",
    "    } else {\n",
    "        printf(\"get by pointer test_st: null pointer\\n\");\n",
    "    }\n",
    "\n",
    "    return test_st;\n",
    "}\n",
    "```"
   ]
  },
  {
   "cell_type": "code",
   "execution_count": 33,
   "metadata": {
    "ExecuteTime": {
     "end_time": "2022-12-08T08:04:50.498358Z",
     "start_time": "2022-12-08T08:04:50.481357Z"
    }
   },
   "outputs": [],
   "source": [
    "# Указываем, что функция возвращает TestST *\n",
    "library.func_ret_struct.restype = ctypes.POINTER(TestST)\n",
    "# Указываем, что функция принимает аргумент TestST *\n",
    "library.func_ret_struct.argtypes = [ctypes.POINTER(TestST)]"
   ]
  },
  {
   "cell_type": "code",
   "execution_count": 34,
   "metadata": {
    "ExecuteTime": {
     "end_time": "2022-12-08T08:04:50.700357Z",
     "start_time": "2022-12-08T08:04:50.689355Z"
    }
   },
   "outputs": [
    {
     "name": "stdout",
     "output_type": "stream",
     "text": [
      "ret func_ret_struct: null pointer\n"
     ]
    }
   ],
   "source": [
    "if ret := library.func_ret_struct(None):\n",
    "    print(f'ret func_ret_struct: {ret.contents}')\n",
    "else:\n",
    "    print('ret func_ret_struct: null pointer')"
   ]
  },
  {
   "cell_type": "code",
   "execution_count": 35,
   "metadata": {
    "ExecuteTime": {
     "end_time": "2022-12-08T08:04:50.872131Z",
     "start_time": "2022-12-08T08:04:50.865131Z"
    }
   },
   "outputs": [
    {
     "name": "stdout",
     "output_type": "stream",
     "text": [
      "ret func_ret_struct: val1 - 19, val2 - 3.5, val3 - Z\n"
     ]
    }
   ],
   "source": [
    "if ret := library.func_ret_struct(test_st):\n",
    "    print(f'ret func_ret_struct: {ret.contents}')\n",
    "else:\n",
    "    print('ret func_ret_struct: null pointer')"
   ]
  },
  {
   "cell_type": "markdown",
   "metadata": {},
   "source": [
    "### `Ctypes. Указатели`"
   ]
  },
  {
   "cell_type": "markdown",
   "metadata": {},
   "source": [
    "Для того, чтобы получить адрес сущестувующего объекта можно использьзовать следующие методы:\n",
    "* `pointer` — создаёт объект типа `ctypes.POINTER`, ссылающийся на переданный аргумент \n",
    "* `byref` — используется для передачи объектов по ссылке. Значительно более легковесный метод\n",
    "* В некоторых случаях преобразование типов выполниться автоматически"
   ]
  },
  {
   "cell_type": "markdown",
   "metadata": {},
   "source": [
    "```C\n",
    "double * func_add_out(const double * left, const double * right, double * result){\n",
    "    *result = *left + *right;\n",
    "    return result;\n",
    "}\n",
    "```"
   ]
  },
  {
   "cell_type": "code",
   "execution_count": 36,
   "metadata": {
    "ExecuteTime": {
     "end_time": "2022-12-08T08:04:51.685742Z",
     "start_time": "2022-12-08T08:04:51.672742Z"
    }
   },
   "outputs": [],
   "source": [
    "# Указываем, что функция возвращает double *\n",
    "library.func_add_out.restype = ctypes.POINTER(ctypes.c_double)\n",
    "# Указываем, что функция принимает аргумент double *, double *, double *\n",
    "library.func_add_out.argtypes = [\n",
    "    ctypes.POINTER(ctypes.c_double), ctypes.POINTER(ctypes.c_double), ctypes.POINTER(ctypes.c_double)\n",
    "]"
   ]
  },
  {
   "cell_type": "code",
   "execution_count": 37,
   "metadata": {
    "ExecuteTime": {
     "end_time": "2022-12-08T08:04:51.876742Z",
     "start_time": "2022-12-08T08:04:51.873742Z"
    }
   },
   "outputs": [
    {
     "name": "stdout",
     "output_type": "stream",
     "text": [
      "c_double(300.0) c_double(17.0) c_double(0.0)\n",
      "c_double(300.0) c_double(17.0) c_double(317.0) c_double(317.0)\n"
     ]
    }
   ],
   "source": [
    "left, right, result = ctypes.c_double(300.0), ctypes.c_double(17.0), ctypes.c_double()\n",
    "print(left, right, result)\n",
    "res = library.func_add_out(left, right, result)\n",
    "print(left, right, result, res.contents)"
   ]
  },
  {
   "cell_type": "code",
   "execution_count": 38,
   "metadata": {
    "ExecuteTime": {
     "end_time": "2022-12-08T08:04:52.080823Z",
     "start_time": "2022-12-08T08:04:52.072826Z"
    }
   },
   "outputs": [
    {
     "name": "stdout",
     "output_type": "stream",
     "text": [
      "c_double(300.0) c_double(17.0) c_double(100500.0) c_double(100500.0)\n"
     ]
    }
   ],
   "source": [
    "res.contents.value = 100500.0\n",
    "print(left, right, result, res.contents)"
   ]
  },
  {
   "cell_type": "markdown",
   "metadata": {},
   "source": [
    "### `Ctypes. Работа с массивами`"
   ]
  },
  {
   "cell_type": "markdown",
   "metadata": {},
   "source": [
    "Рассмотрим функцию для сложения двух векторов:\n",
    "\n",
    "```C\n",
    "void func_add_arrays_out(const double * left, const double * right, double * result, unsigned long long n){\n",
    "    for(unsigned long long i = 0; i < n; ++i) {\n",
    "        result[i] = left[i] + right[i];\n",
    "    }\n",
    "}\n",
    "```"
   ]
  },
  {
   "cell_type": "code",
   "execution_count": 39,
   "metadata": {
    "ExecuteTime": {
     "end_time": "2022-12-08T08:04:52.724383Z",
     "start_time": "2022-12-08T08:04:52.721385Z"
    }
   },
   "outputs": [],
   "source": [
    "library.func_add_arrays_out.restype = ctypes.POINTER(ctypes.c_double)\n",
    "library.func_add_arrays_out.argtypes = [\n",
    "    ctypes.POINTER(ctypes.c_double), ctypes.POINTER(ctypes.c_double),\n",
    "    ctypes.POINTER(ctypes.c_double), ctypes.c_ulonglong\n",
    "]"
   ]
  },
  {
   "cell_type": "markdown",
   "metadata": {},
   "source": [
    "Однако, как передавать данные в такую функцию? \n",
    "\n",
    "Есть несколько способов создать массив без использования обёрток над `new/malloc`."
   ]
  },
  {
   "cell_type": "markdown",
   "metadata": {
    "ExecuteTime": {
     "end_time": "2022-12-08T04:51:57.362619Z",
     "start_time": "2022-12-08T04:51:57.345620Z"
    }
   },
   "source": [
    "### `Ctypes. Internal Arrays`"
   ]
  },
  {
   "cell_type": "markdown",
   "metadata": {},
   "source": [
    "Ctypes позволяет создавать массивы фиксированной длины из уже существующих типов:"
   ]
  },
  {
   "cell_type": "code",
   "execution_count": 40,
   "metadata": {
    "ExecuteTime": {
     "end_time": "2022-12-08T08:04:53.576320Z",
     "start_time": "2022-12-08T08:04:53.568332Z"
    }
   },
   "outputs": [
    {
     "data": {
      "text/plain": [
       "__main__.c_double_Array_10"
      ]
     },
     "execution_count": 40,
     "metadata": {},
     "output_type": "execute_result"
    }
   ],
   "source": [
    "# Эквивалентно int array[10]. Т.е. эта конструкция -- новый класс\n",
    "double_array_10 = ctypes.c_double * 10\n",
    "double_array_10"
   ]
  },
  {
   "cell_type": "markdown",
   "metadata": {
    "ExecuteTime": {
     "end_time": "2022-12-08T04:53:09.746796Z",
     "start_time": "2022-12-08T04:53:09.736809Z"
    }
   },
   "source": [
    "### `Ctypes. Internal Arrays. Создание. Способ 1`"
   ]
  },
  {
   "cell_type": "code",
   "execution_count": 41,
   "metadata": {
    "ExecuteTime": {
     "end_time": "2022-12-08T08:04:54.047427Z",
     "start_time": "2022-12-08T08:04:54.032428Z"
    }
   },
   "outputs": [],
   "source": [
    "# 1 Способ: создание internal массива из списка (медленно)\n",
    "left_array = double_array_10(*[i for i in range(10)])\n",
    "right_array = double_array_10(*[2.0 * i for i in range(10)])\n",
    "result_array = double_array_10()"
   ]
  },
  {
   "cell_type": "code",
   "execution_count": 42,
   "metadata": {
    "ExecuteTime": {
     "end_time": "2022-12-08T08:04:54.251639Z",
     "start_time": "2022-12-08T08:04:54.248640Z"
    }
   },
   "outputs": [
    {
     "name": "stdout",
     "output_type": "stream",
     "text": [
      "[0.0, 3.0, 6.0, 9.0, 12.0, 15.0, 18.0, 21.0, 24.0, 27.0]\n"
     ]
    }
   ],
   "source": [
    "library.func_add_arrays_out(left_array, right_array, result_array, 10)\n",
    "print(result_array[:])"
   ]
  },
  {
   "cell_type": "markdown",
   "metadata": {},
   "source": [
    "### `Ctypes. Internal Arrays. Создание. Способ 2`"
   ]
  },
  {
   "cell_type": "code",
   "execution_count": 43,
   "metadata": {
    "ExecuteTime": {
     "end_time": "2022-12-08T08:04:54.665638Z",
     "start_time": "2022-12-08T08:04:54.659638Z"
    }
   },
   "outputs": [],
   "source": [
    "from array import array"
   ]
  },
  {
   "cell_type": "code",
   "execution_count": 44,
   "metadata": {
    "ExecuteTime": {
     "end_time": "2022-12-08T08:04:54.870314Z",
     "start_time": "2022-12-08T08:04:54.857326Z"
    }
   },
   "outputs": [],
   "source": [
    "# 2 Способ: создание internal массива из underlying memory в array (быстро)\n",
    "left_array = double_array_10.from_buffer(array('d', (i for i in range(10))))\n",
    "right_array = double_array_10.from_buffer(array('d', (2.0 * i for i in range(10))))\n",
    "result_array = double_array_10.from_buffer(array('d', (0.0 for i in range(10))))"
   ]
  },
  {
   "cell_type": "code",
   "execution_count": 45,
   "metadata": {
    "ExecuteTime": {
     "end_time": "2022-12-08T08:04:55.060361Z",
     "start_time": "2022-12-08T08:04:55.057361Z"
    }
   },
   "outputs": [
    {
     "name": "stdout",
     "output_type": "stream",
     "text": [
      "[0.0, 3.0, 6.0, 9.0, 12.0, 15.0, 18.0, 21.0, 24.0, 27.0]\n"
     ]
    }
   ],
   "source": [
    "library.func_add_arrays_out(left_array, right_array, result_array, 10)\n",
    "print(result_array[:])"
   ]
  },
  {
   "cell_type": "markdown",
   "metadata": {},
   "source": [
    "### `Ctypes. Pointers. Создание. Способ 3`"
   ]
  },
  {
   "cell_type": "code",
   "execution_count": 46,
   "metadata": {
    "ExecuteTime": {
     "end_time": "2022-12-08T08:04:55.536379Z",
     "start_time": "2022-12-08T08:04:55.525380Z"
    }
   },
   "outputs": [],
   "source": [
    "# 3 Способ: создание internal массива из прямой конвертацией указателя в C указатель (ещё быстрее)\n",
    "left_array = array('d', (i for i in range(10)))\n",
    "right_array = array('d', (2.0 * i for i in range(10)))\n",
    "result_array = array('d', (0.0 for i in range(10)))"
   ]
  },
  {
   "cell_type": "code",
   "execution_count": 47,
   "metadata": {
    "ExecuteTime": {
     "end_time": "2022-12-08T08:04:55.727705Z",
     "start_time": "2022-12-08T08:04:55.720704Z"
    }
   },
   "outputs": [
    {
     "name": "stdout",
     "output_type": "stream",
     "text": [
      "array('d', [0.0, 3.0, 6.0, 9.0, 12.0, 15.0, 18.0, 21.0, 24.0, 27.0])\n"
     ]
    }
   ],
   "source": [
    "library.func_add_arrays_out(\n",
    "    ctypes.cast(left_array.buffer_info()[0], ctypes.POINTER(ctypes.c_double)),\n",
    "    ctypes.cast(right_array.buffer_info()[0], ctypes.POINTER(ctypes.c_double)),\n",
    "    ctypes.cast(result_array.buffer_info()[0], ctypes.POINTER(ctypes.c_double)),\n",
    "    10\n",
    ")\n",
    "print(result_array)"
   ]
  },
  {
   "cell_type": "markdown",
   "metadata": {},
   "source": [
    "### `Ctypes. Pointers. Создание. Способ 4`"
   ]
  },
  {
   "cell_type": "code",
   "execution_count": 48,
   "metadata": {
    "ExecuteTime": {
     "end_time": "2022-12-08T08:04:56.197308Z",
     "start_time": "2022-12-08T08:04:56.185308Z"
    }
   },
   "outputs": [],
   "source": [
    "left_array = np.array([2.0 * i for i in range(10)], dtype=np.double)\n",
    "right_array = np.array([i for i in range(10)], dtype=np.double)\n",
    "result_array = np.array([0.0 for i in range(10)], dtype=np.double)"
   ]
  },
  {
   "cell_type": "code",
   "execution_count": 49,
   "metadata": {
    "ExecuteTime": {
     "end_time": "2022-12-08T08:04:56.729784Z",
     "start_time": "2022-12-08T08:04:56.712785Z"
    }
   },
   "outputs": [
    {
     "name": "stdout",
     "output_type": "stream",
     "text": [
      "[ 0.  3.  6.  9. 12. 15. 18. 21. 24. 27.]\n"
     ]
    }
   ],
   "source": [
    "library.func_add_arrays_out(\n",
    "    left_array.ctypes.data_as(ctypes.POINTER(ctypes.c_double)),\n",
    "    right_array.ctypes.data_as(ctypes.POINTER(ctypes.c_double)),\n",
    "    result_array.ctypes.data_as(ctypes.POINTER(ctypes.c_double)),\n",
    "    10\n",
    ")\n",
    "print(result_array[:])"
   ]
  },
  {
   "cell_type": "markdown",
   "metadata": {
    "ExecuteTime": {
     "end_time": "2022-12-08T04:58:26.765370Z",
     "start_time": "2022-12-08T04:58:26.760371Z"
    }
   },
   "source": [
    "### `Ctypes. Сравнение скорости`"
   ]
  },
  {
   "cell_type": "markdown",
   "metadata": {},
   "source": [
    "Сравним скорость трёх реализаций сложения массивов:\n",
    "1. `numpy` реализация\n",
    "2. `Pure Python` реализация\n",
    "3. `C` расширения"
   ]
  },
  {
   "cell_type": "code",
   "execution_count": 50,
   "metadata": {
    "ExecuteTime": {
     "end_time": "2022-12-08T08:04:57.623171Z",
     "start_time": "2022-12-08T08:04:57.617171Z"
    }
   },
   "outputs": [],
   "source": [
    "import time"
   ]
  },
  {
   "cell_type": "code",
   "execution_count": 51,
   "metadata": {
    "ExecuteTime": {
     "end_time": "2022-12-08T08:04:58.092691Z",
     "start_time": "2022-12-08T08:04:58.080693Z"
    }
   },
   "outputs": [],
   "source": [
    "n = 100_000_000"
   ]
  },
  {
   "cell_type": "code",
   "execution_count": 52,
   "metadata": {
    "ExecuteTime": {
     "end_time": "2022-12-08T08:05:12.465382Z",
     "start_time": "2022-12-08T08:04:59.528354Z"
    }
   },
   "outputs": [],
   "source": [
    "# Numpy\n",
    "start_numpy_create = time.time()\n",
    "\n",
    "left_numpy = np.array([1.0 * i for i in range(n)], dtype=np.double)\n",
    "right_numpy = np.array([2.0 * i for i in range(n)], dtype=np.double)\n",
    "result_numpy = np.empty([n], dtype=np.double)\n",
    "\n",
    "total_time_numpy_create = time.time() - start_numpy_create\n",
    "\n",
    "start_numpy = time.time()\n",
    "result_numpy = left_numpy + right_numpy\n",
    "total_time_numpy = time.time() - start_numpy"
   ]
  },
  {
   "cell_type": "code",
   "execution_count": 53,
   "metadata": {
    "ExecuteTime": {
     "end_time": "2022-12-08T08:05:24.543382Z",
     "start_time": "2022-12-08T08:05:12.466384Z"
    }
   },
   "outputs": [],
   "source": [
    "# Python lists\n",
    "start_lists_create = time.time()\n",
    "\n",
    "left_lists = [1.0 * i for i in range(n)]\n",
    "right_lists = [2.0 * i for i in range(n)]\n",
    "\n",
    "total_time_lists_create = time.time() - start_lists_create\n",
    "\n",
    "start_lists = time.time()\n",
    "result_lists = [i + j for (i, j) in zip(left_lists, right_lists)]\n",
    "total_time_lists = time.time() - start_lists"
   ]
  },
  {
   "cell_type": "code",
   "execution_count": 54,
   "metadata": {
    "ExecuteTime": {
     "end_time": "2022-12-08T08:05:48.064383Z",
     "start_time": "2022-12-08T08:05:24.544384Z"
    }
   },
   "outputs": [],
   "source": [
    "# C function + lists\n",
    "start_c_lists_create = time.time()\n",
    "\n",
    "double_array_n = ctypes.c_double * n\n",
    "\n",
    "left_c_lists = double_array_n(*[i for i in range(n)])\n",
    "right_c_lists = double_array_n(*[2.0 * i for i in range(n)])\n",
    "result_c_lists = double_array_n()\n",
    "\n",
    "total_c_lists_create = time.time() - start_c_lists_create\n",
    "\n",
    "start_c_lists = time.time()\n",
    "library.func_add_arrays_out(left_c_lists, right_c_lists, result_c_lists, n)\n",
    "total_c_lists = time.time() - start_c_lists"
   ]
  },
  {
   "cell_type": "code",
   "execution_count": 55,
   "metadata": {
    "ExecuteTime": {
     "end_time": "2022-12-08T08:06:01.419383Z",
     "start_time": "2022-12-08T08:05:48.065383Z"
    }
   },
   "outputs": [],
   "source": [
    "# C function + numpy\n",
    "start_c_numpy_create = time.time()\n",
    "\n",
    "left_numpy = np.array([1.0 * i for i in range(n)], dtype=np.double)\n",
    "right_numpy = np.array([2.0 * i for i in range(n)], dtype=np.double)\n",
    "result_numpy = np.empty([n], dtype=np.double)\n",
    "\n",
    "total_c_numpy_create = time.time() - start_c_numpy_create\n",
    "\n",
    "start_c_numpy = time.time()\n",
    "library.func_add_arrays_out(\n",
    "    left_numpy.ctypes.data_as(ctypes.POINTER(ctypes.c_double)),\n",
    "    right_numpy.ctypes.data_as(ctypes.POINTER(ctypes.c_double)),\n",
    "    result_numpy.ctypes.data_as(ctypes.POINTER(ctypes.c_double)), \n",
    "    n\n",
    ")\n",
    "total_c_numpy = time.time() - start_c_numpy"
   ]
  },
  {
   "cell_type": "code",
   "execution_count": 56,
   "metadata": {
    "ExecuteTime": {
     "end_time": "2022-12-08T08:06:03.259382Z",
     "start_time": "2022-12-08T08:06:01.420382Z"
    }
   },
   "outputs": [],
   "source": [
    "import pandas as pd"
   ]
  },
  {
   "cell_type": "code",
   "execution_count": 57,
   "metadata": {
    "ExecuteTime": {
     "end_time": "2022-12-08T08:06:03.274382Z",
     "start_time": "2022-12-08T08:06:03.260382Z"
    },
    "deletable": false,
    "editable": false,
    "run_control": {
     "frozen": true
    }
   },
   "outputs": [
    {
     "data": {
      "text/html": [
       "<div>\n",
       "<style scoped>\n",
       "    .dataframe tbody tr th:only-of-type {\n",
       "        vertical-align: middle;\n",
       "    }\n",
       "\n",
       "    .dataframe tbody tr th {\n",
       "        vertical-align: top;\n",
       "    }\n",
       "\n",
       "    .dataframe thead th {\n",
       "        text-align: right;\n",
       "    }\n",
       "</style>\n",
       "<table border=\"1\" class=\"dataframe\">\n",
       "  <thead>\n",
       "    <tr style=\"text-align: right;\">\n",
       "      <th></th>\n",
       "      <th>Время создания</th>\n",
       "      <th>Время выполнения</th>\n",
       "    </tr>\n",
       "  </thead>\n",
       "  <tbody>\n",
       "    <tr>\n",
       "      <th>lists + C</th>\n",
       "      <td>23.408000</td>\n",
       "      <td>0.093002</td>\n",
       "    </tr>\n",
       "    <tr>\n",
       "      <th>numpy + C</th>\n",
       "      <td>13.183998</td>\n",
       "      <td>0.164001</td>\n",
       "    </tr>\n",
       "    <tr>\n",
       "      <th>numpy</th>\n",
       "      <td>12.796028</td>\n",
       "      <td>0.131001</td>\n",
       "    </tr>\n",
       "    <tr>\n",
       "      <th>lists</th>\n",
       "      <td>7.771996</td>\n",
       "      <td>4.288001</td>\n",
       "    </tr>\n",
       "  </tbody>\n",
       "</table>\n",
       "</div>"
      ],
      "text/plain": [
       "           Время создания  Время выполнения\n",
       "lists + C       23.408000          0.093002\n",
       "numpy + C       13.183998          0.164001\n",
       "numpy           12.796028          0.131001\n",
       "lists            7.771996          4.288001"
      ]
     },
     "execution_count": 57,
     "metadata": {},
     "output_type": "execute_result"
    }
   ],
   "source": [
    "pd.DataFrame(data=[\n",
    "    (total_c_lists_create, total_c_lists),\n",
    "    (total_c_numpy_create, total_c_numpy),\n",
    "    (total_time_numpy_create, total_time_numpy),\n",
    "    (total_time_lists_create, total_time_lists),\n",
    "], columns=['Время создания', 'Время выполнения'], index=['lists + C', 'numpy + C', 'numpy', 'lists', ])"
   ]
  },
  {
   "cell_type": "markdown",
   "metadata": {},
   "source": [
    "### `Задача. Ctypes решение`"
   ]
  },
  {
   "cell_type": "markdown",
   "metadata": {},
   "source": [
    "```C\n",
    "double * replace_zeros_to_means(double *X, unsigned long long n, unsigned long long m){\n",
    "    double *Y = malloc(sizeof(double) * n * m);\n",
    "\n",
    "    for(int i = 0; i < n; ++i){\n",
    "        for(int j = 0; j < m; ++j){\n",
    "            Y[i * m + j] = X[i * m + j];\n",
    "        }\n",
    "    }\n",
    "\n",
    "    double *counts_n = malloc(sizeof(double) * m);\n",
    "    int *counts_d = malloc(sizeof(int) * m);\n",
    "    double *means = malloc(sizeof(double) * m);\n",
    "\n",
    "    for(int j = 0; j < m; ++j){\n",
    "        counts_n[j] = 0.0;\n",
    "        counts_d[j] = 0;\n",
    "    }\n",
    "\n",
    "    for(int i = 0; i < n; ++i){\n",
    "        for(int j = 0; j < m; ++j){\n",
    "            counts_n[j] += Y[i * m + j];\n",
    "            counts_d[j] += (Y[i * m + j] != 0);\n",
    "        }\n",
    "    }\n",
    "\n",
    "    for(int j = 0; j < m; ++j){\n",
    "        if (counts_d[j]) {\n",
    "            means[j] = counts_n[j] / counts_d[j];\n",
    "        } else {\n",
    "            means[j] = 0.0;\n",
    "        }\n",
    "    }\n",
    "\n",
    "    for(int i = 0; i < n; ++i){\n",
    "        for(int j = 0; j < m; ++j){\n",
    "            if(Y[i * m + j] == 0){\n",
    "                Y[i * m + j] = means[j];\n",
    "            }\n",
    "        }\n",
    "    }\n",
    "\n",
    "    free(counts_n);\n",
    "    free(counts_d);\n",
    "    free(means);\n",
    "\n",
    "    return Y;\n",
    "}\n",
    "\n",
    "void free_double(double *ptr){\n",
    "    if(ptr){\n",
    "        free(ptr);\n",
    "    }\n",
    "}\n",
    "```"
   ]
  },
  {
   "cell_type": "code",
   "execution_count": 58,
   "metadata": {
    "ExecuteTime": {
     "end_time": "2022-12-08T08:07:09.144638Z",
     "start_time": "2022-12-08T08:07:09.128651Z"
    }
   },
   "outputs": [],
   "source": [
    "library.replace_zeros_to_means.restype = ctypes.POINTER(ctypes.c_double)\n",
    "library.replace_zeros_to_means.argtypes = [\n",
    "    ctypes.POINTER(ctypes.c_double), \n",
    "    ctypes.c_ulonglong, ctypes.c_ulonglong\n",
    "]\n",
    "\n",
    "library.free_double.restype = None\n",
    "library.free_double.argtypes = [ctypes.POINTER(ctypes.c_double)]"
   ]
  },
  {
   "cell_type": "code",
   "execution_count": 59,
   "metadata": {
    "ExecuteTime": {
     "end_time": "2022-12-08T08:08:30.422703Z",
     "start_time": "2022-12-08T08:07:10.656631Z"
    }
   },
   "outputs": [],
   "source": [
    "times_c, times_numpy, times_python = [], [], []\n",
    "ns = [40, 80, 100, 200, 400, 800, 1000, 2000, 4000, 8000, 10000]\n",
    "\n",
    "for n in ns:\n",
    "    m = n\n",
    "    X = np.random.randint(0, 3, [n, m]).astype(np.float64)\n",
    "    \n",
    "    start_c = time.time()\n",
    "    Y = library.replace_zeros_to_means(\n",
    "        X.ctypes.data_as(ctypes.POINTER(ctypes.c_double)),\n",
    "        n, m\n",
    "    )\n",
    "    total_c = time.time() - start_c    \n",
    "    library.free_double(Y)\n",
    "    \n",
    "    start_numpy = time.time()\n",
    "    replace_zeros_to_means_numpy(X)\n",
    "    total_numpy = time.time() - start_numpy  \n",
    "    \n",
    "    start_python = time.time()\n",
    "    replace_zeros_to_means_python(X)\n",
    "    total_python = time.time() - start_python \n",
    "    \n",
    "    times_c.append(total_c)\n",
    "    times_numpy.append(total_numpy)\n",
    "    times_python.append(total_python)"
   ]
  },
  {
   "cell_type": "code",
   "execution_count": 60,
   "metadata": {
    "ExecuteTime": {
     "end_time": "2022-12-08T08:08:30.898702Z",
     "start_time": "2022-12-08T08:08:30.424705Z"
    }
   },
   "outputs": [],
   "source": [
    "import matplotlib.pyplot as plt\n",
    "import matplotlib_inline\n",
    "\n",
    "matplotlib_inline.backend_inline.set_matplotlib_formats('svg')\n",
    "%matplotlib inline"
   ]
  },
  {
   "cell_type": "code",
   "execution_count": 61,
   "metadata": {
    "ExecuteTime": {
     "end_time": "2022-12-08T08:08:32.194702Z",
     "start_time": "2022-12-08T08:08:30.899702Z"
    },
    "deletable": false,
    "editable": false,
    "run_control": {
     "frozen": true
    }
   },
   "outputs": [
    {
     "data": {
      "image/svg+xml": [
       "<?xml version=\"1.0\" encoding=\"utf-8\" standalone=\"no\"?>\n",
       "<!DOCTYPE svg PUBLIC \"-//W3C//DTD SVG 1.1//EN\"\n",
       "  \"http://www.w3.org/Graphics/SVG/1.1/DTD/svg11.dtd\">\n",
       "<svg xmlns:xlink=\"http://www.w3.org/1999/xlink\" width=\"711.916071pt\" height=\"275.722375pt\" viewBox=\"0 0 711.916071 275.722375\" xmlns=\"http://www.w3.org/2000/svg\" version=\"1.1\">\n",
       " <metadata>\n",
       "  <rdf:RDF xmlns:dc=\"http://purl.org/dc/elements/1.1/\" xmlns:cc=\"http://creativecommons.org/ns#\" xmlns:rdf=\"http://www.w3.org/1999/02/22-rdf-syntax-ns#\">\n",
       "   <cc:Work>\n",
       "    <dc:type rdf:resource=\"http://purl.org/dc/dcmitype/StillImage\"/>\n",
       "    <dc:date>2022-12-08T11:08:32.114703</dc:date>\n",
       "    <dc:format>image/svg+xml</dc:format>\n",
       "    <dc:creator>\n",
       "     <cc:Agent>\n",
       "      <dc:title>Matplotlib v3.5.3, https://matplotlib.org/</dc:title>\n",
       "     </cc:Agent>\n",
       "    </dc:creator>\n",
       "   </cc:Work>\n",
       "  </rdf:RDF>\n",
       " </metadata>\n",
       " <defs>\n",
       "  <style type=\"text/css\">*{stroke-linejoin: round; stroke-linecap: butt}</style>\n",
       " </defs>\n",
       " <g id=\"figure_1\">\n",
       "  <g id=\"patch_1\">\n",
       "   <path d=\"M 0 275.722375 \n",
       "L 711.916071 275.722375 \n",
       "L 711.916071 0 \n",
       "L 0 0 \n",
       "z\n",
       "\" style=\"fill: #ffffff\"/>\n",
       "  </g>\n",
       "  <g id=\"axes_1\">\n",
       "   <g id=\"patch_2\">\n",
       "    <path d=\"M 51.378125 238.166125 \n",
       "L 704.716071 238.166125 \n",
       "L 704.716071 22.318125 \n",
       "L 51.378125 22.318125 \n",
       "z\n",
       "\" style=\"fill: #ffffff\"/>\n",
       "   </g>\n",
       "   <g id=\"matplotlib.axis_1\">\n",
       "    <g id=\"xtick_1\">\n",
       "     <g id=\"line2d_1\">\n",
       "      <path d=\"M 179.640704 238.166125 \n",
       "L 179.640704 22.318125 \n",
       "\" clip-path=\"url(#pa40d6fc922)\" style=\"fill: none; stroke: #b0b0b0; stroke-width: 0.8; stroke-linecap: square\"/>\n",
       "     </g>\n",
       "     <g id=\"line2d_2\">\n",
       "      <defs>\n",
       "       <path id=\"m80bb998410\" d=\"M 0 0 \n",
       "L 0 3.5 \n",
       "\" style=\"stroke: #000000; stroke-width: 0.8\"/>\n",
       "      </defs>\n",
       "      <g>\n",
       "       <use xlink:href=\"#m80bb998410\" x=\"179.640704\" y=\"238.166125\" style=\"stroke: #000000; stroke-width: 0.8\"/>\n",
       "      </g>\n",
       "     </g>\n",
       "     <g id=\"text_1\">\n",
       "      <!-- $\\mathdefault{10^{2}}$ -->\n",
       "      <g transform=\"translate(170.840704 252.764563)scale(0.1 -0.1)\">\n",
       "       <defs>\n",
       "        <path id=\"DejaVuSans-31\" d=\"M 794 531 \n",
       "L 1825 531 \n",
       "L 1825 4091 \n",
       "L 703 3866 \n",
       "L 703 4441 \n",
       "L 1819 4666 \n",
       "L 2450 4666 \n",
       "L 2450 531 \n",
       "L 3481 531 \n",
       "L 3481 0 \n",
       "L 794 0 \n",
       "L 794 531 \n",
       "z\n",
       "\" transform=\"scale(0.015625)\"/>\n",
       "        <path id=\"DejaVuSans-30\" d=\"M 2034 4250 \n",
       "Q 1547 4250 1301 3770 \n",
       "Q 1056 3291 1056 2328 \n",
       "Q 1056 1369 1301 889 \n",
       "Q 1547 409 2034 409 \n",
       "Q 2525 409 2770 889 \n",
       "Q 3016 1369 3016 2328 \n",
       "Q 3016 3291 2770 3770 \n",
       "Q 2525 4250 2034 4250 \n",
       "z\n",
       "M 2034 4750 \n",
       "Q 2819 4750 3233 4129 \n",
       "Q 3647 3509 3647 2328 \n",
       "Q 3647 1150 3233 529 \n",
       "Q 2819 -91 2034 -91 \n",
       "Q 1250 -91 836 529 \n",
       "Q 422 1150 422 2328 \n",
       "Q 422 3509 836 4129 \n",
       "Q 1250 4750 2034 4750 \n",
       "z\n",
       "\" transform=\"scale(0.015625)\"/>\n",
       "        <path id=\"DejaVuSans-32\" d=\"M 1228 531 \n",
       "L 3431 531 \n",
       "L 3431 0 \n",
       "L 469 0 \n",
       "L 469 531 \n",
       "Q 828 903 1448 1529 \n",
       "Q 2069 2156 2228 2338 \n",
       "Q 2531 2678 2651 2914 \n",
       "Q 2772 3150 2772 3378 \n",
       "Q 2772 3750 2511 3984 \n",
       "Q 2250 4219 1831 4219 \n",
       "Q 1534 4219 1204 4116 \n",
       "Q 875 4013 500 3803 \n",
       "L 500 4441 \n",
       "Q 881 4594 1212 4672 \n",
       "Q 1544 4750 1819 4750 \n",
       "Q 2544 4750 2975 4387 \n",
       "Q 3406 4025 3406 3419 \n",
       "Q 3406 3131 3298 2873 \n",
       "Q 3191 2616 2906 2266 \n",
       "Q 2828 2175 2409 1742 \n",
       "Q 1991 1309 1228 531 \n",
       "z\n",
       "\" transform=\"scale(0.015625)\"/>\n",
       "       </defs>\n",
       "       <use xlink:href=\"#DejaVuSans-31\" transform=\"translate(0 0.765625)\"/>\n",
       "       <use xlink:href=\"#DejaVuSans-30\" transform=\"translate(63.623047 0.765625)\"/>\n",
       "       <use xlink:href=\"#DejaVuSans-32\" transform=\"translate(128.203125 39.046875)scale(0.7)\"/>\n",
       "      </g>\n",
       "     </g>\n",
       "    </g>\n",
       "    <g id=\"xtick_2\">\n",
       "     <g id=\"line2d_3\">\n",
       "      <path d=\"M 427.329798 238.166125 \n",
       "L 427.329798 22.318125 \n",
       "\" clip-path=\"url(#pa40d6fc922)\" style=\"fill: none; stroke: #b0b0b0; stroke-width: 0.8; stroke-linecap: square\"/>\n",
       "     </g>\n",
       "     <g id=\"line2d_4\">\n",
       "      <g>\n",
       "       <use xlink:href=\"#m80bb998410\" x=\"427.329798\" y=\"238.166125\" style=\"stroke: #000000; stroke-width: 0.8\"/>\n",
       "      </g>\n",
       "     </g>\n",
       "     <g id=\"text_2\">\n",
       "      <!-- $\\mathdefault{10^{3}}$ -->\n",
       "      <g transform=\"translate(418.529798 252.764563)scale(0.1 -0.1)\">\n",
       "       <defs>\n",
       "        <path id=\"DejaVuSans-33\" d=\"M 2597 2516 \n",
       "Q 3050 2419 3304 2112 \n",
       "Q 3559 1806 3559 1356 \n",
       "Q 3559 666 3084 287 \n",
       "Q 2609 -91 1734 -91 \n",
       "Q 1441 -91 1130 -33 \n",
       "Q 819 25 488 141 \n",
       "L 488 750 \n",
       "Q 750 597 1062 519 \n",
       "Q 1375 441 1716 441 \n",
       "Q 2309 441 2620 675 \n",
       "Q 2931 909 2931 1356 \n",
       "Q 2931 1769 2642 2001 \n",
       "Q 2353 2234 1838 2234 \n",
       "L 1294 2234 \n",
       "L 1294 2753 \n",
       "L 1863 2753 \n",
       "Q 2328 2753 2575 2939 \n",
       "Q 2822 3125 2822 3475 \n",
       "Q 2822 3834 2567 4026 \n",
       "Q 2313 4219 1838 4219 \n",
       "Q 1578 4219 1281 4162 \n",
       "Q 984 4106 628 3988 \n",
       "L 628 4550 \n",
       "Q 988 4650 1302 4700 \n",
       "Q 1616 4750 1894 4750 \n",
       "Q 2613 4750 3031 4423 \n",
       "Q 3450 4097 3450 3541 \n",
       "Q 3450 3153 3228 2886 \n",
       "Q 3006 2619 2597 2516 \n",
       "z\n",
       "\" transform=\"scale(0.015625)\"/>\n",
       "       </defs>\n",
       "       <use xlink:href=\"#DejaVuSans-31\" transform=\"translate(0 0.765625)\"/>\n",
       "       <use xlink:href=\"#DejaVuSans-30\" transform=\"translate(63.623047 0.765625)\"/>\n",
       "       <use xlink:href=\"#DejaVuSans-33\" transform=\"translate(128.203125 39.046875)scale(0.7)\"/>\n",
       "      </g>\n",
       "     </g>\n",
       "    </g>\n",
       "    <g id=\"xtick_3\">\n",
       "     <g id=\"line2d_5\">\n",
       "      <path d=\"M 675.018892 238.166125 \n",
       "L 675.018892 22.318125 \n",
       "\" clip-path=\"url(#pa40d6fc922)\" style=\"fill: none; stroke: #b0b0b0; stroke-width: 0.8; stroke-linecap: square\"/>\n",
       "     </g>\n",
       "     <g id=\"line2d_6\">\n",
       "      <g>\n",
       "       <use xlink:href=\"#m80bb998410\" x=\"675.018892\" y=\"238.166125\" style=\"stroke: #000000; stroke-width: 0.8\"/>\n",
       "      </g>\n",
       "     </g>\n",
       "     <g id=\"text_3\">\n",
       "      <!-- $\\mathdefault{10^{4}}$ -->\n",
       "      <g transform=\"translate(666.218892 252.764563)scale(0.1 -0.1)\">\n",
       "       <defs>\n",
       "        <path id=\"DejaVuSans-34\" d=\"M 2419 4116 \n",
       "L 825 1625 \n",
       "L 2419 1625 \n",
       "L 2419 4116 \n",
       "z\n",
       "M 2253 4666 \n",
       "L 3047 4666 \n",
       "L 3047 1625 \n",
       "L 3713 1625 \n",
       "L 3713 1100 \n",
       "L 3047 1100 \n",
       "L 3047 0 \n",
       "L 2419 0 \n",
       "L 2419 1100 \n",
       "L 313 1100 \n",
       "L 313 1709 \n",
       "L 2253 4666 \n",
       "z\n",
       "\" transform=\"scale(0.015625)\"/>\n",
       "       </defs>\n",
       "       <use xlink:href=\"#DejaVuSans-31\" transform=\"translate(0 0.684375)\"/>\n",
       "       <use xlink:href=\"#DejaVuSans-30\" transform=\"translate(63.623047 0.684375)\"/>\n",
       "       <use xlink:href=\"#DejaVuSans-34\" transform=\"translate(128.203125 38.965625)scale(0.7)\"/>\n",
       "      </g>\n",
       "     </g>\n",
       "    </g>\n",
       "    <g id=\"xtick_4\">\n",
       "     <g id=\"line2d_7\">\n",
       "      <defs>\n",
       "       <path id=\"mc4c083c1d0\" d=\"M 0 0 \n",
       "L 0 2 \n",
       "\" style=\"stroke: #000000; stroke-width: 0.6\"/>\n",
       "      </defs>\n",
       "      <g>\n",
       "       <use xlink:href=\"#mc4c083c1d0\" x=\"81.075304\" y=\"238.166125\" style=\"stroke: #000000; stroke-width: 0.6\"/>\n",
       "      </g>\n",
       "     </g>\n",
       "    </g>\n",
       "    <g id=\"xtick_5\">\n",
       "     <g id=\"line2d_8\">\n",
       "      <g>\n",
       "       <use xlink:href=\"#mc4c083c1d0\" x=\"105.078858\" y=\"238.166125\" style=\"stroke: #000000; stroke-width: 0.6\"/>\n",
       "      </g>\n",
       "     </g>\n",
       "    </g>\n",
       "    <g id=\"xtick_6\">\n",
       "     <g id=\"line2d_9\">\n",
       "      <g>\n",
       "       <use xlink:href=\"#mc4c083c1d0\" x=\"124.691189\" y=\"238.166125\" style=\"stroke: #000000; stroke-width: 0.6\"/>\n",
       "      </g>\n",
       "     </g>\n",
       "    </g>\n",
       "    <g id=\"xtick_7\">\n",
       "     <g id=\"line2d_10\">\n",
       "      <g>\n",
       "       <use xlink:href=\"#mc4c083c1d0\" x=\"141.273178\" y=\"238.166125\" style=\"stroke: #000000; stroke-width: 0.6\"/>\n",
       "      </g>\n",
       "     </g>\n",
       "    </g>\n",
       "    <g id=\"xtick_8\">\n",
       "     <g id=\"line2d_11\">\n",
       "      <g>\n",
       "       <use xlink:href=\"#mc4c083c1d0\" x=\"155.637151\" y=\"238.166125\" style=\"stroke: #000000; stroke-width: 0.6\"/>\n",
       "      </g>\n",
       "     </g>\n",
       "    </g>\n",
       "    <g id=\"xtick_9\">\n",
       "     <g id=\"line2d_12\">\n",
       "      <g>\n",
       "       <use xlink:href=\"#mc4c083c1d0\" x=\"168.307073\" y=\"238.166125\" style=\"stroke: #000000; stroke-width: 0.6\"/>\n",
       "      </g>\n",
       "     </g>\n",
       "    </g>\n",
       "    <g id=\"xtick_10\">\n",
       "     <g id=\"line2d_13\">\n",
       "      <g>\n",
       "       <use xlink:href=\"#mc4c083c1d0\" x=\"254.202551\" y=\"238.166125\" style=\"stroke: #000000; stroke-width: 0.6\"/>\n",
       "      </g>\n",
       "     </g>\n",
       "    </g>\n",
       "    <g id=\"xtick_11\">\n",
       "     <g id=\"line2d_14\">\n",
       "      <g>\n",
       "       <use xlink:href=\"#mc4c083c1d0\" x=\"297.818436\" y=\"238.166125\" style=\"stroke: #000000; stroke-width: 0.6\"/>\n",
       "      </g>\n",
       "     </g>\n",
       "    </g>\n",
       "    <g id=\"xtick_12\">\n",
       "     <g id=\"line2d_15\">\n",
       "      <g>\n",
       "       <use xlink:href=\"#mc4c083c1d0\" x=\"328.764398\" y=\"238.166125\" style=\"stroke: #000000; stroke-width: 0.6\"/>\n",
       "      </g>\n",
       "     </g>\n",
       "    </g>\n",
       "    <g id=\"xtick_13\">\n",
       "     <g id=\"line2d_16\">\n",
       "      <g>\n",
       "       <use xlink:href=\"#mc4c083c1d0\" x=\"352.767951\" y=\"238.166125\" style=\"stroke: #000000; stroke-width: 0.6\"/>\n",
       "      </g>\n",
       "     </g>\n",
       "    </g>\n",
       "    <g id=\"xtick_14\">\n",
       "     <g id=\"line2d_17\">\n",
       "      <g>\n",
       "       <use xlink:href=\"#mc4c083c1d0\" x=\"372.380282\" y=\"238.166125\" style=\"stroke: #000000; stroke-width: 0.6\"/>\n",
       "      </g>\n",
       "     </g>\n",
       "    </g>\n",
       "    <g id=\"xtick_15\">\n",
       "     <g id=\"line2d_18\">\n",
       "      <g>\n",
       "       <use xlink:href=\"#mc4c083c1d0\" x=\"388.962272\" y=\"238.166125\" style=\"stroke: #000000; stroke-width: 0.6\"/>\n",
       "      </g>\n",
       "     </g>\n",
       "    </g>\n",
       "    <g id=\"xtick_16\">\n",
       "     <g id=\"line2d_19\">\n",
       "      <g>\n",
       "       <use xlink:href=\"#mc4c083c1d0\" x=\"403.326245\" y=\"238.166125\" style=\"stroke: #000000; stroke-width: 0.6\"/>\n",
       "      </g>\n",
       "     </g>\n",
       "    </g>\n",
       "    <g id=\"xtick_17\">\n",
       "     <g id=\"line2d_20\">\n",
       "      <g>\n",
       "       <use xlink:href=\"#mc4c083c1d0\" x=\"415.996167\" y=\"238.166125\" style=\"stroke: #000000; stroke-width: 0.6\"/>\n",
       "      </g>\n",
       "     </g>\n",
       "    </g>\n",
       "    <g id=\"xtick_18\">\n",
       "     <g id=\"line2d_21\">\n",
       "      <g>\n",
       "       <use xlink:href=\"#mc4c083c1d0\" x=\"501.891645\" y=\"238.166125\" style=\"stroke: #000000; stroke-width: 0.6\"/>\n",
       "      </g>\n",
       "     </g>\n",
       "    </g>\n",
       "    <g id=\"xtick_19\">\n",
       "     <g id=\"line2d_22\">\n",
       "      <g>\n",
       "       <use xlink:href=\"#mc4c083c1d0\" x=\"545.507529\" y=\"238.166125\" style=\"stroke: #000000; stroke-width: 0.6\"/>\n",
       "      </g>\n",
       "     </g>\n",
       "    </g>\n",
       "    <g id=\"xtick_20\">\n",
       "     <g id=\"line2d_23\">\n",
       "      <g>\n",
       "       <use xlink:href=\"#mc4c083c1d0\" x=\"576.453492\" y=\"238.166125\" style=\"stroke: #000000; stroke-width: 0.6\"/>\n",
       "      </g>\n",
       "     </g>\n",
       "    </g>\n",
       "    <g id=\"xtick_21\">\n",
       "     <g id=\"line2d_24\">\n",
       "      <g>\n",
       "       <use xlink:href=\"#mc4c083c1d0\" x=\"600.457045\" y=\"238.166125\" style=\"stroke: #000000; stroke-width: 0.6\"/>\n",
       "      </g>\n",
       "     </g>\n",
       "    </g>\n",
       "    <g id=\"xtick_22\">\n",
       "     <g id=\"line2d_25\">\n",
       "      <g>\n",
       "       <use xlink:href=\"#mc4c083c1d0\" x=\"620.069376\" y=\"238.166125\" style=\"stroke: #000000; stroke-width: 0.6\"/>\n",
       "      </g>\n",
       "     </g>\n",
       "    </g>\n",
       "    <g id=\"xtick_23\">\n",
       "     <g id=\"line2d_26\">\n",
       "      <g>\n",
       "       <use xlink:href=\"#mc4c083c1d0\" x=\"636.651366\" y=\"238.166125\" style=\"stroke: #000000; stroke-width: 0.6\"/>\n",
       "      </g>\n",
       "     </g>\n",
       "    </g>\n",
       "    <g id=\"xtick_24\">\n",
       "     <g id=\"line2d_27\">\n",
       "      <g>\n",
       "       <use xlink:href=\"#mc4c083c1d0\" x=\"651.015338\" y=\"238.166125\" style=\"stroke: #000000; stroke-width: 0.6\"/>\n",
       "      </g>\n",
       "     </g>\n",
       "    </g>\n",
       "    <g id=\"xtick_25\">\n",
       "     <g id=\"line2d_28\">\n",
       "      <g>\n",
       "       <use xlink:href=\"#mc4c083c1d0\" x=\"663.68526\" y=\"238.166125\" style=\"stroke: #000000; stroke-width: 0.6\"/>\n",
       "      </g>\n",
       "     </g>\n",
       "    </g>\n",
       "    <g id=\"text_4\">\n",
       "     <!-- $n$ -->\n",
       "     <g transform=\"translate(374.847098 266.442687)scale(0.1 -0.1)\">\n",
       "      <defs>\n",
       "       <path id=\"DejaVuSans-Oblique-6e\" d=\"M 3566 2113 \n",
       "L 3156 0 \n",
       "L 2578 0 \n",
       "L 2988 2091 \n",
       "Q 3016 2238 3031 2350 \n",
       "Q 3047 2463 3047 2528 \n",
       "Q 3047 2791 2881 2937 \n",
       "Q 2716 3084 2419 3084 \n",
       "Q 1956 3084 1622 2776 \n",
       "Q 1288 2469 1184 1941 \n",
       "L 800 0 \n",
       "L 225 0 \n",
       "L 903 3500 \n",
       "L 1478 3500 \n",
       "L 1363 2950 \n",
       "Q 1603 3253 1940 3418 \n",
       "Q 2278 3584 2650 3584 \n",
       "Q 3113 3584 3367 3334 \n",
       "Q 3622 3084 3622 2631 \n",
       "Q 3622 2519 3608 2391 \n",
       "Q 3594 2263 3566 2113 \n",
       "z\n",
       "\" transform=\"scale(0.015625)\"/>\n",
       "      </defs>\n",
       "      <use xlink:href=\"#DejaVuSans-Oblique-6e\"/>\n",
       "     </g>\n",
       "    </g>\n",
       "   </g>\n",
       "   <g id=\"matplotlib.axis_2\">\n",
       "    <g id=\"ytick_1\">\n",
       "     <g id=\"line2d_29\">\n",
       "      <path d=\"M 51.378125 228.35351 \n",
       "L 704.716071 228.35351 \n",
       "\" clip-path=\"url(#pa40d6fc922)\" style=\"fill: none; stroke: #b0b0b0; stroke-width: 0.8; stroke-linecap: square\"/>\n",
       "     </g>\n",
       "     <g id=\"line2d_30\">\n",
       "      <defs>\n",
       "       <path id=\"m1922226dc6\" d=\"M 0 0 \n",
       "L -3.5 0 \n",
       "\" style=\"stroke: #000000; stroke-width: 0.8\"/>\n",
       "      </defs>\n",
       "      <g>\n",
       "       <use xlink:href=\"#m1922226dc6\" x=\"51.378125\" y=\"228.35351\" style=\"stroke: #000000; stroke-width: 0.8\"/>\n",
       "      </g>\n",
       "     </g>\n",
       "     <g id=\"text_5\">\n",
       "      <!-- $\\mathdefault{10^{-3}}$ -->\n",
       "      <g transform=\"translate(20.878125 232.152729)scale(0.1 -0.1)\">\n",
       "       <defs>\n",
       "        <path id=\"DejaVuSans-2212\" d=\"M 678 2272 \n",
       "L 4684 2272 \n",
       "L 4684 1741 \n",
       "L 678 1741 \n",
       "L 678 2272 \n",
       "z\n",
       "\" transform=\"scale(0.015625)\"/>\n",
       "       </defs>\n",
       "       <use xlink:href=\"#DejaVuSans-31\" transform=\"translate(0 0.765625)\"/>\n",
       "       <use xlink:href=\"#DejaVuSans-30\" transform=\"translate(63.623047 0.765625)\"/>\n",
       "       <use xlink:href=\"#DejaVuSans-2212\" transform=\"translate(128.203125 39.046875)scale(0.7)\"/>\n",
       "       <use xlink:href=\"#DejaVuSans-33\" transform=\"translate(186.855469 39.046875)scale(0.7)\"/>\n",
       "      </g>\n",
       "     </g>\n",
       "    </g>\n",
       "    <g id=\"ytick_2\">\n",
       "     <g id=\"line2d_31\">\n",
       "      <path d=\"M 51.378125 185.728241 \n",
       "L 704.716071 185.728241 \n",
       "\" clip-path=\"url(#pa40d6fc922)\" style=\"fill: none; stroke: #b0b0b0; stroke-width: 0.8; stroke-linecap: square\"/>\n",
       "     </g>\n",
       "     <g id=\"line2d_32\">\n",
       "      <g>\n",
       "       <use xlink:href=\"#m1922226dc6\" x=\"51.378125\" y=\"185.728241\" style=\"stroke: #000000; stroke-width: 0.8\"/>\n",
       "      </g>\n",
       "     </g>\n",
       "     <g id=\"text_6\">\n",
       "      <!-- $\\mathdefault{10^{-2}}$ -->\n",
       "      <g transform=\"translate(20.878125 189.52746)scale(0.1 -0.1)\">\n",
       "       <use xlink:href=\"#DejaVuSans-31\" transform=\"translate(0 0.765625)\"/>\n",
       "       <use xlink:href=\"#DejaVuSans-30\" transform=\"translate(63.623047 0.765625)\"/>\n",
       "       <use xlink:href=\"#DejaVuSans-2212\" transform=\"translate(128.203125 39.046875)scale(0.7)\"/>\n",
       "       <use xlink:href=\"#DejaVuSans-32\" transform=\"translate(186.855469 39.046875)scale(0.7)\"/>\n",
       "      </g>\n",
       "     </g>\n",
       "    </g>\n",
       "    <g id=\"ytick_3\">\n",
       "     <g id=\"line2d_33\">\n",
       "      <path d=\"M 51.378125 143.102972 \n",
       "L 704.716071 143.102972 \n",
       "\" clip-path=\"url(#pa40d6fc922)\" style=\"fill: none; stroke: #b0b0b0; stroke-width: 0.8; stroke-linecap: square\"/>\n",
       "     </g>\n",
       "     <g id=\"line2d_34\">\n",
       "      <g>\n",
       "       <use xlink:href=\"#m1922226dc6\" x=\"51.378125\" y=\"143.102972\" style=\"stroke: #000000; stroke-width: 0.8\"/>\n",
       "      </g>\n",
       "     </g>\n",
       "     <g id=\"text_7\">\n",
       "      <!-- $\\mathdefault{10^{-1}}$ -->\n",
       "      <g transform=\"translate(20.878125 146.902191)scale(0.1 -0.1)\">\n",
       "       <use xlink:href=\"#DejaVuSans-31\" transform=\"translate(0 0.684375)\"/>\n",
       "       <use xlink:href=\"#DejaVuSans-30\" transform=\"translate(63.623047 0.684375)\"/>\n",
       "       <use xlink:href=\"#DejaVuSans-2212\" transform=\"translate(128.203125 38.965625)scale(0.7)\"/>\n",
       "       <use xlink:href=\"#DejaVuSans-31\" transform=\"translate(186.855469 38.965625)scale(0.7)\"/>\n",
       "      </g>\n",
       "     </g>\n",
       "    </g>\n",
       "    <g id=\"ytick_4\">\n",
       "     <g id=\"line2d_35\">\n",
       "      <path d=\"M 51.378125 100.477703 \n",
       "L 704.716071 100.477703 \n",
       "\" clip-path=\"url(#pa40d6fc922)\" style=\"fill: none; stroke: #b0b0b0; stroke-width: 0.8; stroke-linecap: square\"/>\n",
       "     </g>\n",
       "     <g id=\"line2d_36\">\n",
       "      <g>\n",
       "       <use xlink:href=\"#m1922226dc6\" x=\"51.378125\" y=\"100.477703\" style=\"stroke: #000000; stroke-width: 0.8\"/>\n",
       "      </g>\n",
       "     </g>\n",
       "     <g id=\"text_8\">\n",
       "      <!-- $\\mathdefault{10^{0}}$ -->\n",
       "      <g transform=\"translate(26.778125 104.276922)scale(0.1 -0.1)\">\n",
       "       <use xlink:href=\"#DejaVuSans-31\" transform=\"translate(0 0.765625)\"/>\n",
       "       <use xlink:href=\"#DejaVuSans-30\" transform=\"translate(63.623047 0.765625)\"/>\n",
       "       <use xlink:href=\"#DejaVuSans-30\" transform=\"translate(128.203125 39.046875)scale(0.7)\"/>\n",
       "      </g>\n",
       "     </g>\n",
       "    </g>\n",
       "    <g id=\"ytick_5\">\n",
       "     <g id=\"line2d_37\">\n",
       "      <path d=\"M 51.378125 57.852434 \n",
       "L 704.716071 57.852434 \n",
       "\" clip-path=\"url(#pa40d6fc922)\" style=\"fill: none; stroke: #b0b0b0; stroke-width: 0.8; stroke-linecap: square\"/>\n",
       "     </g>\n",
       "     <g id=\"line2d_38\">\n",
       "      <g>\n",
       "       <use xlink:href=\"#m1922226dc6\" x=\"51.378125\" y=\"57.852434\" style=\"stroke: #000000; stroke-width: 0.8\"/>\n",
       "      </g>\n",
       "     </g>\n",
       "     <g id=\"text_9\">\n",
       "      <!-- $\\mathdefault{10^{1}}$ -->\n",
       "      <g transform=\"translate(26.778125 61.651653)scale(0.1 -0.1)\">\n",
       "       <use xlink:href=\"#DejaVuSans-31\" transform=\"translate(0 0.684375)\"/>\n",
       "       <use xlink:href=\"#DejaVuSans-30\" transform=\"translate(63.623047 0.684375)\"/>\n",
       "       <use xlink:href=\"#DejaVuSans-31\" transform=\"translate(128.203125 38.965625)scale(0.7)\"/>\n",
       "      </g>\n",
       "     </g>\n",
       "    </g>\n",
       "    <g id=\"ytick_6\">\n",
       "     <g id=\"line2d_39\">\n",
       "      <defs>\n",
       "       <path id=\"m1febc42317\" d=\"M 0 0 \n",
       "L -2 0 \n",
       "\" style=\"stroke: #000000; stroke-width: 0.6\"/>\n",
       "      </defs>\n",
       "      <g>\n",
       "       <use xlink:href=\"#m1febc42317\" x=\"51.378125\" y=\"237.809873\" style=\"stroke: #000000; stroke-width: 0.6\"/>\n",
       "      </g>\n",
       "     </g>\n",
       "    </g>\n",
       "    <g id=\"ytick_7\">\n",
       "     <g id=\"line2d_40\">\n",
       "      <g>\n",
       "       <use xlink:href=\"#m1febc42317\" x=\"51.378125\" y=\"234.956248\" style=\"stroke: #000000; stroke-width: 0.6\"/>\n",
       "      </g>\n",
       "     </g>\n",
       "    </g>\n",
       "    <g id=\"ytick_8\">\n",
       "     <g id=\"line2d_41\">\n",
       "      <g>\n",
       "       <use xlink:href=\"#m1febc42317\" x=\"51.378125\" y=\"232.484326\" style=\"stroke: #000000; stroke-width: 0.6\"/>\n",
       "      </g>\n",
       "     </g>\n",
       "    </g>\n",
       "    <g id=\"ytick_9\">\n",
       "     <g id=\"line2d_42\">\n",
       "      <g>\n",
       "       <use xlink:href=\"#m1febc42317\" x=\"51.378125\" y=\"230.303936\" style=\"stroke: #000000; stroke-width: 0.6\"/>\n",
       "      </g>\n",
       "     </g>\n",
       "    </g>\n",
       "    <g id=\"ytick_10\">\n",
       "     <g id=\"line2d_43\">\n",
       "      <g>\n",
       "       <use xlink:href=\"#m1febc42317\" x=\"51.378125\" y=\"215.522026\" style=\"stroke: #000000; stroke-width: 0.6\"/>\n",
       "      </g>\n",
       "     </g>\n",
       "    </g>\n",
       "    <g id=\"ytick_11\">\n",
       "     <g id=\"line2d_44\">\n",
       "      <g>\n",
       "       <use xlink:href=\"#m1febc42317\" x=\"51.378125\" y=\"208.016089\" style=\"stroke: #000000; stroke-width: 0.6\"/>\n",
       "      </g>\n",
       "     </g>\n",
       "    </g>\n",
       "    <g id=\"ytick_12\">\n",
       "     <g id=\"line2d_45\">\n",
       "      <g>\n",
       "       <use xlink:href=\"#m1febc42317\" x=\"51.378125\" y=\"202.690541\" style=\"stroke: #000000; stroke-width: 0.6\"/>\n",
       "      </g>\n",
       "     </g>\n",
       "    </g>\n",
       "    <g id=\"ytick_13\">\n",
       "     <g id=\"line2d_46\">\n",
       "      <g>\n",
       "       <use xlink:href=\"#m1febc42317\" x=\"51.378125\" y=\"198.559726\" style=\"stroke: #000000; stroke-width: 0.6\"/>\n",
       "      </g>\n",
       "     </g>\n",
       "    </g>\n",
       "    <g id=\"ytick_14\">\n",
       "     <g id=\"line2d_47\">\n",
       "      <g>\n",
       "       <use xlink:href=\"#m1febc42317\" x=\"51.378125\" y=\"195.184604\" style=\"stroke: #000000; stroke-width: 0.6\"/>\n",
       "      </g>\n",
       "     </g>\n",
       "    </g>\n",
       "    <g id=\"ytick_15\">\n",
       "     <g id=\"line2d_48\">\n",
       "      <g>\n",
       "       <use xlink:href=\"#m1febc42317\" x=\"51.378125\" y=\"192.330979\" style=\"stroke: #000000; stroke-width: 0.6\"/>\n",
       "      </g>\n",
       "     </g>\n",
       "    </g>\n",
       "    <g id=\"ytick_16\">\n",
       "     <g id=\"line2d_49\">\n",
       "      <g>\n",
       "       <use xlink:href=\"#m1febc42317\" x=\"51.378125\" y=\"189.859057\" style=\"stroke: #000000; stroke-width: 0.6\"/>\n",
       "      </g>\n",
       "     </g>\n",
       "    </g>\n",
       "    <g id=\"ytick_17\">\n",
       "     <g id=\"line2d_50\">\n",
       "      <g>\n",
       "       <use xlink:href=\"#m1febc42317\" x=\"51.378125\" y=\"187.678667\" style=\"stroke: #000000; stroke-width: 0.6\"/>\n",
       "      </g>\n",
       "     </g>\n",
       "    </g>\n",
       "    <g id=\"ytick_18\">\n",
       "     <g id=\"line2d_51\">\n",
       "      <g>\n",
       "       <use xlink:href=\"#m1febc42317\" x=\"51.378125\" y=\"172.896757\" style=\"stroke: #000000; stroke-width: 0.6\"/>\n",
       "      </g>\n",
       "     </g>\n",
       "    </g>\n",
       "    <g id=\"ytick_19\">\n",
       "     <g id=\"line2d_52\">\n",
       "      <g>\n",
       "       <use xlink:href=\"#m1febc42317\" x=\"51.378125\" y=\"165.390819\" style=\"stroke: #000000; stroke-width: 0.6\"/>\n",
       "      </g>\n",
       "     </g>\n",
       "    </g>\n",
       "    <g id=\"ytick_20\">\n",
       "     <g id=\"line2d_53\">\n",
       "      <g>\n",
       "       <use xlink:href=\"#m1febc42317\" x=\"51.378125\" y=\"160.065272\" style=\"stroke: #000000; stroke-width: 0.6\"/>\n",
       "      </g>\n",
       "     </g>\n",
       "    </g>\n",
       "    <g id=\"ytick_21\">\n",
       "     <g id=\"line2d_54\">\n",
       "      <g>\n",
       "       <use xlink:href=\"#m1febc42317\" x=\"51.378125\" y=\"155.934457\" style=\"stroke: #000000; stroke-width: 0.6\"/>\n",
       "      </g>\n",
       "     </g>\n",
       "    </g>\n",
       "    <g id=\"ytick_22\">\n",
       "     <g id=\"line2d_55\">\n",
       "      <g>\n",
       "       <use xlink:href=\"#m1febc42317\" x=\"51.378125\" y=\"152.559335\" style=\"stroke: #000000; stroke-width: 0.6\"/>\n",
       "      </g>\n",
       "     </g>\n",
       "    </g>\n",
       "    <g id=\"ytick_23\">\n",
       "     <g id=\"line2d_56\">\n",
       "      <g>\n",
       "       <use xlink:href=\"#m1febc42317\" x=\"51.378125\" y=\"149.70571\" style=\"stroke: #000000; stroke-width: 0.6\"/>\n",
       "      </g>\n",
       "     </g>\n",
       "    </g>\n",
       "    <g id=\"ytick_24\">\n",
       "     <g id=\"line2d_57\">\n",
       "      <g>\n",
       "       <use xlink:href=\"#m1febc42317\" x=\"51.378125\" y=\"147.233788\" style=\"stroke: #000000; stroke-width: 0.6\"/>\n",
       "      </g>\n",
       "     </g>\n",
       "    </g>\n",
       "    <g id=\"ytick_25\">\n",
       "     <g id=\"line2d_58\">\n",
       "      <g>\n",
       "       <use xlink:href=\"#m1febc42317\" x=\"51.378125\" y=\"145.053398\" style=\"stroke: #000000; stroke-width: 0.6\"/>\n",
       "      </g>\n",
       "     </g>\n",
       "    </g>\n",
       "    <g id=\"ytick_26\">\n",
       "     <g id=\"line2d_59\">\n",
       "      <g>\n",
       "       <use xlink:href=\"#m1febc42317\" x=\"51.378125\" y=\"130.271488\" style=\"stroke: #000000; stroke-width: 0.6\"/>\n",
       "      </g>\n",
       "     </g>\n",
       "    </g>\n",
       "    <g id=\"ytick_27\">\n",
       "     <g id=\"line2d_60\">\n",
       "      <g>\n",
       "       <use xlink:href=\"#m1febc42317\" x=\"51.378125\" y=\"122.76555\" style=\"stroke: #000000; stroke-width: 0.6\"/>\n",
       "      </g>\n",
       "     </g>\n",
       "    </g>\n",
       "    <g id=\"ytick_28\">\n",
       "     <g id=\"line2d_61\">\n",
       "      <g>\n",
       "       <use xlink:href=\"#m1febc42317\" x=\"51.378125\" y=\"117.440003\" style=\"stroke: #000000; stroke-width: 0.6\"/>\n",
       "      </g>\n",
       "     </g>\n",
       "    </g>\n",
       "    <g id=\"ytick_29\">\n",
       "     <g id=\"line2d_62\">\n",
       "      <g>\n",
       "       <use xlink:href=\"#m1febc42317\" x=\"51.378125\" y=\"113.309188\" style=\"stroke: #000000; stroke-width: 0.6\"/>\n",
       "      </g>\n",
       "     </g>\n",
       "    </g>\n",
       "    <g id=\"ytick_30\">\n",
       "     <g id=\"line2d_63\">\n",
       "      <g>\n",
       "       <use xlink:href=\"#m1febc42317\" x=\"51.378125\" y=\"109.934066\" style=\"stroke: #000000; stroke-width: 0.6\"/>\n",
       "      </g>\n",
       "     </g>\n",
       "    </g>\n",
       "    <g id=\"ytick_31\">\n",
       "     <g id=\"line2d_64\">\n",
       "      <g>\n",
       "       <use xlink:href=\"#m1febc42317\" x=\"51.378125\" y=\"107.080441\" style=\"stroke: #000000; stroke-width: 0.6\"/>\n",
       "      </g>\n",
       "     </g>\n",
       "    </g>\n",
       "    <g id=\"ytick_32\">\n",
       "     <g id=\"line2d_65\">\n",
       "      <g>\n",
       "       <use xlink:href=\"#m1febc42317\" x=\"51.378125\" y=\"104.608518\" style=\"stroke: #000000; stroke-width: 0.6\"/>\n",
       "      </g>\n",
       "     </g>\n",
       "    </g>\n",
       "    <g id=\"ytick_33\">\n",
       "     <g id=\"line2d_66\">\n",
       "      <g>\n",
       "       <use xlink:href=\"#m1febc42317\" x=\"51.378125\" y=\"102.428128\" style=\"stroke: #000000; stroke-width: 0.6\"/>\n",
       "      </g>\n",
       "     </g>\n",
       "    </g>\n",
       "    <g id=\"ytick_34\">\n",
       "     <g id=\"line2d_67\">\n",
       "      <g>\n",
       "       <use xlink:href=\"#m1febc42317\" x=\"51.378125\" y=\"87.646218\" style=\"stroke: #000000; stroke-width: 0.6\"/>\n",
       "      </g>\n",
       "     </g>\n",
       "    </g>\n",
       "    <g id=\"ytick_35\">\n",
       "     <g id=\"line2d_68\">\n",
       "      <g>\n",
       "       <use xlink:href=\"#m1febc42317\" x=\"51.378125\" y=\"80.140281\" style=\"stroke: #000000; stroke-width: 0.6\"/>\n",
       "      </g>\n",
       "     </g>\n",
       "    </g>\n",
       "    <g id=\"ytick_36\">\n",
       "     <g id=\"line2d_69\">\n",
       "      <g>\n",
       "       <use xlink:href=\"#m1febc42317\" x=\"51.378125\" y=\"74.814734\" style=\"stroke: #000000; stroke-width: 0.6\"/>\n",
       "      </g>\n",
       "     </g>\n",
       "    </g>\n",
       "    <g id=\"ytick_37\">\n",
       "     <g id=\"line2d_70\">\n",
       "      <g>\n",
       "       <use xlink:href=\"#m1febc42317\" x=\"51.378125\" y=\"70.683918\" style=\"stroke: #000000; stroke-width: 0.6\"/>\n",
       "      </g>\n",
       "     </g>\n",
       "    </g>\n",
       "    <g id=\"ytick_38\">\n",
       "     <g id=\"line2d_71\">\n",
       "      <g>\n",
       "       <use xlink:href=\"#m1febc42317\" x=\"51.378125\" y=\"67.308797\" style=\"stroke: #000000; stroke-width: 0.6\"/>\n",
       "      </g>\n",
       "     </g>\n",
       "    </g>\n",
       "    <g id=\"ytick_39\">\n",
       "     <g id=\"line2d_72\">\n",
       "      <g>\n",
       "       <use xlink:href=\"#m1febc42317\" x=\"51.378125\" y=\"64.455172\" style=\"stroke: #000000; stroke-width: 0.6\"/>\n",
       "      </g>\n",
       "     </g>\n",
       "    </g>\n",
       "    <g id=\"ytick_40\">\n",
       "     <g id=\"line2d_73\">\n",
       "      <g>\n",
       "       <use xlink:href=\"#m1febc42317\" x=\"51.378125\" y=\"61.983249\" style=\"stroke: #000000; stroke-width: 0.6\"/>\n",
       "      </g>\n",
       "     </g>\n",
       "    </g>\n",
       "    <g id=\"ytick_41\">\n",
       "     <g id=\"line2d_74\">\n",
       "      <g>\n",
       "       <use xlink:href=\"#m1febc42317\" x=\"51.378125\" y=\"59.802859\" style=\"stroke: #000000; stroke-width: 0.6\"/>\n",
       "      </g>\n",
       "     </g>\n",
       "    </g>\n",
       "    <g id=\"ytick_42\">\n",
       "     <g id=\"line2d_75\">\n",
       "      <g>\n",
       "       <use xlink:href=\"#m1febc42317\" x=\"51.378125\" y=\"45.020949\" style=\"stroke: #000000; stroke-width: 0.6\"/>\n",
       "      </g>\n",
       "     </g>\n",
       "    </g>\n",
       "    <g id=\"ytick_43\">\n",
       "     <g id=\"line2d_76\">\n",
       "      <g>\n",
       "       <use xlink:href=\"#m1febc42317\" x=\"51.378125\" y=\"37.515012\" style=\"stroke: #000000; stroke-width: 0.6\"/>\n",
       "      </g>\n",
       "     </g>\n",
       "    </g>\n",
       "    <g id=\"ytick_44\">\n",
       "     <g id=\"line2d_77\">\n",
       "      <g>\n",
       "       <use xlink:href=\"#m1febc42317\" x=\"51.378125\" y=\"32.189465\" style=\"stroke: #000000; stroke-width: 0.6\"/>\n",
       "      </g>\n",
       "     </g>\n",
       "    </g>\n",
       "    <g id=\"ytick_45\">\n",
       "     <g id=\"line2d_78\">\n",
       "      <g>\n",
       "       <use xlink:href=\"#m1febc42317\" x=\"51.378125\" y=\"28.058649\" style=\"stroke: #000000; stroke-width: 0.6\"/>\n",
       "      </g>\n",
       "     </g>\n",
       "    </g>\n",
       "    <g id=\"ytick_46\">\n",
       "     <g id=\"line2d_79\">\n",
       "      <g>\n",
       "       <use xlink:href=\"#m1febc42317\" x=\"51.378125\" y=\"24.683527\" style=\"stroke: #000000; stroke-width: 0.6\"/>\n",
       "      </g>\n",
       "     </g>\n",
       "    </g>\n",
       "    <g id=\"text_10\">\n",
       "     <!-- Время, с. -->\n",
       "     <g transform=\"translate(14.798438 154.219469)rotate(-90)scale(0.1 -0.1)\">\n",
       "      <defs>\n",
       "       <path id=\"DejaVuSans-412\" d=\"M 1259 2228 \n",
       "L 1259 519 \n",
       "L 2272 519 \n",
       "Q 2781 519 3026 730 \n",
       "Q 3272 941 3272 1375 \n",
       "Q 3272 1813 3026 2020 \n",
       "Q 2781 2228 2272 2228 \n",
       "L 1259 2228 \n",
       "z\n",
       "M 1259 4147 \n",
       "L 1259 2741 \n",
       "L 2194 2741 \n",
       "Q 2656 2741 2882 2914 \n",
       "Q 3109 3088 3109 3444 \n",
       "Q 3109 3797 2882 3972 \n",
       "Q 2656 4147 2194 4147 \n",
       "L 1259 4147 \n",
       "z\n",
       "M 628 4666 \n",
       "L 2241 4666 \n",
       "Q 2963 4666 3353 4366 \n",
       "Q 3744 4066 3744 3513 \n",
       "Q 3744 3084 3544 2831 \n",
       "Q 3344 2578 2956 2516 \n",
       "Q 3422 2416 3680 2098 \n",
       "Q 3938 1781 3938 1306 \n",
       "Q 3938 681 3513 340 \n",
       "Q 3088 0 2303 0 \n",
       "L 628 0 \n",
       "L 628 4666 \n",
       "z\n",
       "\" transform=\"scale(0.015625)\"/>\n",
       "       <path id=\"DejaVuSans-440\" d=\"M 1159 525 \n",
       "L 1159 -1331 \n",
       "L 581 -1331 \n",
       "L 581 3500 \n",
       "L 1159 3500 \n",
       "L 1159 2969 \n",
       "Q 1341 3281 1617 3432 \n",
       "Q 1894 3584 2278 3584 \n",
       "Q 2916 3584 3314 3078 \n",
       "Q 3713 2572 3713 1747 \n",
       "Q 3713 922 3314 415 \n",
       "Q 2916 -91 2278 -91 \n",
       "Q 1894 -91 1617 61 \n",
       "Q 1341 213 1159 525 \n",
       "z\n",
       "M 3116 1747 \n",
       "Q 3116 2381 2855 2742 \n",
       "Q 2594 3103 2138 3103 \n",
       "Q 1681 3103 1420 2742 \n",
       "Q 1159 2381 1159 1747 \n",
       "Q 1159 1113 1420 752 \n",
       "Q 1681 391 2138 391 \n",
       "Q 2594 391 2855 752 \n",
       "Q 3116 1113 3116 1747 \n",
       "z\n",
       "\" transform=\"scale(0.015625)\"/>\n",
       "       <path id=\"DejaVuSans-435\" d=\"M 3597 1894 \n",
       "L 3597 1613 \n",
       "L 953 1613 \n",
       "Q 991 1019 1311 708 \n",
       "Q 1631 397 2203 397 \n",
       "Q 2534 397 2845 478 \n",
       "Q 3156 559 3463 722 \n",
       "L 3463 178 \n",
       "Q 3153 47 2828 -22 \n",
       "Q 2503 -91 2169 -91 \n",
       "Q 1331 -91 842 396 \n",
       "Q 353 884 353 1716 \n",
       "Q 353 2575 817 3079 \n",
       "Q 1281 3584 2069 3584 \n",
       "Q 2775 3584 3186 3129 \n",
       "Q 3597 2675 3597 1894 \n",
       "z\n",
       "M 3022 2063 \n",
       "Q 3016 2534 2758 2815 \n",
       "Q 2500 3097 2075 3097 \n",
       "Q 1594 3097 1305 2825 \n",
       "Q 1016 2553 972 2059 \n",
       "L 3022 2063 \n",
       "z\n",
       "\" transform=\"scale(0.015625)\"/>\n",
       "       <path id=\"DejaVuSans-43c\" d=\"M 581 3500 \n",
       "L 1422 3500 \n",
       "L 2416 1156 \n",
       "L 3413 3500 \n",
       "L 4247 3500 \n",
       "L 4247 0 \n",
       "L 3669 0 \n",
       "L 3669 2950 \n",
       "L 2703 672 \n",
       "L 2128 672 \n",
       "L 1159 2950 \n",
       "L 1159 0 \n",
       "L 581 0 \n",
       "L 581 3500 \n",
       "z\n",
       "\" transform=\"scale(0.015625)\"/>\n",
       "       <path id=\"DejaVuSans-44f\" d=\"M 1181 2491 \n",
       "Q 1181 2231 1381 2084 \n",
       "Q 1581 1938 1953 1938 \n",
       "L 2728 1938 \n",
       "L 2728 3041 \n",
       "L 1953 3041 \n",
       "Q 1581 3041 1381 2897 \n",
       "Q 1181 2753 1181 2491 \n",
       "z\n",
       "M 363 0 \n",
       "L 1431 1534 \n",
       "Q 1069 1616 828 1830 \n",
       "Q 588 2044 588 2491 \n",
       "Q 588 2997 923 3248 \n",
       "Q 1259 3500 1938 3500 \n",
       "L 3306 3500 \n",
       "L 3306 0 \n",
       "L 2728 0 \n",
       "L 2728 1478 \n",
       "L 2013 1478 \n",
       "L 981 0 \n",
       "L 363 0 \n",
       "z\n",
       "\" transform=\"scale(0.015625)\"/>\n",
       "       <path id=\"DejaVuSans-2c\" d=\"M 750 794 \n",
       "L 1409 794 \n",
       "L 1409 256 \n",
       "L 897 -744 \n",
       "L 494 -744 \n",
       "L 750 256 \n",
       "L 750 794 \n",
       "z\n",
       "\" transform=\"scale(0.015625)\"/>\n",
       "       <path id=\"DejaVuSans-20\" transform=\"scale(0.015625)\"/>\n",
       "       <path id=\"DejaVuSans-441\" d=\"M 3122 3366 \n",
       "L 3122 2828 \n",
       "Q 2878 2963 2633 3030 \n",
       "Q 2388 3097 2138 3097 \n",
       "Q 1578 3097 1268 2742 \n",
       "Q 959 2388 959 1747 \n",
       "Q 959 1106 1268 751 \n",
       "Q 1578 397 2138 397 \n",
       "Q 2388 397 2633 464 \n",
       "Q 2878 531 3122 666 \n",
       "L 3122 134 \n",
       "Q 2881 22 2623 -34 \n",
       "Q 2366 -91 2075 -91 \n",
       "Q 1284 -91 818 406 \n",
       "Q 353 903 353 1747 \n",
       "Q 353 2603 823 3093 \n",
       "Q 1294 3584 2113 3584 \n",
       "Q 2378 3584 2631 3529 \n",
       "Q 2884 3475 3122 3366 \n",
       "z\n",
       "\" transform=\"scale(0.015625)\"/>\n",
       "       <path id=\"DejaVuSans-2e\" d=\"M 684 794 \n",
       "L 1344 794 \n",
       "L 1344 0 \n",
       "L 684 0 \n",
       "L 684 794 \n",
       "z\n",
       "\" transform=\"scale(0.015625)\"/>\n",
       "      </defs>\n",
       "      <use xlink:href=\"#DejaVuSans-412\"/>\n",
       "      <use xlink:href=\"#DejaVuSans-440\" x=\"68.603516\"/>\n",
       "      <use xlink:href=\"#DejaVuSans-435\" x=\"132.080078\"/>\n",
       "      <use xlink:href=\"#DejaVuSans-43c\" x=\"193.603516\"/>\n",
       "      <use xlink:href=\"#DejaVuSans-44f\" x=\"269.042969\"/>\n",
       "      <use xlink:href=\"#DejaVuSans-2c\" x=\"329.199219\"/>\n",
       "      <use xlink:href=\"#DejaVuSans-20\" x=\"360.986328\"/>\n",
       "      <use xlink:href=\"#DejaVuSans-441\" x=\"392.773438\"/>\n",
       "      <use xlink:href=\"#DejaVuSans-2e\" x=\"447.753906\"/>\n",
       "     </g>\n",
       "    </g>\n",
       "   </g>\n",
       "   <g id=\"line2d_80\">\n",
       "    <path d=\"M 328.679514 276.722375 \n",
       "L 328.764398 228.341615 \n",
       "L 403.326245 228.350439 \n",
       "L 427.329798 215.523368 \n",
       "L 501.891645 189.859295 \n",
       "L 576.453492 164.196602 \n",
       "L 651.015338 139.270685 \n",
       "L 675.018892 130.835414 \n",
       "\" clip-path=\"url(#pa40d6fc922)\" style=\"fill: none; stroke: #1f77b4; stroke-width: 1.5; stroke-linecap: square\"/>\n",
       "   </g>\n",
       "   <g id=\"line2d_81\">\n",
       "    <path d=\"M 254.11769 276.722375 \n",
       "L 254.202551 228.354852 \n",
       "L 328.764398 215.532198 \n",
       "L 403.326245 187.677556 \n",
       "L 427.329798 177.026431 \n",
       "L 501.891645 152.252589 \n",
       "L 576.453492 124.922917 \n",
       "L 651.015338 97.938787 \n",
       "L 675.018892 88.781811 \n",
       "\" clip-path=\"url(#pa40d6fc922)\" style=\"fill: none; stroke: #ff7f0e; stroke-width: 1.5; stroke-linecap: square\"/>\n",
       "   </g>\n",
       "   <g id=\"line2d_82\">\n",
       "    <path d=\"M 81.075304 228.288762 \n",
       "L 155.637151 208.033622 \n",
       "L 179.640704 202.692987 \n",
       "L 254.202551 178.222175 \n",
       "L 328.764398 151.364565 \n",
       "L 403.326245 125.701596 \n",
       "L 427.329798 117.766824 \n",
       "L 501.891645 92.198347 \n",
       "L 576.453492 66.030165 \n",
       "L 651.015338 40.322824 \n",
       "L 675.018892 32.129398 \n",
       "\" clip-path=\"url(#pa40d6fc922)\" style=\"fill: none; stroke: #2ca02c; stroke-width: 1.5; stroke-linecap: square\"/>\n",
       "   </g>\n",
       "   <g id=\"patch_3\">\n",
       "    <path d=\"M 51.378125 238.166125 \n",
       "L 51.378125 22.318125 \n",
       "\" style=\"fill: none; stroke: #000000; stroke-width: 0.8; stroke-linejoin: miter; stroke-linecap: square\"/>\n",
       "   </g>\n",
       "   <g id=\"patch_4\">\n",
       "    <path d=\"M 704.716071 238.166125 \n",
       "L 704.716071 22.318125 \n",
       "\" style=\"fill: none; stroke: #000000; stroke-width: 0.8; stroke-linejoin: miter; stroke-linecap: square\"/>\n",
       "   </g>\n",
       "   <g id=\"patch_5\">\n",
       "    <path d=\"M 51.378125 238.166125 \n",
       "L 704.716071 238.166125 \n",
       "\" style=\"fill: none; stroke: #000000; stroke-width: 0.8; stroke-linejoin: miter; stroke-linecap: square\"/>\n",
       "   </g>\n",
       "   <g id=\"patch_6\">\n",
       "    <path d=\"M 51.378125 22.318125 \n",
       "L 704.716071 22.318125 \n",
       "\" style=\"fill: none; stroke: #000000; stroke-width: 0.8; stroke-linejoin: miter; stroke-linecap: square\"/>\n",
       "   </g>\n",
       "   <g id=\"text_11\">\n",
       "    <!-- Сравнение скорости реализаций для задачи replace_zeros_to_means -->\n",
       "    <g transform=\"translate(160.713036 16.318125)scale(0.12 -0.12)\">\n",
       "     <defs>\n",
       "      <path id=\"DejaVuSans-421\" d=\"M 4122 4306 \n",
       "L 4122 3641 \n",
       "Q 3803 3938 3442 4084 \n",
       "Q 3081 4231 2675 4231 \n",
       "Q 1875 4231 1450 3742 \n",
       "Q 1025 3253 1025 2328 \n",
       "Q 1025 1406 1450 917 \n",
       "Q 1875 428 2675 428 \n",
       "Q 3081 428 3442 575 \n",
       "Q 3803 722 4122 1019 \n",
       "L 4122 359 \n",
       "Q 3791 134 3420 21 \n",
       "Q 3050 -91 2638 -91 \n",
       "Q 1578 -91 968 557 \n",
       "Q 359 1206 359 2328 \n",
       "Q 359 3453 968 4101 \n",
       "Q 1578 4750 2638 4750 \n",
       "Q 3056 4750 3426 4639 \n",
       "Q 3797 4528 4122 4306 \n",
       "z\n",
       "\" transform=\"scale(0.015625)\"/>\n",
       "      <path id=\"DejaVuSans-430\" d=\"M 2194 1759 \n",
       "Q 1497 1759 1228 1600 \n",
       "Q 959 1441 959 1056 \n",
       "Q 959 750 1161 570 \n",
       "Q 1363 391 1709 391 \n",
       "Q 2188 391 2477 730 \n",
       "Q 2766 1069 2766 1631 \n",
       "L 2766 1759 \n",
       "L 2194 1759 \n",
       "z\n",
       "M 3341 1997 \n",
       "L 3341 0 \n",
       "L 2766 0 \n",
       "L 2766 531 \n",
       "Q 2569 213 2275 61 \n",
       "Q 1981 -91 1556 -91 \n",
       "Q 1019 -91 701 211 \n",
       "Q 384 513 384 1019 \n",
       "Q 384 1609 779 1909 \n",
       "Q 1175 2209 1959 2209 \n",
       "L 2766 2209 \n",
       "L 2766 2266 \n",
       "Q 2766 2663 2505 2880 \n",
       "Q 2244 3097 1772 3097 \n",
       "Q 1472 3097 1187 3025 \n",
       "Q 903 2953 641 2809 \n",
       "L 641 3341 \n",
       "Q 956 3463 1253 3523 \n",
       "Q 1550 3584 1831 3584 \n",
       "Q 2591 3584 2966 3190 \n",
       "Q 3341 2797 3341 1997 \n",
       "z\n",
       "\" transform=\"scale(0.015625)\"/>\n",
       "      <path id=\"DejaVuSans-432\" d=\"M 1156 1613 \n",
       "L 1156 459 \n",
       "L 1975 459 \n",
       "Q 2369 459 2575 607 \n",
       "Q 2781 756 2781 1038 \n",
       "Q 2781 1319 2575 1466 \n",
       "Q 2369 1613 1975 1613 \n",
       "L 1156 1613 \n",
       "z\n",
       "M 1156 3041 \n",
       "L 1156 2072 \n",
       "L 1913 2072 \n",
       "Q 2238 2072 2444 2201 \n",
       "Q 2650 2331 2650 2563 \n",
       "Q 2650 2794 2444 2917 \n",
       "Q 2238 3041 1913 3041 \n",
       "L 1156 3041 \n",
       "z\n",
       "M 581 3500 \n",
       "L 1950 3500 \n",
       "Q 2566 3500 2897 3275 \n",
       "Q 3228 3050 3228 2634 \n",
       "Q 3228 2313 3059 2123 \n",
       "Q 2891 1934 2559 1888 \n",
       "Q 2956 1813 3175 1575 \n",
       "Q 3394 1338 3394 981 \n",
       "Q 3394 513 3033 256 \n",
       "Q 2672 0 2003 0 \n",
       "L 581 0 \n",
       "L 581 3500 \n",
       "z\n",
       "\" transform=\"scale(0.015625)\"/>\n",
       "      <path id=\"DejaVuSans-43d\" d=\"M 581 3500 \n",
       "L 1159 3500 \n",
       "L 1159 2072 \n",
       "L 3025 2072 \n",
       "L 3025 3500 \n",
       "L 3603 3500 \n",
       "L 3603 0 \n",
       "L 3025 0 \n",
       "L 3025 1613 \n",
       "L 1159 1613 \n",
       "L 1159 0 \n",
       "L 581 0 \n",
       "L 581 3500 \n",
       "z\n",
       "\" transform=\"scale(0.015625)\"/>\n",
       "      <path id=\"DejaVuSans-438\" d=\"M 3578 3500 \n",
       "L 3578 0 \n",
       "L 3006 0 \n",
       "L 3006 2809 \n",
       "L 1319 0 \n",
       "L 581 0 \n",
       "L 581 3500 \n",
       "L 1153 3500 \n",
       "L 1153 697 \n",
       "L 2838 3500 \n",
       "L 3578 3500 \n",
       "z\n",
       "\" transform=\"scale(0.015625)\"/>\n",
       "      <path id=\"DejaVuSans-43a\" d=\"M 581 3500 \n",
       "L 1153 3500 \n",
       "L 1153 1856 \n",
       "L 2775 3500 \n",
       "L 3481 3500 \n",
       "L 2144 2147 \n",
       "L 3653 0 \n",
       "L 3009 0 \n",
       "L 1769 1766 \n",
       "L 1153 1141 \n",
       "L 1153 0 \n",
       "L 581 0 \n",
       "L 581 3500 \n",
       "z\n",
       "\" transform=\"scale(0.015625)\"/>\n",
       "      <path id=\"DejaVuSans-43e\" d=\"M 1959 3097 \n",
       "Q 1497 3097 1228 2736 \n",
       "Q 959 2375 959 1747 \n",
       "Q 959 1119 1226 758 \n",
       "Q 1494 397 1959 397 \n",
       "Q 2419 397 2687 759 \n",
       "Q 2956 1122 2956 1747 \n",
       "Q 2956 2369 2687 2733 \n",
       "Q 2419 3097 1959 3097 \n",
       "z\n",
       "M 1959 3584 \n",
       "Q 2709 3584 3137 3096 \n",
       "Q 3566 2609 3566 1747 \n",
       "Q 3566 888 3137 398 \n",
       "Q 2709 -91 1959 -91 \n",
       "Q 1206 -91 779 398 \n",
       "Q 353 888 353 1747 \n",
       "Q 353 2609 779 3096 \n",
       "Q 1206 3584 1959 3584 \n",
       "z\n",
       "\" transform=\"scale(0.015625)\"/>\n",
       "      <path id=\"DejaVuSans-442\" d=\"M 188 3500 \n",
       "L 3541 3500 \n",
       "L 3541 3041 \n",
       "L 2147 3041 \n",
       "L 2147 0 \n",
       "L 1581 0 \n",
       "L 1581 3041 \n",
       "L 188 3041 \n",
       "L 188 3500 \n",
       "z\n",
       "\" transform=\"scale(0.015625)\"/>\n",
       "      <path id=\"DejaVuSans-43b\" d=\"M 238 0 \n",
       "L 238 478 \n",
       "Q 806 566 981 959 \n",
       "Q 1194 1513 1194 2928 \n",
       "L 1194 3500 \n",
       "L 3559 3500 \n",
       "L 3559 0 \n",
       "L 2984 0 \n",
       "L 2984 3041 \n",
       "L 1769 3041 \n",
       "L 1769 2694 \n",
       "Q 1769 1344 1494 738 \n",
       "Q 1200 91 238 0 \n",
       "z\n",
       "\" transform=\"scale(0.015625)\"/>\n",
       "      <path id=\"DejaVuSans-437\" d=\"M 2206 1888 \n",
       "Q 2594 1813 2809 1584 \n",
       "Q 3025 1356 3025 1019 \n",
       "Q 3025 478 2622 193 \n",
       "Q 2219 -91 1475 -91 \n",
       "Q 1225 -91 961 -47 \n",
       "Q 697 -3 416 84 \n",
       "L 416 619 \n",
       "Q 638 503 903 445 \n",
       "Q 1169 388 1459 388 \n",
       "Q 1931 388 2195 563 \n",
       "Q 2459 738 2459 1019 \n",
       "Q 2459 1294 2225 1461 \n",
       "Q 1991 1628 1563 1628 \n",
       "L 1100 1628 \n",
       "L 1100 2103 \n",
       "L 1584 2103 \n",
       "Q 1947 2103 2158 2242 \n",
       "Q 2369 2381 2369 2600 \n",
       "Q 2369 2800 2151 2944 \n",
       "Q 1934 3088 1563 3088 \n",
       "Q 1341 3088 1089 3047 \n",
       "Q 838 3006 534 2916 \n",
       "L 534 3438 \n",
       "Q 841 3513 1106 3550 \n",
       "Q 1372 3588 1609 3588 \n",
       "Q 2222 3588 2576 3342 \n",
       "Q 2931 3097 2931 2656 \n",
       "Q 2931 2366 2743 2164 \n",
       "Q 2556 1963 2206 1888 \n",
       "z\n",
       "\" transform=\"scale(0.015625)\"/>\n",
       "      <path id=\"DejaVuSans-446\" d=\"M 3603 0 \n",
       "L 581 0 \n",
       "L 581 3500 \n",
       "L 1159 3500 \n",
       "L 1159 459 \n",
       "L 3025 459 \n",
       "L 3025 3500 \n",
       "L 3603 3500 \n",
       "L 3603 459 \n",
       "L 4063 459 \n",
       "L 4063 -884 \n",
       "L 3603 -884 \n",
       "L 3603 0 \n",
       "z\n",
       "\" transform=\"scale(0.015625)\"/>\n",
       "      <path id=\"DejaVuSans-439\" d=\"M 3578 3500 \n",
       "L 3578 0 \n",
       "L 3006 0 \n",
       "L 3006 2809 \n",
       "L 1319 0 \n",
       "L 581 0 \n",
       "L 581 3500 \n",
       "L 1153 3500 \n",
       "L 1153 697 \n",
       "L 2838 3500 \n",
       "L 3578 3500 \n",
       "z\n",
       "M 1102 4833 \n",
       "L 1471 4833 \n",
       "Q 1505 4599 1656 4481 \n",
       "Q 1808 4364 2080 4364 \n",
       "Q 2349 4364 2499 4480 \n",
       "Q 2649 4596 2689 4833 \n",
       "L 3058 4833 \n",
       "Q 3027 4386 2780 4161 \n",
       "Q 2533 3936 2080 3936 \n",
       "Q 1627 3936 1380 4161 \n",
       "Q 1133 4386 1102 4833 \n",
       "z\n",
       "\" transform=\"scale(0.015625)\"/>\n",
       "      <path id=\"DejaVuSans-434\" d=\"M 1384 459 \n",
       "L 3053 459 \n",
       "L 3053 3041 \n",
       "L 1844 3041 \n",
       "L 1844 2603 \n",
       "Q 1844 1316 1475 628 \n",
       "L 1384 459 \n",
       "z\n",
       "M 550 459 \n",
       "Q 834 584 959 850 \n",
       "Q 1266 1509 1266 2838 \n",
       "L 1266 3500 \n",
       "L 3631 3500 \n",
       "L 3631 459 \n",
       "L 4091 459 \n",
       "L 4091 -884 \n",
       "L 3631 -884 \n",
       "L 3631 0 \n",
       "L 794 0 \n",
       "L 794 -884 \n",
       "L 334 -884 \n",
       "L 334 459 \n",
       "L 550 459 \n",
       "z\n",
       "\" transform=\"scale(0.015625)\"/>\n",
       "      <path id=\"DejaVuSans-447\" d=\"M 2625 0 \n",
       "L 2625 1472 \n",
       "L 1553 1472 \n",
       "Q 1075 1472 756 1769 \n",
       "Q 469 2038 469 2613 \n",
       "L 469 3500 \n",
       "L 1044 3500 \n",
       "L 1044 2666 \n",
       "Q 1044 2300 1206 2116 \n",
       "Q 1372 1931 1697 1931 \n",
       "L 2625 1931 \n",
       "L 2625 3500 \n",
       "L 3200 3500 \n",
       "L 3200 0 \n",
       "L 2625 0 \n",
       "z\n",
       "\" transform=\"scale(0.015625)\"/>\n",
       "      <path id=\"DejaVuSans-72\" d=\"M 2631 2963 \n",
       "Q 2534 3019 2420 3045 \n",
       "Q 2306 3072 2169 3072 \n",
       "Q 1681 3072 1420 2755 \n",
       "Q 1159 2438 1159 1844 \n",
       "L 1159 0 \n",
       "L 581 0 \n",
       "L 581 3500 \n",
       "L 1159 3500 \n",
       "L 1159 2956 \n",
       "Q 1341 3275 1631 3429 \n",
       "Q 1922 3584 2338 3584 \n",
       "Q 2397 3584 2469 3576 \n",
       "Q 2541 3569 2628 3553 \n",
       "L 2631 2963 \n",
       "z\n",
       "\" transform=\"scale(0.015625)\"/>\n",
       "      <path id=\"DejaVuSans-65\" d=\"M 3597 1894 \n",
       "L 3597 1613 \n",
       "L 953 1613 \n",
       "Q 991 1019 1311 708 \n",
       "Q 1631 397 2203 397 \n",
       "Q 2534 397 2845 478 \n",
       "Q 3156 559 3463 722 \n",
       "L 3463 178 \n",
       "Q 3153 47 2828 -22 \n",
       "Q 2503 -91 2169 -91 \n",
       "Q 1331 -91 842 396 \n",
       "Q 353 884 353 1716 \n",
       "Q 353 2575 817 3079 \n",
       "Q 1281 3584 2069 3584 \n",
       "Q 2775 3584 3186 3129 \n",
       "Q 3597 2675 3597 1894 \n",
       "z\n",
       "M 3022 2063 \n",
       "Q 3016 2534 2758 2815 \n",
       "Q 2500 3097 2075 3097 \n",
       "Q 1594 3097 1305 2825 \n",
       "Q 1016 2553 972 2059 \n",
       "L 3022 2063 \n",
       "z\n",
       "\" transform=\"scale(0.015625)\"/>\n",
       "      <path id=\"DejaVuSans-70\" d=\"M 1159 525 \n",
       "L 1159 -1331 \n",
       "L 581 -1331 \n",
       "L 581 3500 \n",
       "L 1159 3500 \n",
       "L 1159 2969 \n",
       "Q 1341 3281 1617 3432 \n",
       "Q 1894 3584 2278 3584 \n",
       "Q 2916 3584 3314 3078 \n",
       "Q 3713 2572 3713 1747 \n",
       "Q 3713 922 3314 415 \n",
       "Q 2916 -91 2278 -91 \n",
       "Q 1894 -91 1617 61 \n",
       "Q 1341 213 1159 525 \n",
       "z\n",
       "M 3116 1747 \n",
       "Q 3116 2381 2855 2742 \n",
       "Q 2594 3103 2138 3103 \n",
       "Q 1681 3103 1420 2742 \n",
       "Q 1159 2381 1159 1747 \n",
       "Q 1159 1113 1420 752 \n",
       "Q 1681 391 2138 391 \n",
       "Q 2594 391 2855 752 \n",
       "Q 3116 1113 3116 1747 \n",
       "z\n",
       "\" transform=\"scale(0.015625)\"/>\n",
       "      <path id=\"DejaVuSans-6c\" d=\"M 603 4863 \n",
       "L 1178 4863 \n",
       "L 1178 0 \n",
       "L 603 0 \n",
       "L 603 4863 \n",
       "z\n",
       "\" transform=\"scale(0.015625)\"/>\n",
       "      <path id=\"DejaVuSans-61\" d=\"M 2194 1759 \n",
       "Q 1497 1759 1228 1600 \n",
       "Q 959 1441 959 1056 \n",
       "Q 959 750 1161 570 \n",
       "Q 1363 391 1709 391 \n",
       "Q 2188 391 2477 730 \n",
       "Q 2766 1069 2766 1631 \n",
       "L 2766 1759 \n",
       "L 2194 1759 \n",
       "z\n",
       "M 3341 1997 \n",
       "L 3341 0 \n",
       "L 2766 0 \n",
       "L 2766 531 \n",
       "Q 2569 213 2275 61 \n",
       "Q 1981 -91 1556 -91 \n",
       "Q 1019 -91 701 211 \n",
       "Q 384 513 384 1019 \n",
       "Q 384 1609 779 1909 \n",
       "Q 1175 2209 1959 2209 \n",
       "L 2766 2209 \n",
       "L 2766 2266 \n",
       "Q 2766 2663 2505 2880 \n",
       "Q 2244 3097 1772 3097 \n",
       "Q 1472 3097 1187 3025 \n",
       "Q 903 2953 641 2809 \n",
       "L 641 3341 \n",
       "Q 956 3463 1253 3523 \n",
       "Q 1550 3584 1831 3584 \n",
       "Q 2591 3584 2966 3190 \n",
       "Q 3341 2797 3341 1997 \n",
       "z\n",
       "\" transform=\"scale(0.015625)\"/>\n",
       "      <path id=\"DejaVuSans-63\" d=\"M 3122 3366 \n",
       "L 3122 2828 \n",
       "Q 2878 2963 2633 3030 \n",
       "Q 2388 3097 2138 3097 \n",
       "Q 1578 3097 1268 2742 \n",
       "Q 959 2388 959 1747 \n",
       "Q 959 1106 1268 751 \n",
       "Q 1578 397 2138 397 \n",
       "Q 2388 397 2633 464 \n",
       "Q 2878 531 3122 666 \n",
       "L 3122 134 \n",
       "Q 2881 22 2623 -34 \n",
       "Q 2366 -91 2075 -91 \n",
       "Q 1284 -91 818 406 \n",
       "Q 353 903 353 1747 \n",
       "Q 353 2603 823 3093 \n",
       "Q 1294 3584 2113 3584 \n",
       "Q 2378 3584 2631 3529 \n",
       "Q 2884 3475 3122 3366 \n",
       "z\n",
       "\" transform=\"scale(0.015625)\"/>\n",
       "      <path id=\"DejaVuSans-5f\" d=\"M 3263 -1063 \n",
       "L 3263 -1509 \n",
       "L -63 -1509 \n",
       "L -63 -1063 \n",
       "L 3263 -1063 \n",
       "z\n",
       "\" transform=\"scale(0.015625)\"/>\n",
       "      <path id=\"DejaVuSans-7a\" d=\"M 353 3500 \n",
       "L 3084 3500 \n",
       "L 3084 2975 \n",
       "L 922 459 \n",
       "L 3084 459 \n",
       "L 3084 0 \n",
       "L 275 0 \n",
       "L 275 525 \n",
       "L 2438 3041 \n",
       "L 353 3041 \n",
       "L 353 3500 \n",
       "z\n",
       "\" transform=\"scale(0.015625)\"/>\n",
       "      <path id=\"DejaVuSans-6f\" d=\"M 1959 3097 \n",
       "Q 1497 3097 1228 2736 \n",
       "Q 959 2375 959 1747 \n",
       "Q 959 1119 1226 758 \n",
       "Q 1494 397 1959 397 \n",
       "Q 2419 397 2687 759 \n",
       "Q 2956 1122 2956 1747 \n",
       "Q 2956 2369 2687 2733 \n",
       "Q 2419 3097 1959 3097 \n",
       "z\n",
       "M 1959 3584 \n",
       "Q 2709 3584 3137 3096 \n",
       "Q 3566 2609 3566 1747 \n",
       "Q 3566 888 3137 398 \n",
       "Q 2709 -91 1959 -91 \n",
       "Q 1206 -91 779 398 \n",
       "Q 353 888 353 1747 \n",
       "Q 353 2609 779 3096 \n",
       "Q 1206 3584 1959 3584 \n",
       "z\n",
       "\" transform=\"scale(0.015625)\"/>\n",
       "      <path id=\"DejaVuSans-73\" d=\"M 2834 3397 \n",
       "L 2834 2853 \n",
       "Q 2591 2978 2328 3040 \n",
       "Q 2066 3103 1784 3103 \n",
       "Q 1356 3103 1142 2972 \n",
       "Q 928 2841 928 2578 \n",
       "Q 928 2378 1081 2264 \n",
       "Q 1234 2150 1697 2047 \n",
       "L 1894 2003 \n",
       "Q 2506 1872 2764 1633 \n",
       "Q 3022 1394 3022 966 \n",
       "Q 3022 478 2636 193 \n",
       "Q 2250 -91 1575 -91 \n",
       "Q 1294 -91 989 -36 \n",
       "Q 684 19 347 128 \n",
       "L 347 722 \n",
       "Q 666 556 975 473 \n",
       "Q 1284 391 1588 391 \n",
       "Q 1994 391 2212 530 \n",
       "Q 2431 669 2431 922 \n",
       "Q 2431 1156 2273 1281 \n",
       "Q 2116 1406 1581 1522 \n",
       "L 1381 1569 \n",
       "Q 847 1681 609 1914 \n",
       "Q 372 2147 372 2553 \n",
       "Q 372 3047 722 3315 \n",
       "Q 1072 3584 1716 3584 \n",
       "Q 2034 3584 2315 3537 \n",
       "Q 2597 3491 2834 3397 \n",
       "z\n",
       "\" transform=\"scale(0.015625)\"/>\n",
       "      <path id=\"DejaVuSans-74\" d=\"M 1172 4494 \n",
       "L 1172 3500 \n",
       "L 2356 3500 \n",
       "L 2356 3053 \n",
       "L 1172 3053 \n",
       "L 1172 1153 \n",
       "Q 1172 725 1289 603 \n",
       "Q 1406 481 1766 481 \n",
       "L 2356 481 \n",
       "L 2356 0 \n",
       "L 1766 0 \n",
       "Q 1100 0 847 248 \n",
       "Q 594 497 594 1153 \n",
       "L 594 3053 \n",
       "L 172 3053 \n",
       "L 172 3500 \n",
       "L 594 3500 \n",
       "L 594 4494 \n",
       "L 1172 4494 \n",
       "z\n",
       "\" transform=\"scale(0.015625)\"/>\n",
       "      <path id=\"DejaVuSans-6d\" d=\"M 3328 2828 \n",
       "Q 3544 3216 3844 3400 \n",
       "Q 4144 3584 4550 3584 \n",
       "Q 5097 3584 5394 3201 \n",
       "Q 5691 2819 5691 2113 \n",
       "L 5691 0 \n",
       "L 5113 0 \n",
       "L 5113 2094 \n",
       "Q 5113 2597 4934 2840 \n",
       "Q 4756 3084 4391 3084 \n",
       "Q 3944 3084 3684 2787 \n",
       "Q 3425 2491 3425 1978 \n",
       "L 3425 0 \n",
       "L 2847 0 \n",
       "L 2847 2094 \n",
       "Q 2847 2600 2669 2842 \n",
       "Q 2491 3084 2119 3084 \n",
       "Q 1678 3084 1418 2786 \n",
       "Q 1159 2488 1159 1978 \n",
       "L 1159 0 \n",
       "L 581 0 \n",
       "L 581 3500 \n",
       "L 1159 3500 \n",
       "L 1159 2956 \n",
       "Q 1356 3278 1631 3431 \n",
       "Q 1906 3584 2284 3584 \n",
       "Q 2666 3584 2933 3390 \n",
       "Q 3200 3197 3328 2828 \n",
       "z\n",
       "\" transform=\"scale(0.015625)\"/>\n",
       "      <path id=\"DejaVuSans-6e\" d=\"M 3513 2113 \n",
       "L 3513 0 \n",
       "L 2938 0 \n",
       "L 2938 2094 \n",
       "Q 2938 2591 2744 2837 \n",
       "Q 2550 3084 2163 3084 \n",
       "Q 1697 3084 1428 2787 \n",
       "Q 1159 2491 1159 1978 \n",
       "L 1159 0 \n",
       "L 581 0 \n",
       "L 581 3500 \n",
       "L 1159 3500 \n",
       "L 1159 2956 \n",
       "Q 1366 3272 1645 3428 \n",
       "Q 1925 3584 2291 3584 \n",
       "Q 2894 3584 3203 3211 \n",
       "Q 3513 2838 3513 2113 \n",
       "z\n",
       "\" transform=\"scale(0.015625)\"/>\n",
       "     </defs>\n",
       "     <use xlink:href=\"#DejaVuSans-421\"/>\n",
       "     <use xlink:href=\"#DejaVuSans-440\" x=\"69.824219\"/>\n",
       "     <use xlink:href=\"#DejaVuSans-430\" x=\"133.300781\"/>\n",
       "     <use xlink:href=\"#DejaVuSans-432\" x=\"194.580078\"/>\n",
       "     <use xlink:href=\"#DejaVuSans-43d\" x=\"253.515625\"/>\n",
       "     <use xlink:href=\"#DejaVuSans-435\" x=\"318.896484\"/>\n",
       "     <use xlink:href=\"#DejaVuSans-43d\" x=\"380.419922\"/>\n",
       "     <use xlink:href=\"#DejaVuSans-438\" x=\"445.800781\"/>\n",
       "     <use xlink:href=\"#DejaVuSans-435\" x=\"510.791016\"/>\n",
       "     <use xlink:href=\"#DejaVuSans-20\" x=\"572.314453\"/>\n",
       "     <use xlink:href=\"#DejaVuSans-441\" x=\"604.101562\"/>\n",
       "     <use xlink:href=\"#DejaVuSans-43a\" x=\"659.082031\"/>\n",
       "     <use xlink:href=\"#DejaVuSans-43e\" x=\"719.482422\"/>\n",
       "     <use xlink:href=\"#DejaVuSans-440\" x=\"780.664062\"/>\n",
       "     <use xlink:href=\"#DejaVuSans-43e\" x=\"844.140625\"/>\n",
       "     <use xlink:href=\"#DejaVuSans-441\" x=\"905.322266\"/>\n",
       "     <use xlink:href=\"#DejaVuSans-442\" x=\"960.302734\"/>\n",
       "     <use xlink:href=\"#DejaVuSans-438\" x=\"1018.554688\"/>\n",
       "     <use xlink:href=\"#DejaVuSans-20\" x=\"1083.544922\"/>\n",
       "     <use xlink:href=\"#DejaVuSans-440\" x=\"1115.332031\"/>\n",
       "     <use xlink:href=\"#DejaVuSans-435\" x=\"1178.808594\"/>\n",
       "     <use xlink:href=\"#DejaVuSans-430\" x=\"1240.332031\"/>\n",
       "     <use xlink:href=\"#DejaVuSans-43b\" x=\"1301.611328\"/>\n",
       "     <use xlink:href=\"#DejaVuSans-438\" x=\"1365.527344\"/>\n",
       "     <use xlink:href=\"#DejaVuSans-437\" x=\"1430.517578\"/>\n",
       "     <use xlink:href=\"#DejaVuSans-430\" x=\"1483.691406\"/>\n",
       "     <use xlink:href=\"#DejaVuSans-446\" x=\"1544.970703\"/>\n",
       "     <use xlink:href=\"#DejaVuSans-438\" x=\"1613.037109\"/>\n",
       "     <use xlink:href=\"#DejaVuSans-439\" x=\"1678.027344\"/>\n",
       "     <use xlink:href=\"#DejaVuSans-20\" x=\"1743.017578\"/>\n",
       "     <use xlink:href=\"#DejaVuSans-434\" x=\"1774.804688\"/>\n",
       "     <use xlink:href=\"#DejaVuSans-43b\" x=\"1843.945312\"/>\n",
       "     <use xlink:href=\"#DejaVuSans-44f\" x=\"1907.861328\"/>\n",
       "     <use xlink:href=\"#DejaVuSans-20\" x=\"1968.017578\"/>\n",
       "     <use xlink:href=\"#DejaVuSans-437\" x=\"1999.804688\"/>\n",
       "     <use xlink:href=\"#DejaVuSans-430\" x=\"2052.978516\"/>\n",
       "     <use xlink:href=\"#DejaVuSans-434\" x=\"2114.257812\"/>\n",
       "     <use xlink:href=\"#DejaVuSans-430\" x=\"2183.398438\"/>\n",
       "     <use xlink:href=\"#DejaVuSans-447\" x=\"2244.677734\"/>\n",
       "     <use xlink:href=\"#DejaVuSans-438\" x=\"2303.759766\"/>\n",
       "     <use xlink:href=\"#DejaVuSans-20\" x=\"2368.75\"/>\n",
       "     <use xlink:href=\"#DejaVuSans-72\" x=\"2400.537109\"/>\n",
       "     <use xlink:href=\"#DejaVuSans-65\" x=\"2439.400391\"/>\n",
       "     <use xlink:href=\"#DejaVuSans-70\" x=\"2500.923828\"/>\n",
       "     <use xlink:href=\"#DejaVuSans-6c\" x=\"2564.400391\"/>\n",
       "     <use xlink:href=\"#DejaVuSans-61\" x=\"2592.183594\"/>\n",
       "     <use xlink:href=\"#DejaVuSans-63\" x=\"2653.462891\"/>\n",
       "     <use xlink:href=\"#DejaVuSans-65\" x=\"2708.443359\"/>\n",
       "     <use xlink:href=\"#DejaVuSans-5f\" x=\"2769.966797\"/>\n",
       "     <use xlink:href=\"#DejaVuSans-7a\" x=\"2819.966797\"/>\n",
       "     <use xlink:href=\"#DejaVuSans-65\" x=\"2872.457031\"/>\n",
       "     <use xlink:href=\"#DejaVuSans-72\" x=\"2933.980469\"/>\n",
       "     <use xlink:href=\"#DejaVuSans-6f\" x=\"2972.84375\"/>\n",
       "     <use xlink:href=\"#DejaVuSans-73\" x=\"3034.025391\"/>\n",
       "     <use xlink:href=\"#DejaVuSans-5f\" x=\"3086.125\"/>\n",
       "     <use xlink:href=\"#DejaVuSans-74\" x=\"3136.125\"/>\n",
       "     <use xlink:href=\"#DejaVuSans-6f\" x=\"3175.333984\"/>\n",
       "     <use xlink:href=\"#DejaVuSans-5f\" x=\"3236.515625\"/>\n",
       "     <use xlink:href=\"#DejaVuSans-6d\" x=\"3286.515625\"/>\n",
       "     <use xlink:href=\"#DejaVuSans-65\" x=\"3383.927734\"/>\n",
       "     <use xlink:href=\"#DejaVuSans-61\" x=\"3445.451172\"/>\n",
       "     <use xlink:href=\"#DejaVuSans-6e\" x=\"3506.730469\"/>\n",
       "     <use xlink:href=\"#DejaVuSans-73\" x=\"3570.109375\"/>\n",
       "    </g>\n",
       "   </g>\n",
       "   <g id=\"legend_1\">\n",
       "    <g id=\"patch_7\">\n",
       "     <path d=\"M 58.378125 74.3525 \n",
       "L 126.204688 74.3525 \n",
       "Q 128.204688 74.3525 128.204688 72.3525 \n",
       "L 128.204688 29.318125 \n",
       "Q 128.204688 27.318125 126.204688 27.318125 \n",
       "L 58.378125 27.318125 \n",
       "Q 56.378125 27.318125 56.378125 29.318125 \n",
       "L 56.378125 72.3525 \n",
       "Q 56.378125 74.3525 58.378125 74.3525 \n",
       "z\n",
       "\" style=\"fill: #ffffff; opacity: 0.8; stroke: #cccccc; stroke-linejoin: miter\"/>\n",
       "    </g>\n",
       "    <g id=\"line2d_83\">\n",
       "     <path d=\"M 60.378125 35.416562 \n",
       "L 70.378125 35.416562 \n",
       "L 80.378125 35.416562 \n",
       "\" style=\"fill: none; stroke: #1f77b4; stroke-width: 1.5; stroke-linecap: square\"/>\n",
       "    </g>\n",
       "    <g id=\"text_12\">\n",
       "     <!-- C -->\n",
       "     <g transform=\"translate(88.378125 38.916562)scale(0.1 -0.1)\">\n",
       "      <defs>\n",
       "       <path id=\"DejaVuSans-43\" d=\"M 4122 4306 \n",
       "L 4122 3641 \n",
       "Q 3803 3938 3442 4084 \n",
       "Q 3081 4231 2675 4231 \n",
       "Q 1875 4231 1450 3742 \n",
       "Q 1025 3253 1025 2328 \n",
       "Q 1025 1406 1450 917 \n",
       "Q 1875 428 2675 428 \n",
       "Q 3081 428 3442 575 \n",
       "Q 3803 722 4122 1019 \n",
       "L 4122 359 \n",
       "Q 3791 134 3420 21 \n",
       "Q 3050 -91 2638 -91 \n",
       "Q 1578 -91 968 557 \n",
       "Q 359 1206 359 2328 \n",
       "Q 359 3453 968 4101 \n",
       "Q 1578 4750 2638 4750 \n",
       "Q 3056 4750 3426 4639 \n",
       "Q 3797 4528 4122 4306 \n",
       "z\n",
       "\" transform=\"scale(0.015625)\"/>\n",
       "      </defs>\n",
       "      <use xlink:href=\"#DejaVuSans-43\"/>\n",
       "     </g>\n",
       "    </g>\n",
       "    <g id=\"line2d_84\">\n",
       "     <path d=\"M 60.378125 50.094687 \n",
       "L 70.378125 50.094687 \n",
       "L 80.378125 50.094687 \n",
       "\" style=\"fill: none; stroke: #ff7f0e; stroke-width: 1.5; stroke-linecap: square\"/>\n",
       "    </g>\n",
       "    <g id=\"text_13\">\n",
       "     <!-- Numpy -->\n",
       "     <g transform=\"translate(88.378125 53.594687)scale(0.1 -0.1)\">\n",
       "      <defs>\n",
       "       <path id=\"DejaVuSans-4e\" d=\"M 628 4666 \n",
       "L 1478 4666 \n",
       "L 3547 763 \n",
       "L 3547 4666 \n",
       "L 4159 4666 \n",
       "L 4159 0 \n",
       "L 3309 0 \n",
       "L 1241 3903 \n",
       "L 1241 0 \n",
       "L 628 0 \n",
       "L 628 4666 \n",
       "z\n",
       "\" transform=\"scale(0.015625)\"/>\n",
       "       <path id=\"DejaVuSans-75\" d=\"M 544 1381 \n",
       "L 544 3500 \n",
       "L 1119 3500 \n",
       "L 1119 1403 \n",
       "Q 1119 906 1312 657 \n",
       "Q 1506 409 1894 409 \n",
       "Q 2359 409 2629 706 \n",
       "Q 2900 1003 2900 1516 \n",
       "L 2900 3500 \n",
       "L 3475 3500 \n",
       "L 3475 0 \n",
       "L 2900 0 \n",
       "L 2900 538 \n",
       "Q 2691 219 2414 64 \n",
       "Q 2138 -91 1772 -91 \n",
       "Q 1169 -91 856 284 \n",
       "Q 544 659 544 1381 \n",
       "z\n",
       "M 1991 3584 \n",
       "L 1991 3584 \n",
       "z\n",
       "\" transform=\"scale(0.015625)\"/>\n",
       "       <path id=\"DejaVuSans-79\" d=\"M 2059 -325 \n",
       "Q 1816 -950 1584 -1140 \n",
       "Q 1353 -1331 966 -1331 \n",
       "L 506 -1331 \n",
       "L 506 -850 \n",
       "L 844 -850 \n",
       "Q 1081 -850 1212 -737 \n",
       "Q 1344 -625 1503 -206 \n",
       "L 1606 56 \n",
       "L 191 3500 \n",
       "L 800 3500 \n",
       "L 1894 763 \n",
       "L 2988 3500 \n",
       "L 3597 3500 \n",
       "L 2059 -325 \n",
       "z\n",
       "\" transform=\"scale(0.015625)\"/>\n",
       "      </defs>\n",
       "      <use xlink:href=\"#DejaVuSans-4e\"/>\n",
       "      <use xlink:href=\"#DejaVuSans-75\" x=\"74.804688\"/>\n",
       "      <use xlink:href=\"#DejaVuSans-6d\" x=\"138.183594\"/>\n",
       "      <use xlink:href=\"#DejaVuSans-70\" x=\"235.595703\"/>\n",
       "      <use xlink:href=\"#DejaVuSans-79\" x=\"299.072266\"/>\n",
       "     </g>\n",
       "    </g>\n",
       "    <g id=\"line2d_85\">\n",
       "     <path d=\"M 60.378125 64.772812 \n",
       "L 70.378125 64.772812 \n",
       "L 80.378125 64.772812 \n",
       "\" style=\"fill: none; stroke: #2ca02c; stroke-width: 1.5; stroke-linecap: square\"/>\n",
       "    </g>\n",
       "    <g id=\"text_14\">\n",
       "     <!-- Python -->\n",
       "     <g transform=\"translate(88.378125 68.272812)scale(0.1 -0.1)\">\n",
       "      <defs>\n",
       "       <path id=\"DejaVuSans-50\" d=\"M 1259 4147 \n",
       "L 1259 2394 \n",
       "L 2053 2394 \n",
       "Q 2494 2394 2734 2622 \n",
       "Q 2975 2850 2975 3272 \n",
       "Q 2975 3691 2734 3919 \n",
       "Q 2494 4147 2053 4147 \n",
       "L 1259 4147 \n",
       "z\n",
       "M 628 4666 \n",
       "L 2053 4666 \n",
       "Q 2838 4666 3239 4311 \n",
       "Q 3641 3956 3641 3272 \n",
       "Q 3641 2581 3239 2228 \n",
       "Q 2838 1875 2053 1875 \n",
       "L 1259 1875 \n",
       "L 1259 0 \n",
       "L 628 0 \n",
       "L 628 4666 \n",
       "z\n",
       "\" transform=\"scale(0.015625)\"/>\n",
       "       <path id=\"DejaVuSans-68\" d=\"M 3513 2113 \n",
       "L 3513 0 \n",
       "L 2938 0 \n",
       "L 2938 2094 \n",
       "Q 2938 2591 2744 2837 \n",
       "Q 2550 3084 2163 3084 \n",
       "Q 1697 3084 1428 2787 \n",
       "Q 1159 2491 1159 1978 \n",
       "L 1159 0 \n",
       "L 581 0 \n",
       "L 581 4863 \n",
       "L 1159 4863 \n",
       "L 1159 2956 \n",
       "Q 1366 3272 1645 3428 \n",
       "Q 1925 3584 2291 3584 \n",
       "Q 2894 3584 3203 3211 \n",
       "Q 3513 2838 3513 2113 \n",
       "z\n",
       "\" transform=\"scale(0.015625)\"/>\n",
       "      </defs>\n",
       "      <use xlink:href=\"#DejaVuSans-50\"/>\n",
       "      <use xlink:href=\"#DejaVuSans-79\" x=\"60.302734\"/>\n",
       "      <use xlink:href=\"#DejaVuSans-74\" x=\"119.482422\"/>\n",
       "      <use xlink:href=\"#DejaVuSans-68\" x=\"158.691406\"/>\n",
       "      <use xlink:href=\"#DejaVuSans-6f\" x=\"222.070312\"/>\n",
       "      <use xlink:href=\"#DejaVuSans-6e\" x=\"283.251953\"/>\n",
       "     </g>\n",
       "    </g>\n",
       "   </g>\n",
       "  </g>\n",
       " </g>\n",
       " <defs>\n",
       "  <clipPath id=\"pa40d6fc922\">\n",
       "   <rect x=\"51.378125\" y=\"22.318125\" width=\"653.337946\" height=\"215.848\"/>\n",
       "  </clipPath>\n",
       " </defs>\n",
       "</svg>\n"
      ],
      "text/plain": [
       "<Figure size 1000x400 with 1 Axes>"
      ]
     },
     "metadata": {},
     "output_type": "display_data"
    }
   ],
   "source": [
    "fig, ax = plt.subplots(1, 1, figsize=(10, 4))\n",
    "\n",
    "ax.plot(ns, times_c, label='C')\n",
    "ax.plot(ns, times_numpy, label='Numpy')\n",
    "ax.plot(ns, times_python, label='Python')\n",
    "\n",
    "ax.set_xscale('log')\n",
    "ax.set_yscale('log')\n",
    "\n",
    "ax.set_xlabel(r'$n$')\n",
    "ax.set_ylabel('Время, с.')\n",
    "ax.set_title('Сравнение скорости реализаций для задачи replace_zeros_to_means')\n",
    "\n",
    "ax.grid(True)\n",
    "ax.legend()\n",
    "\n",
    "fig.tight_layout()\n",
    "plt.show()"
   ]
  },
  {
   "cell_type": "markdown",
   "metadata": {
    "ExecuteTime": {
     "end_time": "2022-12-08T06:17:18.195563Z",
     "start_time": "2022-12-08T06:17:18.184562Z"
    }
   },
   "source": [
    "**Использование Ctypes позволило уменьшить время работы программы почти на порядок!**"
   ]
  },
  {
   "cell_type": "markdown",
   "metadata": {},
   "source": [
    "### `Ctypes. C++`"
   ]
  },
  {
   "cell_type": "markdown",
   "metadata": {},
   "source": [
    "Нужно учитывать, что при загрузке библиотеки должны быть доступны все другие динамические зависимости. Например, если требуется использовать `С++ Standart Library`, то нужно убедиться, что соответсвтующая библиотека указана в `PATH`! "
   ]
  },
  {
   "cell_type": "code",
   "execution_count": 62,
   "metadata": {
    "ExecuteTime": {
     "end_time": "2022-12-08T08:08:47.078005Z",
     "start_time": "2022-12-08T08:08:46.215985Z"
    }
   },
   "outputs": [],
   "source": [
    "! g++ -shared --std=c++20 -o ./ctypes_examples/bin/libctypes_cpp.dll -fPIC ./ctypes_examples/cpp.cpp"
   ]
  },
  {
   "cell_type": "code",
   "execution_count": 63,
   "metadata": {
    "ExecuteTime": {
     "end_time": "2022-12-08T08:08:48.058427Z",
     "start_time": "2022-12-08T08:08:48.048427Z"
    }
   },
   "outputs": [],
   "source": [
    "shared_lib_suffix = 'dll' if platform.system() == 'Windows' else 'so'\n",
    "ctypes.windll.LoadLibrary(\"C:/Toolchain/mingw64/bin/libstdc++-6.dll\")\n",
    "library_cpp = ctypes.CDLL(f'./ctypes_examples/bin/libctypes_cpp.dll')"
   ]
  },
  {
   "cell_type": "markdown",
   "metadata": {},
   "source": [
    "### `Ctypes. C++. Классы`"
   ]
  },
  {
   "cell_type": "markdown",
   "metadata": {},
   "source": [
    "Рассмотрим класс С++:\n",
    "```C++\n",
    "class Test {\n",
    "public:\n",
    "    Test(int a, char b, double c): a{a}, b{b}, c{c} {};\n",
    "\n",
    "    static bool is_prime(int val);\n",
    "    static bool is_palindrome(const std::string& string);\n",
    "public:\n",
    "    int a;\n",
    "    char b;\n",
    "    double c;\n",
    "\n",
    "    std::vector<double> vector;\n",
    "};\n",
    "```"
   ]
  },
  {
   "cell_type": "markdown",
   "metadata": {
    "ExecuteTime": {
     "end_time": "2022-12-08T07:28:01.110471Z",
     "start_time": "2022-12-08T07:28:01.099483Z"
    }
   },
   "source": [
    "### ```Ctypes. C++. Создание объекта```"
   ]
  },
  {
   "cell_type": "markdown",
   "metadata": {},
   "source": [
    "Так как `ctypes` работает только через `C ABI`, то для создания класса и взаимодействия с ним нужно реализовать обёртки, подчинающиеся `C` соглашению о вызовах."
   ]
  },
  {
   "cell_type": "markdown",
   "metadata": {
    "ExecuteTime": {
     "end_time": "2022-12-08T07:27:06.090820Z",
     "start_time": "2022-12-08T07:27:06.075820Z"
    }
   },
   "source": [
    "```C++\n",
    "// Создаем класс test, и получаем указатель на него.\n",
    "Test* test_new(int a, char b, double c) {\n",
    "    return new Test(a, b, c);\n",
    "}\n",
    "\n",
    "// Удаляем класс test.\n",
    "void test_del(Test * test) {\n",
    "    delete test;\n",
    "}\n",
    "```"
   ]
  },
  {
   "cell_type": "markdown",
   "metadata": {},
   "source": [
    "При создании объекта мы не имеем возможности отобразить его на стандартные типы `Python/ctypes`. Поэтому, единственный способ взаимодействия с таким объектом — через универсальный указатель `void *`. Такой объект будет по-сути чёрным ящиком. Однако, нужно учитывать, что выделением и отчищением памяти должнен заниматься сам пользователь! \n",
    "\n",
    "При этом сам объект можно передавать в качестве первого аргумента в соответствующие функции-обёртки. "
   ]
  },
  {
   "cell_type": "code",
   "execution_count": 64,
   "metadata": {
    "ExecuteTime": {
     "end_time": "2022-12-08T08:08:51.749262Z",
     "start_time": "2022-12-08T08:08:51.735261Z"
    }
   },
   "outputs": [],
   "source": [
    "# Указываем, что функция возвращает void *\n",
    "library_cpp.test_new.restype = ctypes.c_void_p\n",
    "# Указываем, что функция принимает аргумент int, char, double\n",
    "library_cpp.test_new.argtypes = [ctypes.c_int, ctypes.c_char, ctypes.c_double]"
   ]
  },
  {
   "cell_type": "code",
   "execution_count": 65,
   "metadata": {
    "ExecuteTime": {
     "end_time": "2022-12-08T08:08:52.141065Z",
     "start_time": "2022-12-08T08:08:52.136065Z"
    }
   },
   "outputs": [],
   "source": [
    "# Создание класса test\n",
    "test = library_cpp.test_new(10, 'C'.encode('utf-8'), 713.0)"
   ]
  },
  {
   "cell_type": "markdown",
   "metadata": {},
   "source": [
    "### ```Ctypes. C++. Вызов методов класса```"
   ]
  },
  {
   "cell_type": "markdown",
   "metadata": {},
   "source": [
    "```C++\n",
    "bool test_is_prime(Test * test, int val){\n",
    "    return test->is_prime(val);\n",
    "}\n",
    "\n",
    "bool test_is_palindrome(Test * test, char * c_ptr){\n",
    "    std::string string(c_ptr);\n",
    "\n",
    "    return test->is_palindrome(string);\n",
    "}\n",
    "```"
   ]
  },
  {
   "cell_type": "code",
   "execution_count": 66,
   "metadata": {
    "ExecuteTime": {
     "end_time": "2022-12-08T08:08:52.955663Z",
     "start_time": "2022-12-08T08:08:52.943663Z"
    }
   },
   "outputs": [],
   "source": [
    "# Указываем, что функция возвращает char *\n",
    "library_cpp.test_is_prime.restype = ctypes.c_bool\n",
    "# Указываем, что функция принимает аргумент void * и char *\n",
    "library_cpp.test_is_prime.argtypes = [ctypes.c_void_p, ctypes.c_int]\n",
    "\n",
    "# Указываем, что функция возвращает int\n",
    "library_cpp.test_is_palindrome.restype = ctypes.c_bool\n",
    "# Указываем, что функция принимает аргумент void * и int\n",
    "library_cpp.test_is_palindrome.argtypes = [ctypes.c_void_p, ctypes.c_char_p]"
   ]
  },
  {
   "cell_type": "code",
   "execution_count": 67,
   "metadata": {
    "ExecuteTime": {
     "end_time": "2022-12-08T08:08:53.349997Z",
     "start_time": "2022-12-08T08:08:53.343997Z"
    }
   },
   "outputs": [
    {
     "name": "stdout",
     "output_type": "stream",
     "text": [
      "ret test_is_prime: True\n"
     ]
    }
   ],
   "source": [
    "print('ret test_is_prime: {0}'.format(library_cpp.test_is_prime(test, 317)))"
   ]
  },
  {
   "cell_type": "code",
   "execution_count": 68,
   "metadata": {
    "ExecuteTime": {
     "end_time": "2022-12-08T08:08:53.553823Z",
     "start_time": "2022-12-08T08:08:53.551818Z"
    }
   },
   "outputs": [
    {
     "name": "stdout",
     "output_type": "stream",
     "text": [
      "ret test_is_palindrome: True\n"
     ]
    }
   ],
   "source": [
    "print('ret test_is_palindrome: {0}'.format(library_cpp.test_is_palindrome(test, 'nolemon,nomelon'.encode('utf-8'))))"
   ]
  },
  {
   "cell_type": "markdown",
   "metadata": {},
   "source": [
    "### ```Ctypes. C++. Обращение к переменным класса```"
   ]
  },
  {
   "cell_type": "markdown",
   "metadata": {},
   "source": [
    "Работа с переменными также должна вестись через функции-обёртки: геттеры и сеттеры:\n",
    "        \n",
    "```C++\n",
    "int test_get_a(Test * test){\n",
    "    return test->a;\n",
    "}\n",
    "\n",
    "char test_get_b(Test * test){\n",
    "    return test->b;\n",
    "}\n",
    "\n",
    "double test_get_c(Test * test){\n",
    "    return test->c;\n",
    "}\n",
    "```"
   ]
  },
  {
   "cell_type": "code",
   "execution_count": 69,
   "metadata": {
    "ExecuteTime": {
     "end_time": "2022-12-08T08:08:54.516158Z",
     "start_time": "2022-12-08T08:08:54.512158Z"
    }
   },
   "outputs": [],
   "source": [
    "library_cpp.test_get_a.restype = ctypes.c_int\n",
    "library_cpp.test_get_a.argtypes = [ctypes.c_void_p]\n",
    "\n",
    "library_cpp.test_get_b.restype = ctypes.c_char\n",
    "library_cpp.test_get_b.argtypes = [ctypes.c_void_p]\n",
    "\n",
    "library_cpp.test_get_c.restype = ctypes.c_double\n",
    "library_cpp.test_get_c.argtypes = [ctypes.c_void_p]"
   ]
  },
  {
   "cell_type": "code",
   "execution_count": 70,
   "metadata": {
    "ExecuteTime": {
     "end_time": "2022-12-08T08:08:54.770230Z",
     "start_time": "2022-12-08T08:08:54.759231Z"
    }
   },
   "outputs": [
    {
     "name": "stdout",
     "output_type": "stream",
     "text": [
      "ret test_get_a:  10\n",
      "ret test_get_b:  C\n",
      "ret test_get_c:  713.0\n"
     ]
    }
   ],
   "source": [
    "print('ret test_get_a: ', library_cpp.test_get_a(test))\n",
    "print('ret test_get_b: ', library_cpp.test_get_b(test).decode(\"utf-8\"))\n",
    "print('ret test_get_c: ', library_cpp.test_get_c(test))"
   ]
  },
  {
   "cell_type": "markdown",
   "metadata": {},
   "source": [
    "### ```Ctypes. C++. Стандартная библиотека```"
   ]
  },
  {
   "cell_type": "markdown",
   "metadata": {},
   "source": [
    "Работа со структурами данных и алгоритмами из стандартной библиотеки также должна проходить через обёртки:\n",
    "\n",
    "```C++\n",
    "std::vector<double> * test_get_vector(Test * test){\n",
    "    return &test->vector;\n",
    "}\n",
    "\n",
    "double test_vector_index(std::vector<double> * vector, unsigned long long idx){\n",
    "    return *(vector->begin() + idx);\n",
    "}\n",
    "\n",
    "void test_vector_push_back(std::vector<double> * vector, double value){\n",
    "    vector->push_back(value);\n",
    "}\n",
    "\n",
    "void test_vector_print(std::vector<double> * vector){\n",
    "    std::cout << \"Vector contains: \";\n",
    "    for(auto v : *vector){\n",
    "        std::cout << v << ' ';\n",
    "    }\n",
    "    std::cout << std::endl;\n",
    "}\n",
    "```"
   ]
  },
  {
   "cell_type": "code",
   "execution_count": 71,
   "metadata": {
    "ExecuteTime": {
     "end_time": "2022-12-08T08:08:55.788442Z",
     "start_time": "2022-12-08T08:08:55.783442Z"
    }
   },
   "outputs": [],
   "source": [
    "library_cpp.test_get_vector.restype = ctypes.c_void_p\n",
    "library_cpp.test_get_vector.argtypes = [ctypes.c_void_p]\n",
    "\n",
    "library_cpp.test_vector_index.restype = ctypes.c_double\n",
    "library_cpp.test_vector_index.argtypes = [ctypes.c_void_p, ctypes.c_ulonglong]\n",
    "\n",
    "library_cpp.test_vector_push_back.restype = None\n",
    "library_cpp.test_vector_push_back.argtypes = [ctypes.c_void_p, ctypes.c_double]\n",
    "\n",
    "library_cpp.test_vector_print.restype = None\n",
    "library_cpp.test_vector_print.argtypes = [ctypes.c_void_p]"
   ]
  },
  {
   "cell_type": "code",
   "execution_count": 72,
   "metadata": {
    "ExecuteTime": {
     "end_time": "2022-12-08T08:08:56.024080Z",
     "start_time": "2022-12-08T08:08:56.007081Z"
    }
   },
   "outputs": [],
   "source": [
    "vector = library_cpp.test_get_vector(test)"
   ]
  },
  {
   "cell_type": "code",
   "execution_count": 73,
   "metadata": {
    "ExecuteTime": {
     "end_time": "2022-12-08T08:08:56.197633Z",
     "start_time": "2022-12-08T08:08:56.183633Z"
    }
   },
   "outputs": [
    {
     "name": "stdout",
     "output_type": "stream",
     "text": [
      "vector[0]: 1.500, vector[1]: 2.500, vector[2]: 3.500\n"
     ]
    }
   ],
   "source": [
    "library_cpp.test_vector_push_back(vector, 1.5)\n",
    "library_cpp.test_vector_push_back(vector, 2.5)\n",
    "library_cpp.test_vector_push_back(vector, 3.5)\n",
    "library_cpp.test_vector_print(vector)\n",
    "\n",
    "print('vector[0]: {0:.3f}, vector[1]: {1:.3f}, vector[2]: {2:.3f}'.format(\n",
    "    library_cpp.test_vector_index(vector, 0), \n",
    "    library_cpp.test_vector_index(vector, 1), \n",
    "    library_cpp.test_vector_index(vector, 2)\n",
    "))"
   ]
  },
  {
   "cell_type": "code",
   "execution_count": 74,
   "metadata": {
    "ExecuteTime": {
     "end_time": "2022-12-08T08:08:56.608891Z",
     "start_time": "2022-12-08T08:08:56.591891Z"
    }
   },
   "outputs": [
    {
     "name": "stdout",
     "output_type": "stream",
     "text": [
      "vector[3]: -1.500, vector_one_more[3]: -1.500\n"
     ]
    }
   ],
   "source": [
    "vector_one_more = library_cpp.test_get_vector(test)\n",
    "library_cpp.test_vector_print(vector_one_more)\n",
    "library_cpp.test_vector_push_back(vector, -1.5)\n",
    "library_cpp.test_vector_print(vector)\n",
    "print('vector[3]: {0:.3f}, vector_one_more[3]: {1:.3f}'.format(\n",
    "    library_cpp.test_vector_index(vector, 3), \n",
    "    library_cpp.test_vector_index(vector_one_more, 3)\n",
    "))"
   ]
  },
  {
   "cell_type": "markdown",
   "metadata": {},
   "source": [
    "### `Ctypes. IO`"
   ]
  },
  {
   "cell_type": "markdown",
   "metadata": {},
   "source": [
    "В некоторых случаях может оказаться что чтение и запись данных в `Python` имеют неудовлетворительную скорость. В таком случае можно также воспользоваться C++ реализацией IO функций: \n",
    "```C++\n",
    "int * test_read_file(const char * path, unsigned long long n){\n",
    "    auto * array = new int[n];\n",
    "    std::ifstream file(path);\n",
    "    for(unsigned long long i = 0; i < n; ++i){\n",
    "        file >> array[i];\n",
    "    }\n",
    "    return array;\n",
    "}\n",
    "\n",
    "void test_int_array_delete(const int * array){\n",
    "    delete[] array;\n",
    "}\n",
    "```"
   ]
  },
  {
   "cell_type": "code",
   "execution_count": 75,
   "metadata": {
    "ExecuteTime": {
     "end_time": "2022-12-08T08:08:57.248296Z",
     "start_time": "2022-12-08T08:08:57.231309Z"
    }
   },
   "outputs": [],
   "source": [
    "library_cpp.test_read_file.restype = ctypes.POINTER(ctypes.c_int)\n",
    "library_cpp.test_read_file.argtypes = [ctypes.c_char_p, ctypes.c_ulonglong]\n",
    "\n",
    "library_cpp.test_int_array_delete.restype = None\n",
    "library_cpp.test_int_array_delete.argtypes = [ctypes.POINTER(ctypes.c_int)]"
   ]
  },
  {
   "cell_type": "code",
   "execution_count": 76,
   "metadata": {
    "ExecuteTime": {
     "end_time": "2022-12-08T08:08:58.164219Z",
     "start_time": "2022-12-08T08:08:57.472217Z"
    }
   },
   "outputs": [
    {
     "name": "stdout",
     "output_type": "stream",
     "text": [
      "Verify last value: 10998\n"
     ]
    }
   ],
   "source": [
    "start_cpp_read = time.time()\n",
    "data_ptr = library_cpp.test_read_file('data.txt'.encode('utf-8'), 10_000_000)\n",
    "array_from_data = np.ctypeslib.as_array(data_ptr, shape=[10_000, 1_000])\n",
    "print('Verify last value: {0}'.format(array_from_data[-1, -1]))\n",
    "total_time_cpp_read = time.time() - start_cpp_read\n",
    "\n",
    "library_cpp.test_int_array_delete(data_ptr)"
   ]
  },
  {
   "cell_type": "code",
   "execution_count": 77,
   "metadata": {
    "ExecuteTime": {
     "end_time": "2022-12-08T08:09:00.444219Z",
     "start_time": "2022-12-08T08:08:58.165233Z"
    }
   },
   "outputs": [
    {
     "name": "stdout",
     "output_type": "stream",
     "text": [
      "Verify last value: 10998\n"
     ]
    }
   ],
   "source": [
    "start_python_read = time.time()\n",
    "array = np.empty([10_000, 1_000], dtype=np.int32)\n",
    "\n",
    "with open('data.txt', 'r') as file:\n",
    "    for idx, line in enumerate(file):\n",
    "        for jdx, value in enumerate(line.strip().split(' ')):\n",
    "            array[idx, jdx] = int(value)\n",
    "\n",
    "array_from_file = array.reshape([10_000, 1_000])\n",
    "print('Verify last value: {0}'.format(array_from_file[-1, -1]))\n",
    "total_time_python_read = time.time() - start_python_read"
   ]
  },
  {
   "cell_type": "code",
   "execution_count": 78,
   "metadata": {
    "ExecuteTime": {
     "end_time": "2022-12-08T08:09:00.459217Z",
     "start_time": "2022-12-08T08:09:00.445218Z"
    }
   },
   "outputs": [
    {
     "name": "stdout",
     "output_type": "stream",
     "text": [
      "C function time: 0.678\n",
      "Pure Python time: 2.266\n"
     ]
    }
   ],
   "source": [
    "print('C function time: {0:.3f}'.format(total_time_cpp_read))\n",
    "print('Pure Python time: {0:.3f}'.format(total_time_python_read))"
   ]
  },
  {
   "cell_type": "markdown",
   "metadata": {},
   "source": [
    "### `Ctypes. libc`"
   ]
  },
  {
   "cell_type": "markdown",
   "metadata": {},
   "source": [
    "Также, `ctypes` можно использовать для доступа к функциям стандартной библиотеки языка `C`:"
   ]
  },
  {
   "cell_type": "code",
   "execution_count": 79,
   "metadata": {
    "ExecuteTime": {
     "end_time": "2022-12-08T08:09:02.057195Z",
     "start_time": "2022-12-08T08:09:02.047196Z"
    }
   },
   "outputs": [],
   "source": [
    "libc = ctypes.cdll.msvcrt if platform.system() == 'Windows' else ctypes.CDLL(\"libc.so.6\")"
   ]
  },
  {
   "cell_type": "code",
   "execution_count": 80,
   "metadata": {
    "ExecuteTime": {
     "end_time": "2022-12-08T08:09:02.484481Z",
     "start_time": "2022-12-08T08:09:02.471481Z"
    }
   },
   "outputs": [],
   "source": [
    "libc.printf('Hello World!, %s\\n'.encode('utf-8'), 'Maksim'.encode('utf-8'))\n",
    "libc.fflush(None);"
   ]
  },
  {
   "cell_type": "code",
   "execution_count": 81,
   "metadata": {
    "ExecuteTime": {
     "end_time": "2022-12-08T08:09:02.706483Z",
     "start_time": "2022-12-08T08:09:02.695485Z"
    }
   },
   "outputs": [
    {
     "name": "stdout",
     "output_type": "stream",
     "text": [
      "c_long(0) c_float(0.0) \n"
     ]
    }
   ],
   "source": [
    "int_val = ctypes.c_int()\n",
    "float_val = ctypes.c_float()\n",
    "str_val = ctypes.create_string_buffer(1024)\n",
    "libc.scanf('%d-%f-%s'.encode('utf-8'), ctypes.byref(int_val), ctypes.byref(float_val), str_val)\n",
    "print(int_val, float_val, str_val.value.decode('utf-8'))"
   ]
  },
  {
   "cell_type": "markdown",
   "metadata": {},
   "source": [
    "### `Ctypes. C++. Функции`"
   ]
  },
  {
   "cell_type": "markdown",
   "metadata": {},
   "source": [
    "Ctypes позволяет передавать `Python` функции внутрь `C/C++` кода. Это может быть полезно для написания `callback функций`.\n",
    "\n",
    "При этом, такие функции не будут захватывать `GIL`, что позволяет безопасно использовать этот механизм для многопоточных программ."
   ]
  },
  {
   "cell_type": "markdown",
   "metadata": {},
   "source": [
    "Рассмотрим использование таких функций на примере компаратора для сортировки:\n",
    "\n",
    "```C++\n",
    "typedef int (*comparator_type)(int, int);\n",
    "\n",
    "void test_sort(int * array, unsigned long long n, comparator_type comparator){\n",
    "    std::sort(array, array + n, comparator);\n",
    "}\n",
    "```"
   ]
  },
  {
   "cell_type": "code",
   "execution_count": 82,
   "metadata": {
    "ExecuteTime": {
     "end_time": "2022-12-08T08:09:03.994159Z",
     "start_time": "2022-12-08T08:09:03.983158Z"
    }
   },
   "outputs": [],
   "source": [
    "def simple_comparator(a, b):\n",
    "    return int(a > b)"
   ]
  },
  {
   "cell_type": "markdown",
   "metadata": {
    "ExecuteTime": {
     "end_time": "2022-12-08T07:50:17.727366Z",
     "start_time": "2022-12-08T07:50:17.717366Z"
    }
   },
   "source": [
    "Создаём тип, соответствующий вызываемой функции:"
   ]
  },
  {
   "cell_type": "code",
   "execution_count": 83,
   "metadata": {
    "ExecuteTime": {
     "end_time": "2022-12-08T08:09:04.419986Z",
     "start_time": "2022-12-08T08:09:04.406986Z"
    }
   },
   "outputs": [],
   "source": [
    "simple_comparator_type = ctypes.CFUNCTYPE(ctypes.c_int, ctypes.c_int, ctypes.c_int)"
   ]
  },
  {
   "cell_type": "code",
   "execution_count": 84,
   "metadata": {
    "ExecuteTime": {
     "end_time": "2022-12-08T08:09:04.875361Z",
     "start_time": "2022-12-08T08:09:04.871362Z"
    }
   },
   "outputs": [],
   "source": [
    "library_cpp.test_sort.restype = None\n",
    "library_cpp.test_sort.argtypes = [ctypes.POINTER(ctypes.c_int), ctypes.c_ulonglong, simple_comparator_type]"
   ]
  },
  {
   "cell_type": "code",
   "execution_count": 85,
   "metadata": {
    "ExecuteTime": {
     "end_time": "2022-12-08T08:09:05.081015Z",
     "start_time": "2022-12-08T08:09:05.071014Z"
    }
   },
   "outputs": [
    {
     "name": "stdout",
     "output_type": "stream",
     "text": [
      "Before sorting:  [69 43 44 33 19 22 29 14 65 24  8 61 32  6 63]\n",
      "After sorting (std::sort):  [69 65 63 61 44 43 33 32 29 24 22 19 14  8  6]\n"
     ]
    }
   ],
   "source": [
    "array = np.random.randint(0, 100, size=[15])\n",
    "print(\"Before sorting: \", array)\n",
    "library_cpp.test_sort(\n",
    "    array.ctypes.data_as(ctypes.POINTER(ctypes.c_int)), 15, simple_comparator_type(simple_comparator)\n",
    ")\n",
    "print(\"After sorting (std::sort): \", array)"
   ]
  },
  {
   "cell_type": "markdown",
   "metadata": {},
   "source": [
    "### `Ctypes. C++. Функции`"
   ]
  },
  {
   "cell_type": "markdown",
   "metadata": {},
   "source": [
    "Также, можно использовать и более сложные функции:"
   ]
  },
  {
   "cell_type": "code",
   "execution_count": 86,
   "metadata": {
    "ExecuteTime": {
     "end_time": "2022-12-08T08:09:06.325625Z",
     "start_time": "2022-12-08T08:09:06.319626Z"
    }
   },
   "outputs": [],
   "source": [
    "def advanced_comparator(a, b):\n",
    "    return a[0] - b[0]"
   ]
  },
  {
   "cell_type": "code",
   "execution_count": 87,
   "metadata": {
    "ExecuteTime": {
     "end_time": "2022-12-08T08:09:06.482038Z",
     "start_time": "2022-12-08T08:09:06.479036Z"
    }
   },
   "outputs": [],
   "source": [
    "advanced_comparator_type = ctypes.CFUNCTYPE(ctypes.c_int, ctypes.POINTER(ctypes.c_int), ctypes.POINTER(ctypes.c_int))"
   ]
  },
  {
   "cell_type": "code",
   "execution_count": 88,
   "metadata": {
    "ExecuteTime": {
     "end_time": "2022-12-08T08:09:06.714793Z",
     "start_time": "2022-12-08T08:09:06.703793Z"
    }
   },
   "outputs": [
    {
     "name": "stdout",
     "output_type": "stream",
     "text": [
      "Before sorting:  [ 5 32 51 55 98 36 74 78 53 56 41 51 15 57 43]\n",
      "After sorting (libc qsort):  [ 5 15 32 36 41 43 51 51 53 55 56 57 74 78 98]\n"
     ]
    }
   ],
   "source": [
    "array = np.random.randint(0, 100, size=[15])\n",
    "print(\"Before sorting: \", array)\n",
    "libc.qsort(\n",
    "    array.ctypes.data_as(ctypes.POINTER(ctypes.c_int)), 15,\n",
    "    ctypes.sizeof(ctypes.c_int), advanced_comparator_type(advanced_comparator)\n",
    ")\n",
    "print(\"After sorting (libc qsort): \", array)"
   ]
  },
  {
   "cell_type": "markdown",
   "metadata": {
    "slideshow": {
     "slide_type": "slide"
    }
   },
   "source": [
    "## `Спасибо за внимание!`"
   ]
  }
 ],
 "metadata": {
  "celltoolbar": "Slideshow",
  "kernelspec": {
   "display_name": "Python 3 (ipykernel)",
   "language": "python",
   "name": "python3"
  },
  "language_info": {
   "codemirror_mode": {
    "name": "ipython",
    "version": 3
   },
   "file_extension": ".py",
   "mimetype": "text/x-python",
   "name": "python",
   "nbconvert_exporter": "python",
   "pygments_lexer": "ipython3",
   "version": "3.10.6"
  }
 },
 "nbformat": 4,
 "nbformat_minor": 2
}
