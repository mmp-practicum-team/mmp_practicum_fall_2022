{
 "cells": [
  {
   "cell_type": "code",
   "execution_count": 1,
   "metadata": {},
   "outputs": [],
   "source": [
    "import os\n",
    "import pickle\n",
    "import requests\n",
    "\n",
    "import numpy as np\n",
    "import pandas as pd\n",
    "import matplotlib.pyplot as plt\n",
    "\n",
    "from sklearn.metrics import roc_auc_score\n",
    "from sklearn.linear_model import LogisticRegression\n",
    "from sklearn.model_selection import cross_val_predict\n",
    "from sklearn.feature_extraction.text import TfidfVectorizer"
   ]
  },
  {
   "cell_type": "markdown",
   "metadata": {},
   "source": [
    "# Обучение модели"
   ]
  },
  {
   "cell_type": "code",
   "execution_count": 2,
   "metadata": {},
   "outputs": [],
   "source": [
    "with open('./artifacts/data.csv', encoding='utf-8') as f_in:\n",
    "    y = []\n",
    "    texts = []\n",
    "    for line in f_in:\n",
    "        movie_id, sentiment, *text = line.strip('\\n').split('\\t')\n",
    "        text = ' '.join(text)\n",
    "        if sentiment == 'bad' or sentiment == 'good':\n",
    "            y.append(1 if sentiment == 'good' else 0)\n",
    "            texts.append(text)"
   ]
  },
  {
   "cell_type": "code",
   "execution_count": 3,
   "metadata": {},
   "outputs": [
    {
     "name": "stdout",
     "output_type": "stream",
     "text": [
      "(9695, 197513)\n",
      "CPU times: total: 2.08 s\n",
      "Wall time: 2.07 s\n"
     ]
    }
   ],
   "source": [
    "%%time\n",
    "tfidf = TfidfVectorizer()\n",
    "X = tfidf.fit_transform(texts)\n",
    "print(X.shape)"
   ]
  },
  {
   "cell_type": "code",
   "execution_count": 4,
   "metadata": {},
   "outputs": [
    {
     "name": "stderr",
     "output_type": "stream",
     "text": [
      "[Parallel(n_jobs=-1)]: Using backend LokyBackend with 24 concurrent workers.\n",
      "[Parallel(n_jobs=-1)]: Done   2 out of   4 | elapsed:    1.9s remaining:    1.9s\n",
      "[Parallel(n_jobs=-1)]: Done   4 out of   4 | elapsed:    1.9s finished\n"
     ]
    },
    {
     "name": "stdout",
     "output_type": "stream",
     "text": [
      "Cross-validated AUC: 0.9388\n",
      "CPU times: total: 15.6 ms\n",
      "Wall time: 2.23 s\n"
     ]
    }
   ],
   "source": [
    "%%time\n",
    "y_pred_cv = cross_val_predict(LogisticRegression(), X, y, cv=4, n_jobs=-1, verbose=True, method='predict_proba')\n",
    "print('Cross-validated AUC: %.4f' % roc_auc_score(y, y_pred_cv[:,1]))"
   ]
  },
  {
   "cell_type": "code",
   "execution_count": 5,
   "metadata": {},
   "outputs": [
    {
     "name": "stdout",
     "output_type": "stream",
     "text": [
      "CPU times: total: 1.52 s\n",
      "Wall time: 1.37 s\n"
     ]
    },
    {
     "name": "stderr",
     "output_type": "stream",
     "text": [
      "C:\\Toolchain\\Python39\\lib\\site-packages\\sklearn\\utils\\deprecation.py:87: FutureWarning: Function get_feature_names is deprecated; get_feature_names is deprecated in 1.0 and will be removed in 1.2. Please use get_feature_names_out instead.\n",
      "  warnings.warn(msg, category=FutureWarning)\n"
     ]
    }
   ],
   "source": [
    "%%time\n",
    "L = LogisticRegression(solver='lbfgs', class_weight='balanced')\n",
    "L.fit(X, y)\n",
    "\n",
    "features = tfidf.get_feature_names()\n",
    "features_with_weights = pd.DataFrame(zip(features, L.coef_[0]), columns=['feature', 'weight']).sort_values('weight')"
   ]
  },
  {
   "cell_type": "code",
   "execution_count": 6,
   "metadata": {},
   "outputs": [
    {
     "data": {
      "text/html": [
       "<div>\n",
       "<style scoped>\n",
       "    .dataframe tbody tr th:only-of-type {\n",
       "        vertical-align: middle;\n",
       "    }\n",
       "\n",
       "    .dataframe tbody tr th {\n",
       "        vertical-align: top;\n",
       "    }\n",
       "\n",
       "    .dataframe thead th {\n",
       "        text-align: right;\n",
       "    }\n",
       "</style>\n",
       "<table border=\"1\" class=\"dataframe\">\n",
       "  <thead>\n",
       "    <tr style=\"text-align: right;\">\n",
       "      <th></th>\n",
       "      <th>feature</th>\n",
       "      <th>weight</th>\n",
       "    </tr>\n",
       "  </thead>\n",
       "  <tbody>\n",
       "    <tr>\n",
       "      <th>96279</th>\n",
       "      <td>ничего</td>\n",
       "      <td>-4.866933</td>\n",
       "    </tr>\n",
       "    <tr>\n",
       "      <th>94898</th>\n",
       "      <td>нет</td>\n",
       "      <td>-4.474639</td>\n",
       "    </tr>\n",
       "    <tr>\n",
       "      <th>52612</th>\n",
       "      <td>зачем</td>\n",
       "      <td>-4.249763</td>\n",
       "    </tr>\n",
       "    <tr>\n",
       "      <th>23583</th>\n",
       "      <td>вообще</td>\n",
       "      <td>-3.814362</td>\n",
       "    </tr>\n",
       "    <tr>\n",
       "      <th>95820</th>\n",
       "      <td>ни</td>\n",
       "      <td>-3.549688</td>\n",
       "    </tr>\n",
       "    <tr>\n",
       "      <th>...</th>\n",
       "      <td>...</td>\n",
       "      <td>...</td>\n",
       "    </tr>\n",
       "    <tr>\n",
       "      <th>103231</th>\n",
       "      <td>он</td>\n",
       "      <td>2.834327</td>\n",
       "    </tr>\n",
       "    <tr>\n",
       "      <th>60689</th>\n",
       "      <td>каждый</td>\n",
       "      <td>2.987372</td>\n",
       "    </tr>\n",
       "    <tr>\n",
       "      <th>107470</th>\n",
       "      <td>отлично</td>\n",
       "      <td>3.017201</td>\n",
       "    </tr>\n",
       "    <tr>\n",
       "      <th>17</th>\n",
       "      <td>10</td>\n",
       "      <td>3.180422</td>\n",
       "    </tr>\n",
       "    <tr>\n",
       "      <th>110115</th>\n",
       "      <td>очень</td>\n",
       "      <td>3.300382</td>\n",
       "    </tr>\n",
       "  </tbody>\n",
       "</table>\n",
       "<p>197513 rows × 2 columns</p>\n",
       "</div>"
      ],
      "text/plain": [
       "        feature    weight\n",
       "96279    ничего -4.866933\n",
       "94898       нет -4.474639\n",
       "52612     зачем -4.249763\n",
       "23583    вообще -3.814362\n",
       "95820        ни -3.549688\n",
       "...         ...       ...\n",
       "103231       он  2.834327\n",
       "60689    каждый  2.987372\n",
       "107470  отлично  3.017201\n",
       "17           10  3.180422\n",
       "110115    очень  3.300382\n",
       "\n",
       "[197513 rows x 2 columns]"
      ]
     },
     "execution_count": 6,
     "metadata": {},
     "output_type": "execute_result"
    }
   ],
   "source": [
    "features_with_weights"
   ]
  },
  {
   "cell_type": "code",
   "execution_count": 7,
   "metadata": {},
   "outputs": [
    {
     "data": {
      "image/png": "[encoded data removed]",
      "text/plain": [
       "<Figure size 432x288 with 1 Axes>"
      ]
     },
     "metadata": {
      "needs_background": "light"
     },
     "output_type": "display_data"
    },
    {
     "name": "stdout",
     "output_type": "stream",
     "text": [
      "0.42424242424242425 0.9755544094894275\n"
     ]
    }
   ],
   "source": [
    "plt.hist(L.predict_proba(X[np.array(y) == 0])[:, 1], bins=100)\n",
    "plt.hist(L.predict_proba(X[np.array(y) == 1])[:, 1], bins=100)\n",
    "plt.show()\n",
    "\n",
    "best_threshold, best_accuracy = 0.0, 0.0\n",
    "for _ in np.linspace(0, 1, 100):\n",
    "    correct_0 = np.sum(L.predict_proba(X[np.array(y) == 0])[:, 1] < _)\n",
    "    correct_1 = np.sum(L.predict_proba(X[np.array(y) == 1])[:, 1] > _)\n",
    "    accuracy_0 = (correct_0) / (np.sum(np.array(y) == 0))\n",
    "    accuracy_1 = (correct_1) / (np.sum(np.array(y) == 1))\n",
    "    accuracy = (correct_0 + correct_1) / (np.sum(np.array(y) == 0) + np.sum(np.array(y) == 1))\n",
    "    if best_accuracy < accuracy:\n",
    "        best_threshold, best_accuracy = _, accuracy\n",
    "#     print(\"{0:.3f}\\t{1:.3f}\\t{2:.3f}\\t{3:.3f}\\t\".format(_, accuracy_0, accuracy_1, accuracy))\n",
    "print(best_threshold, best_accuracy)"
   ]
  },
  {
   "cell_type": "code",
   "execution_count": 8,
   "metadata": {},
   "outputs": [],
   "source": [
    "os.makedirs('./artifacts', exist_ok=True)\n",
    "with open('./artifacts/logreg.pkl', 'wb') as f_out:\n",
    "    pickle.dump(L, f_out)\n",
    "with open('./artifacts/tf-idf.pkl', 'wb') as f_out:\n",
    "    pickle.dump(tfidf, f_out)\n",
    "with open('./artifacts/params.pkl', 'wb') as f_out:\n",
    "    pickle.dump({'threshold': best_threshold}, f_out)"
   ]
  }
 ],
 "metadata": {
  "kernelspec": {
   "display_name": "Python 3",
   "language": "python",
   "name": "python3"
  },
  "language_info": {
   "codemirror_mode": {
    "name": "ipython",
    "version": 3
   },
   "file_extension": ".py",
   "mimetype": "text/x-python",
   "name": "python",
   "nbconvert_exporter": "python",
   "pygments_lexer": "ipython3",
   "version": "3.9.10"
  }
 },
 "nbformat": 4,
 "nbformat_minor": 2
}
